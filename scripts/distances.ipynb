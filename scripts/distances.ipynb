{
 "cells": [
  {
   "cell_type": "markdown",
   "metadata": {},
   "source": [
    "## Distances Between Histograms of Programs (POJ 104)"
   ]
  },
  {
   "cell_type": "markdown",
   "metadata": {},
   "source": [
    "### Loading the libraries"
   ]
  },
  {
   "cell_type": "code",
   "execution_count": 40,
   "metadata": {},
   "outputs": [],
   "source": [
    "from IPython.display import display\n",
    "import matplotlib.pyplot as plt\n",
    "import pandas as pd\n",
    "import numpy as np"
   ]
  },
  {
   "cell_type": "markdown",
   "metadata": {},
   "source": [
    "### Loading the datasets"
   ]
  },
  {
   "cell_type": "code",
   "execution_count": 41,
   "metadata": {},
   "outputs": [],
   "source": [
    "o3 = pd.read_csv(\"../features/poj_features_O3.csv\", skipinitialspace=True)\n",
    "o3 = o3.set_index('id')\n",
    "\n",
    "o0 = pd.read_csv(\"../features/poj_features_O0.csv\", skipinitialspace=True)\n",
    "o0 = o0.set_index('id')\n",
    "\n",
    "ollvm = pd.read_csv(\"../features/poj_features_ollvm.csv\", skipinitialspace=True)\n",
    "ollvm = ollvm.set_index('id')"
   ]
  },
  {
   "cell_type": "markdown",
   "metadata": {},
   "source": [
    "### Datasets Normalization (Min-Max Normalization)"
   ]
  },
  {
   "cell_type": "code",
   "execution_count": 42,
   "metadata": {},
   "outputs": [],
   "source": [
    "def norm(df):\n",
    "    cout = 0\n",
    "    for column in df.columns:\n",
    "        if not (df[column].max() == 0 and df[column].min() == 0):\n",
    "            dif = df[column].max() - df[column].min()\n",
    "            df[column] = (df[column] - df[column].min())/dif\n",
    "        print(\"Column {} calculated\".format(cout), end='\\r')\n",
    "        cout += 1\n",
    "    return df"
   ]
  },
  {
   "cell_type": "code",
   "execution_count": 43,
   "metadata": {},
   "outputs": [
    {
     "name": "stdout",
     "output_type": "stream",
     "text": [
      "Column 51663 calculated\r"
     ]
    },
    {
     "name": "stderr",
     "output_type": "stream",
     "text": [
      "/tmp/ipykernel_278114/1074010890.py:6: FutureWarning: The frame.append method is deprecated and will be removed from pandas in a future version. Use pandas.concat instead.\n",
      "  o3 = o3.append(o3c)\n"
     ]
    }
   ],
   "source": [
    "o3 = o3.T\n",
    "o3c = o3.loc['class']\n",
    "o3 = o3.drop(['class'])\n",
    "\n",
    "o3 = norm(o3)\n",
    "o3 = o3.append(o3c)\n",
    "o3 = o3.T"
   ]
  },
  {
   "cell_type": "code",
   "execution_count": 44,
   "metadata": {},
   "outputs": [
    {
     "name": "stdout",
     "output_type": "stream",
     "text": [
      "Column 51984 calculated\r"
     ]
    },
    {
     "name": "stderr",
     "output_type": "stream",
     "text": [
      "/tmp/ipykernel_278114/2777341679.py:6: FutureWarning: The frame.append method is deprecated and will be removed from pandas in a future version. Use pandas.concat instead.\n",
      "  o0 = o0.append(o0c)\n"
     ]
    }
   ],
   "source": [
    "o0 = o0.T\n",
    "o0c = o0.loc['class']\n",
    "o0 = o0.drop(['class'])\n",
    "\n",
    "o0 = norm(o0)\n",
    "o0 = o0.append(o0c)\n",
    "o0 = o0.T"
   ]
  },
  {
   "cell_type": "code",
   "execution_count": 45,
   "metadata": {},
   "outputs": [
    {
     "name": "stdout",
     "output_type": "stream",
     "text": [
      "Column 51960 calculated\r"
     ]
    },
    {
     "name": "stderr",
     "output_type": "stream",
     "text": [
      "/tmp/ipykernel_278114/3911662077.py:6: FutureWarning: The frame.append method is deprecated and will be removed from pandas in a future version. Use pandas.concat instead.\n",
      "  ollvm = ollvm.append(ollvmc)\n"
     ]
    }
   ],
   "source": [
    "ollvm = ollvm.T\n",
    "ollvmc = ollvm.loc['class']\n",
    "ollvm = ollvm.drop(['class'])\n",
    "\n",
    "ollvm = norm(ollvm)\n",
    "ollvm = ollvm.append(ollvmc)\n",
    "ollvm = ollvm.T"
   ]
  },
  {
   "cell_type": "markdown",
   "metadata": {},
   "source": [
    "### Collecting the distances between the programs of all classes\n",
    "`o3Distances` is the distance between optimized and original programs.\n",
    "`ollvmDistances` is the distance between obfuscated and original programs."
   ]
  },
  {
   "cell_type": "code",
   "execution_count": 52,
   "metadata": {},
   "outputs": [
    {
     "name": "stdout",
     "output_type": "stream",
     "text": [
      "The index 51984 was successfully calculated\r"
     ]
    }
   ],
   "source": [
    "o3Distances = np.zeros(o0.shape[0])\n",
    "ollvmDistances = np.zeros(o0.shape[0])\n",
    "\n",
    "i = 0\n",
    "for _, row in o0.loc[:, o0.columns != 'class'].iterrows():\n",
    "    id = row.name\n",
    "    original = row.to_numpy()\n",
    "\n",
    "    if id in o3.index:\n",
    "        temp = o3.loc[:, o3.columns != 'class'].loc[id]\n",
    "        otimized = temp.to_numpy()\n",
    "        dist = np.linalg.norm(original - otimized)\n",
    "        o3Distances[i] = dist\n",
    "\n",
    "    if id in ollvm.index:\n",
    "        temp = ollvm.loc[:, ollvm.columns != 'class'].loc[id]\n",
    "        obfuscated = temp.to_numpy()\n",
    "        dist = np.linalg.norm(original - obfuscated)\n",
    "        ollvmDistances[i] = dist\n",
    "\n",
    "    print(\"The index {} was successfully calculated\".format(i), end='\\r')\n",
    "    i += 1"
   ]
  },
  {
   "cell_type": "code",
   "execution_count": 53,
   "metadata": {},
   "outputs": [
    {
     "name": "stdout",
     "output_type": "stream",
     "text": [
      "Sum of distances between the O3 programs to original programs: 69862.17780340453\n",
      "Sum of distances between the OLLVM programs to original programs: 70250.14997856955\n"
     ]
    }
   ],
   "source": [
    "print(\"Sum of distances between the O3 programs to original programs: {}\".format(sum(o3Distances)))\n",
    "print(\"Sum of distances between the OLLVM programs to original programs: {}\".format(sum(ollvmDistances)))"
   ]
  },
  {
   "cell_type": "code",
   "execution_count": 78,
   "metadata": {},
   "outputs": [
    {
     "data": {
      "image/png": "[encoded data removed]",
      "text/plain": [
       "<Figure size 576x360 with 1 Axes>"
      ]
     },
     "metadata": {
      "needs_background": "light"
     },
     "output_type": "display_data"
    }
   ],
   "source": [
    "fig, ax = plt.subplots(1, 1, figsize=(8,5))\n",
    "\n",
    "fig.suptitle('Distance Between Original and Obfuscated Program', fontsize=15)\n",
    "ax.boxplot(\n",
    "    [o3Distances, ollvmDistances], \n",
    "    vert=False, \n",
    "    showfliers=True,\n",
    "    labels=('O3', 'OLLVM')\n",
    ")\n",
    "ax.set_xlabel(\"Distance\", fontsize=12)\n",
    "\n",
    "# plt.savefig('distance.pdf')\n",
    "fig.tight_layout()"
   ]
  },
  {
   "cell_type": "code",
   "execution_count": 55,
   "metadata": {},
   "outputs": [
    {
     "name": "stdout",
     "output_type": "stream",
     "text": [
      "Number of outliers of OLLVM: 511\n",
      "Number of outliers of O3: 690\n"
     ]
    }
   ],
   "source": [
    "df_O3Distances = pd.Series(o3Distances)\n",
    "df_ollvmDistances = pd.Series(ollvmDistances)\n",
    "\n",
    "def countOutliers(df):\n",
    "    Q1 = df.quantile(0.25)\n",
    "    Q3 = df.quantile(0.75)\n",
    "    IQR = Q3 - Q1\n",
    "\n",
    "    return ((df < (Q1 - 1.5 * IQR)) | (df > (Q3 + 1.5 * IQR)))\n",
    "\n",
    "out = countOutliers(df_ollvmDistances)\n",
    "print(\"Number of outliers of OLLVM: {}\".format(out.sum()))\n",
    "out2 = countOutliers(df_O3Distances)\n",
    "print(\"Number of outliers of O3: {}\".format(out2.sum()))"
   ]
  },
  {
   "cell_type": "markdown",
   "metadata": {},
   "source": [
    "### Collecting the distances between the programs of two different classes\n",
    "`o3Distances` is the distance between optimized and original programs.\n",
    "`ollvmDistances` is the distance between obfuscated and original programs."
   ]
  },
  {
   "cell_type": "code",
   "execution_count": 82,
   "metadata": {},
   "outputs": [
    {
     "name": "stdout",
     "output_type": "stream",
     "text": [
      "Class 18 selected\n",
      "Class 48 selected\n"
     ]
    }
   ],
   "source": [
    "c1 = np.random.randint(1, 104)\n",
    "c2 = np.random.randint(1, 104)\n",
    "\n",
    "o0c1 = o0[o0['class'] == c1]\n",
    "o0c2 = o0[o0['class'] == c2]\n",
    "\n",
    "o3c1 = o3[o3['class'] == c1]\n",
    "o3c2 = o3[o3['class'] == c2]\n",
    "\n",
    "ollvmc1 = ollvm[ollvm['class'] == c1]\n",
    "ollvmc2 = ollvm[ollvm['class'] == c2]\n",
    "\n",
    "print(\"Class {} selected\".format(c1))\n",
    "print(\"Class {} selected\".format(c2))"
   ]
  },
  {
   "cell_type": "code",
   "execution_count": 83,
   "metadata": {},
   "outputs": [],
   "source": [
    "o3c1Distances = np.zeros(o0c1.shape[0])\n",
    "ollvmc1Distances = np.zeros(o0c1.shape[0])\n",
    "\n",
    "o3c2Distances = np.zeros(o0c2.shape[0])\n",
    "ollvmc2Distances = np.zeros(o0c2.shape[0])\n",
    "\n",
    "def classDistance(o0c, o3c, ollvmc, o3cDistances, ollvmcDistances):\n",
    "    i = 0\n",
    "    for _, row in o0c.loc[:, o0c.columns != 'class'].iterrows():\n",
    "        id = row.name\n",
    "        original = row.to_numpy()\n",
    "\n",
    "        if id in o3c.index:\n",
    "            temp = o3c.loc[:, o3c.columns != 'class'].loc[id]\n",
    "            otimized = temp.to_numpy()\n",
    "            dist = np.linalg.norm(original - otimized)\n",
    "            o3cDistances[i] = dist\n",
    "\n",
    "        if id in ollvmc.index:\n",
    "            temp = ollvmc.loc[:, ollvmc.columns != 'class'].loc[id]\n",
    "            obfuscated = temp.to_numpy()\n",
    "            dist = np.linalg.norm(original - obfuscated)\n",
    "            ollvmcDistances[i] = dist\n",
    "\n",
    "        print(\"The index {} was successfully calculated\".format(i), end='\\r')\n",
    "        i += 1\n",
    "    return (o3cDistances, ollvmcDistances)"
   ]
  },
  {
   "cell_type": "markdown",
   "metadata": {},
   "source": [
    "#### ~> Distances for the fisrt class"
   ]
  },
  {
   "cell_type": "code",
   "execution_count": 84,
   "metadata": {},
   "outputs": [
    {
     "name": "stdout",
     "output_type": "stream",
     "text": [
      "The index 499 was successfully calculated\r"
     ]
    }
   ],
   "source": [
    "result = classDistance(o0c1, o3c1, ollvmc1, o3c1Distances, ollvmc1Distances)\n",
    "o3c1Distances = result[0]\n",
    "ollvmc1Distances = result[1]"
   ]
  },
  {
   "cell_type": "code",
   "execution_count": 85,
   "metadata": {},
   "outputs": [
    {
     "name": "stdout",
     "output_type": "stream",
     "text": [
      "Sum of distances between the O3 programs to original programs: 626.0877331721099\n",
      "Sum of distances between the OLLVM programs to original programs: 718.4451920784828\n"
     ]
    }
   ],
   "source": [
    "print(\"Sum of distances between the O3 programs to original programs: {}\".format(sum(o3c1Distances)))\n",
    "print(\"Sum of distances between the OLLVM programs to original programs: {}\".format(sum(ollvmc1Distances)))"
   ]
  },
  {
   "cell_type": "code",
   "execution_count": 86,
   "metadata": {},
   "outputs": [
    {
     "data": {
      "image/png": "[encoded data removed]",
      "text/plain": [
       "<Figure size 576x360 with 1 Axes>"
      ]
     },
     "metadata": {
      "needs_background": "light"
     },
     "output_type": "display_data"
    }
   ],
   "source": [
    "fig, ax = plt.subplots(1, 1, figsize=(8,5))\n",
    "\n",
    "fig.suptitle('Distance Between Original and Obfuscated Program (class {})'.format(c1), fontsize=15)\n",
    "ax.boxplot(\n",
    "    [o3c1Distances, ollvmc1Distances], \n",
    "    vert=False, \n",
    "    showfliers=True,\n",
    "    labels=('O3', 'OLLVM')\n",
    ")\n",
    "ax.set_xlabel(\"Distance\", fontsize=12)\n",
    "\n",
    "# plt.savefig('distance.pdf')\n",
    "fig.tight_layout()"
   ]
  },
  {
   "cell_type": "markdown",
   "metadata": {},
   "source": [
    "#### ~> Distances for the second class"
   ]
  },
  {
   "cell_type": "code",
   "execution_count": 87,
   "metadata": {},
   "outputs": [
    {
     "name": "stdout",
     "output_type": "stream",
     "text": [
      "The index 499 was successfully calculated\r"
     ]
    }
   ],
   "source": [
    "result = classDistance(o0c2, o3c2, ollvmc2, o3c2Distances, ollvmc2Distances)\n",
    "o3c2Distances = result[0]\n",
    "ollvmc2Distances = result[1]"
   ]
  },
  {
   "cell_type": "code",
   "execution_count": 88,
   "metadata": {},
   "outputs": [
    {
     "name": "stdout",
     "output_type": "stream",
     "text": [
      "Sum of distances between the O3 programs to original programs: 694.1863722734745\n",
      "Sum of distances between the OLLVM programs to original programs: 675.3800723598409\n"
     ]
    }
   ],
   "source": [
    "print(\"Sum of distances between the O3 programs to original programs: {}\".format(sum(o3c2Distances)))\n",
    "print(\"Sum of distances between the OLLVM programs to original programs: {}\".format(sum(ollvmc2Distances)))"
   ]
  },
  {
   "cell_type": "code",
   "execution_count": 89,
   "metadata": {},
   "outputs": [
    {
     "data": {
      "image/png": "[encoded data removed]",
      "text/plain": [
       "<Figure size 576x360 with 1 Axes>"
      ]
     },
     "metadata": {
      "needs_background": "light"
     },
     "output_type": "display_data"
    }
   ],
   "source": [
    "fig, ax = plt.subplots(1, 1, figsize=(8,5))\n",
    "\n",
    "fig.suptitle('Distance Between Original and Obfuscated Program (class {})'.format(c2), fontsize=15)\n",
    "ax.boxplot(\n",
    "    [o3c2Distances, ollvmc2Distances], \n",
    "    vert=False, \n",
    "    showfliers=True,\n",
    "    labels=('O3', 'OLLVM')\n",
    ")\n",
    "ax.set_xlabel(\"Distance\", fontsize=12)\n",
    "\n",
    "# plt.savefig('distance.pdf')\n",
    "fig.tight_layout()"
   ]
  }
 ],
 "metadata": {
  "interpreter": {
   "hash": "01e7c7d7ec257f9eb0afddb62dcc5c6c892349c403c45d1a9a69a2e87dc39a1a"
  },
  "kernelspec": {
   "display_name": "Python 3.8.10 ('venv': venv)",
   "language": "python",
   "name": "python3"
  },
  "language_info": {
   "codemirror_mode": {
    "name": "ipython",
    "version": 3
   },
   "file_extension": ".py",
   "mimetype": "text/x-python",
   "name": "python",
   "nbconvert_exporter": "python",
   "pygments_lexer": "ipython3",
   "version": "3.8.10"
  },
  "orig_nbformat": 4
 },
 "nbformat": 4,
 "nbformat_minor": 2
}
