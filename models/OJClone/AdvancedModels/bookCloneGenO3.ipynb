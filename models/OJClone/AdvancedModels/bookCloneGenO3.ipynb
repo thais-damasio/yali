{
  "cells": [
    {
      "cell_type": "markdown",
      "metadata": {
        "id": "UXCz4B_NTSsY"
      },
      "source": [
        "## Models with OJClone Dataset (CloneGen+O3)\n",
        "Models trained and tested with CloneGen obfuscation methods + O3\n",
        "\n",
        "---"
      ]
    },
    {
      "cell_type": "markdown",
      "metadata": {},
      "source": [
        "### Setup"
      ]
    },
    {
      "cell_type": "markdown",
      "metadata": {
        "id": "ng9natt-O0QO"
      },
      "source": [
        "#### ~> Installing Libraries"
      ]
    },
    {
      "cell_type": "code",
      "execution_count": 1,
      "metadata": {
        "id": "Uv3ec1BIO41p"
      },
      "outputs": [],
      "source": [
        "!pip3 install -q seaborn\n",
        "!pip3 install -q sklearn\n",
        "!pip3 install -q keras"
      ]
    },
    {
      "cell_type": "markdown",
      "metadata": {
        "id": "MdjlFzdWIU44"
      },
      "source": [
        "#### ~> Imports of the project"
      ]
    },
    {
      "cell_type": "code",
      "execution_count": 2,
      "metadata": {
        "id": "gFEGuxDNK0rk"
      },
      "outputs": [],
      "source": [
        "from models import model_knn, model_MLP, model_SGD, model_regRegression, model_svm, model_rf\n",
        "from sklearn.model_selection import train_test_split\n",
        "import pandas as pd\n",
        "import numpy as np\n",
        "import warnings\n",
        "\n",
        "warnings.filterwarnings('ignore')"
      ]
    },
    {
      "cell_type": "markdown",
      "metadata": {
        "id": "W1wctYcqLD6p"
      },
      "source": [
        "#### ~> Loading the Datasets"
      ]
    },
    {
      "cell_type": "code",
      "execution_count": 3,
      "metadata": {
        "id": "ZhVyWz1HLHhJ"
      },
      "outputs": [],
      "source": [
        "# Without Obfuscations\n",
        "df = pd.read_csv(\"./../../../features/OJClone/ojclone_features_O0.csv\", skipinitialspace=True)\n",
        "\n",
        "# Optimizations\n",
        "df_O3 = pd.read_csv(\"./../../../features/OJClone/ojclone_features_O3.csv\", skipinitialspace=True)\n",
        "\n",
        "# Obfuscations+O3\n",
        "df_drlsg_O3 = pd.read_csv(\"./../../../features/OJClone/ojclone_features_DRLSG_O3.csv\", skipinitialspace=True)\n",
        "df_ga_O3 = pd.read_csv(\"./../../../features/OJClone/ojclone_features_GA_O3.csv\", skipinitialspace=True)\n",
        "df_mcmc_O3 = pd.read_csv(\"./../../../features/OJClone/ojclone_features_MCMC_O3.csv\", skipinitialspace=True)\n",
        "df_rs_O3 = pd.read_csv(\"./../../../features/OJClone/ojclone_features_RS_O3.csv\", skipinitialspace=True)"
      ]
    },
    {
      "cell_type": "markdown",
      "metadata": {
        "id": "Hy799cXbCHbQ"
      },
      "source": [
        "#### ~> Split the datasets into a training and test set"
      ]
    },
    {
      "cell_type": "code",
      "execution_count": 4,
      "metadata": {
        "colab": {
          "base_uri": "https://localhost:8080/"
        },
        "id": "dfFdipbxiOGc",
        "outputId": "c311f605-f131-464c-862f-75669ab426f9"
      },
      "outputs": [],
      "source": [
        "# Without Obfuscations\n",
        "train, test = train_test_split(df, test_size=0.2)\n",
        "\n",
        "# Optimizations\n",
        "train_O3, test_O3 = train_test_split(df_O3, test_size=0.2)\n",
        "\n",
        "# CloneGen\n",
        "train_drlsg_O3, test_drlsg_O3 = train_test_split(df_drlsg_O3, test_size=0.2)\n",
        "train_ga_O3, test_ga_O3 = train_test_split(df_ga_O3, test_size=0.2)\n",
        "train_mcmc_O3, test_mcmc_O3 = train_test_split(df_mcmc_O3, test_size=0.2)\n",
        "train_rs_O3, test_rs_O3 = train_test_split(df_rs_O3, test_size=0.2)"
      ]
    },
    {
      "cell_type": "markdown",
      "metadata": {},
      "source": [
        "### Case of Studies"
      ]
    },
    {
      "cell_type": "markdown",
      "metadata": {},
      "source": [
        "#### ~> Obfuscations"
      ]
    },
    {
      "cell_type": "code",
      "execution_count": 5,
      "metadata": {},
      "outputs": [],
      "source": [
        "# O3\n",
        "x_train_O3, y_train_O3 = train_O3.iloc[:,1:-1].to_numpy(), train_O3.iloc[:,-1].to_numpy()\n",
        "x_test_O3, y_test_O3 = test_O3.iloc[:,1:-1].to_numpy(), test_O3.iloc[:,-1].to_numpy() \n",
        "\n",
        "# Training and testing database without obfuscation\n",
        "x_train, y_train = train.iloc[:,1:-1].to_numpy(), train.iloc[:,-1].to_numpy()\n",
        "x_test, y_test = test.iloc[:,1:-1].to_numpy(), test.iloc[:,-1].to_numpy()  "
      ]
    },
    {
      "cell_type": "markdown",
      "metadata": {
        "id": "tzZPw44ASgXN"
      },
      "source": [
        "##### **DRLSG+O3**\n"
      ]
    },
    {
      "cell_type": "code",
      "execution_count": 6,
      "metadata": {},
      "outputs": [],
      "source": [
        "# DRLSG + O3\n",
        "x_train_drlsg_O3, y_train_drlsg_O3 = train_drlsg_O3.iloc[:,1:-1].to_numpy(), train_drlsg_O3.iloc[:,-1].to_numpy()\n",
        "x_test_drlsg_O3, y_test_drlsg_O3 = test_drlsg_O3.iloc[:,1:-1].to_numpy(), test_drlsg_O3.iloc[:,-1].to_numpy()"
      ]
    },
    {
      "cell_type": "markdown",
      "metadata": {},
      "source": [
        "Using DRLSG+O3 only in the testing phase in a model trained with O0"
      ]
    },
    {
      "cell_type": "code",
      "execution_count": 7,
      "metadata": {
        "colab": {
          "base_uri": "https://localhost:8080/"
        },
        "id": "vs3OKZkccRLZ",
        "outputId": "a32b09d6-38b1-4d1c-b34a-c008b35e25de"
      },
      "outputs": [
        {
          "name": "stdout",
          "output_type": "stream",
          "text": [
            "model, accuracy, precision, recall, fscore, time (s)\n",
            "KNN, 0.0443, 0.0606, 0.0432, 0.0280, 0.4286\n",
            "Random Forest, 0.1862, 0.2471, 0.1848, 0.1675, 2.2807\n",
            "SVM, 0.0626, 0.1283, 0.0620, 0.0502, 496.5516\n",
            "SGD, 0.0524, 0.1017, 0.0519, 0.0439, 13.1461\n",
            "MLP, 0.0455, 0.0631, 0.0451, 0.0373, 270.0722\n",
            "Regressão Logística, 0.0628, 0.0921, 0.0605, 0.0437, 33.5647\n"
          ]
        }
      ],
      "source": [
        "print(\"model, accuracy, precision, recall, fscore, time (s)\")\n",
        "# KNN\n",
        "model_knn(x_train, y_train, x_test_drlsg_O3, y_test_drlsg_O3)\n",
        "# Random Forest\n",
        "model_rf(x_train, y_train, x_test_drlsg_O3, y_test_drlsg_O3)\n",
        "# SVM\n",
        "model_svm(x_train, y_train, x_test_drlsg_O3, y_test_drlsg_O3)\n",
        "# Stochastic Gradient Descent\n",
        "model_SGD(x_train, y_train, x_test_drlsg_O3, y_test_drlsg_O3)\n",
        "# Multi-layer Perceptron\n",
        "model_MLP(x_train, y_train, x_test_drlsg_O3, y_test_drlsg_O3)\n",
        "# Regressão Logística\n",
        "model_regRegression(x_train, y_train, x_test_drlsg_O3, y_test_drlsg_O3)"
      ]
    },
    {
      "cell_type": "markdown",
      "metadata": {
        "id": "CLONNJP5TFEi"
      },
      "source": [
        "Using DRLSG+O3 only in the testing phase in a model trained with O3"
      ]
    },
    {
      "cell_type": "code",
      "execution_count": 8,
      "metadata": {
        "colab": {
          "base_uri": "https://localhost:8080/"
        },
        "id": "Q7YVjyOYc5UL",
        "outputId": "bce672fe-ab9c-4d22-c5e3-6dc3f36876ac"
      },
      "outputs": [
        {
          "name": "stdout",
          "output_type": "stream",
          "text": [
            "model, accuracy, precision, recall, fscore, time (s)\n",
            "KNN, 0.6388, 0.6703, 0.6394, 0.6410, 0.0302\n",
            "Random Forest, 0.8169, 0.8352, 0.8176, 0.8158, 2.2665\n",
            "SVM, 0.3447, 0.5775, 0.3431, 0.3495, 483.9092\n",
            "SGD, 0.3339, 0.5253, 0.3344, 0.3493, 9.3635\n",
            "MLP, 0.4632, 0.4914, 0.4646, 0.4559, 201.8056\n",
            "Regressão Logística, 0.5370, 0.5646, 0.5362, 0.5325, 32.9396\n"
          ]
        }
      ],
      "source": [
        "print(\"model, accuracy, precision, recall, fscore, time (s)\")\n",
        "# KNN\n",
        "model_knn(x_train_O3, y_train_O3, x_test_drlsg_O3, y_test_drlsg_O3)\n",
        "# Random Forest\n",
        "model_rf(x_train_O3, y_train_O3, x_test_drlsg_O3, y_test_drlsg_O3)\n",
        "# SVM\n",
        "model_svm(x_train_O3, y_train_O3, x_test_drlsg_O3, y_test_drlsg_O3)\n",
        "# Stochastic Gradient Descent\n",
        "model_SGD(x_train_O3, y_train_O3, x_test_drlsg_O3, y_test_drlsg_O3)\n",
        "# Multi-layer Perceptron\n",
        "model_MLP(x_train_O3, y_train_O3, x_test_drlsg_O3, y_test_drlsg_O3)\n",
        "# Regressão Logística\n",
        "model_regRegression(x_train_O3, y_train_O3, x_test_drlsg_O3, y_test_drlsg_O3)"
      ]
    },
    {
      "cell_type": "markdown",
      "metadata": {},
      "source": [
        "##### **GA+O3**"
      ]
    },
    {
      "cell_type": "code",
      "execution_count": 9,
      "metadata": {},
      "outputs": [],
      "source": [
        "# GA + O3\n",
        "x_train_ga_O3, y_train_ga_O3 = train_ga_O3.iloc[:,1:-1].to_numpy(), train_ga_O3.iloc[:,-1].to_numpy()\n",
        "x_test_ga_O3, y_test_ga_O3 = test_ga_O3.iloc[:,1:-1].to_numpy(), test_ga_O3.iloc[:,-1].to_numpy()"
      ]
    },
    {
      "cell_type": "markdown",
      "metadata": {},
      "source": [
        "Using GA+O3 only in the testing phase in a model trained with O0"
      ]
    },
    {
      "cell_type": "code",
      "execution_count": 10,
      "metadata": {},
      "outputs": [
        {
          "name": "stdout",
          "output_type": "stream",
          "text": [
            "model, accuracy, precision, recall, fscore, time (s)\n",
            "KNN, 0.0590, 0.0578, 0.0489, 0.0323, 0.0063\n",
            "Random Forest, 0.2344, 0.2506, 0.1944, 0.1773, 2.0462\n",
            "SVM, 0.0797, 0.0980, 0.0675, 0.0530, 433.9901\n",
            "SGD, 0.0904, 0.1146, 0.0772, 0.0592, 11.9325\n",
            "MLP, 0.0518, 0.0514, 0.0485, 0.0395, 236.3459\n",
            "Regressão Logística, 0.0874, 0.1030, 0.0689, 0.0514, 33.7084\n"
          ]
        }
      ],
      "source": [
        "print(\"model, accuracy, precision, recall, fscore, time (s)\")\n",
        "# KNN\n",
        "model_knn(x_train, y_train, x_test_ga_O3, y_test_ga_O3)\n",
        "# Random Forest\n",
        "model_rf(x_train, y_train, x_test_ga_O3, y_test_ga_O3)\n",
        "# SVM\n",
        "model_svm(x_train, y_train, x_test_ga_O3, y_test_ga_O3)\n",
        "# Stochastic Gradient Descent\n",
        "model_SGD(x_train, y_train, x_test_ga_O3, y_test_ga_O3)\n",
        "# Multi-layer Perceptron\n",
        "model_MLP(x_train, y_train, x_test_ga_O3, y_test_ga_O3)\n",
        "# Regressão Logística\n",
        "model_regRegression(x_train, y_train, x_test_ga_O3, y_test_ga_O3)"
      ]
    },
    {
      "cell_type": "markdown",
      "metadata": {},
      "source": [
        "Using GA+O3 only in the testing phase in a model trained with O3"
      ]
    },
    {
      "cell_type": "code",
      "execution_count": 11,
      "metadata": {},
      "outputs": [
        {
          "name": "stdout",
          "output_type": "stream",
          "text": [
            "model, accuracy, precision, recall, fscore, time (s)\n",
            "KNN, 0.7096, 0.7086, 0.7017, 0.6891, 0.0082\n",
            "Random Forest, 0.8781, 0.8887, 0.8764, 0.8725, 2.2871\n",
            "SVM, 0.4431, 0.5392, 0.4080, 0.4088, 480.5647\n",
            "SGD, 0.3937, 0.4944, 0.3832, 0.3753, 8.3529\n",
            "MLP, 0.5290, 0.5164, 0.4940, 0.4852, 319.5197\n",
            "Regressão Logística, 0.5893, 0.5796, 0.5716, 0.5549, 33.6989\n"
          ]
        }
      ],
      "source": [
        "print(\"model, accuracy, precision, recall, fscore, time (s)\")\n",
        "# KNN\n",
        "model_knn(x_train_O3, y_train_O3, x_test_ga_O3, y_test_ga_O3)\n",
        "# Random Forest\n",
        "model_rf(x_train_O3, y_train_O3, x_test_ga_O3, y_test_ga_O3)\n",
        "# SVM\n",
        "model_svm(x_train_O3, y_train_O3, x_test_ga_O3, y_test_ga_O3)\n",
        "# Stochastic Gradient Descent\n",
        "model_SGD(x_train_O3, y_train_O3, x_test_ga_O3, y_test_ga_O3)\n",
        "# Multi-layer Perceptron\n",
        "model_MLP(x_train_O3, y_train_O3, x_test_ga_O3, y_test_ga_O3)\n",
        "# Regressão Logística\n",
        "model_regRegression(x_train_O3, y_train_O3, x_test_ga_O3, y_test_ga_O3)"
      ]
    },
    {
      "cell_type": "markdown",
      "metadata": {},
      "source": [
        "##### **MCMC+O3**"
      ]
    },
    {
      "cell_type": "code",
      "execution_count": 12,
      "metadata": {},
      "outputs": [],
      "source": [
        "# MCMC + O3\n",
        "x_train_mcmc_O3, y_train_mcmc_O3 = train_mcmc_O3.iloc[:,1:-1].to_numpy(), train_mcmc_O3.iloc[:,-1].to_numpy()\n",
        "x_test_mcmc_O3, y_test_mcmc_O3 = test_mcmc_O3.iloc[:,1:-1].to_numpy(), test_mcmc_O3.iloc[:,-1].to_numpy()"
      ]
    },
    {
      "cell_type": "markdown",
      "metadata": {},
      "source": [
        "Using MCMC+O3 only in the testing phase in a model trained with O0"
      ]
    },
    {
      "cell_type": "code",
      "execution_count": 13,
      "metadata": {},
      "outputs": [
        {
          "name": "stdout",
          "output_type": "stream",
          "text": [
            "model, accuracy, precision, recall, fscore, time (s)\n",
            "KNN, 0.0549, 0.0890, 0.0486, 0.0346, 0.0070\n",
            "Random Forest, 0.2347, 0.2813, 0.2095, 0.1884, 1.8245\n",
            "SVM, 0.0722, 0.1337, 0.0666, 0.0534, 407.9540\n",
            "SGD, 0.0739, 0.0907, 0.0687, 0.0555, 9.9238\n",
            "MLP, 0.0559, 0.0629, 0.0527, 0.0430, 207.1046\n",
            "Regressão Logística, 0.0772, 0.0761, 0.0679, 0.0530, 30.3435\n"
          ]
        }
      ],
      "source": [
        "print(\"model, accuracy, precision, recall, fscore, time (s)\")\n",
        "# KNN\n",
        "model_knn(x_train, y_train, x_test_mcmc_O3, y_test_mcmc_O3)\n",
        "# Random Forest\n",
        "model_rf(x_train, y_train, x_test_mcmc_O3, y_test_mcmc_O3)\n",
        "# SVM\n",
        "model_svm(x_train, y_train, x_test_mcmc_O3, y_test_mcmc_O3)\n",
        "# Stochastic Gradient Descent\n",
        "model_SGD(x_train, y_train, x_test_mcmc_O3, y_test_mcmc_O3)\n",
        "# Multi-layer Perceptron\n",
        "model_MLP(x_train, y_train, x_test_mcmc_O3, y_test_mcmc_O3)\n",
        "# Regressão Logística\n",
        "model_regRegression(x_train, y_train, x_test_mcmc_O3, y_test_mcmc_O3)"
      ]
    },
    {
      "cell_type": "markdown",
      "metadata": {},
      "source": [
        "Using MCMC+O3 only in the testing phase in a model trained with O3"
      ]
    },
    {
      "cell_type": "code",
      "execution_count": 14,
      "metadata": {},
      "outputs": [
        {
          "name": "stdout",
          "output_type": "stream",
          "text": [
            "model, accuracy, precision, recall, fscore, time (s)\n",
            "KNN, 0.7077, 0.7151, 0.7012, 0.6985, 0.0086\n",
            "Random Forest, 0.8998, 0.9068, 0.8985, 0.8990, 2.5823\n",
            "SVM, 0.4732, 0.6346, 0.4479, 0.4572, 508.1566\n",
            "SGD, 0.3848, 0.5227, 0.3749, 0.3804, 9.0417\n",
            "MLP, 0.5276, 0.5298, 0.5056, 0.4997, 239.9482\n",
            "Regressão Logística, 0.6036, 0.6060, 0.5964, 0.5867, 33.3417\n"
          ]
        }
      ],
      "source": [
        "print(\"model, accuracy, precision, recall, fscore, time (s)\")\n",
        "# KNN\n",
        "model_knn(x_train_O3, y_train_O3, x_test_mcmc_O3, y_test_mcmc_O3)\n",
        "# Random Forest\n",
        "model_rf(x_train_O3, y_train_O3, x_test_mcmc_O3, y_test_mcmc_O3)\n",
        "# SVM\n",
        "model_svm(x_train_O3, y_train_O3, x_test_mcmc_O3, y_test_mcmc_O3)\n",
        "# Stochastic Gradient Descent\n",
        "model_SGD(x_train_O3, y_train_O3, x_test_mcmc_O3, y_test_mcmc_O3)\n",
        "# Multi-layer Perceptron\n",
        "model_MLP(x_train_O3, y_train_O3, x_test_mcmc_O3, y_test_mcmc_O3)\n",
        "# Regressão Logística\n",
        "model_regRegression(x_train_O3, y_train_O3, x_test_mcmc_O3, y_test_mcmc_O3)"
      ]
    },
    {
      "cell_type": "markdown",
      "metadata": {},
      "source": [
        "##### **RS+O3**"
      ]
    },
    {
      "cell_type": "code",
      "execution_count": 15,
      "metadata": {},
      "outputs": [],
      "source": [
        "# RS + O3\n",
        "x_train_rs_O3, y_train_rs_O3 = train_rs_O3.iloc[:,1:-1].to_numpy(), train_rs_O3.iloc[:,-1].to_numpy()\n",
        "x_test_rs_O3, y_test_rs_O3 = test_rs_O3.iloc[:,1:-1].to_numpy(), test_rs_O3.iloc[:,-1].to_numpy()"
      ]
    },
    {
      "cell_type": "markdown",
      "metadata": {},
      "source": [
        "Using RS+O3 only in the testing phase in a model trained with O0"
      ]
    },
    {
      "cell_type": "code",
      "execution_count": 16,
      "metadata": {},
      "outputs": [
        {
          "name": "stdout",
          "output_type": "stream",
          "text": [
            "model, accuracy, precision, recall, fscore, time (s)\n",
            "KNN, 0.0533, 0.0634, 0.0454, 0.0312, 0.0058\n",
            "Random Forest, 0.2165, 0.2631, 0.1954, 0.1741, 2.0691\n",
            "SVM, 0.0740, 0.1081, 0.0675, 0.0531, 471.0453\n",
            "SGD, 0.0683, 0.1033, 0.0611, 0.0520, 11.7921\n",
            "MLP, 0.0535, 0.0627, 0.0502, 0.0413, 289.4929\n",
            "Regressão Logística, 0.0776, 0.0870, 0.0661, 0.0499, 32.1724\n"
          ]
        }
      ],
      "source": [
        "print(\"model, accuracy, precision, recall, fscore, time (s)\")\n",
        "# KNN\n",
        "model_knn(x_train, y_train, x_test_rs_O3, y_test_rs_O3)\n",
        "# Random Forest\n",
        "model_rf(x_train, y_train, x_test_rs_O3, y_test_rs_O3)\n",
        "# SVM\n",
        "model_svm(x_train, y_train, x_test_rs_O3, y_test_rs_O3)\n",
        "# Stochastic Gradient Descent\n",
        "model_SGD(x_train, y_train, x_test_rs_O3, y_test_rs_O3)\n",
        "# Multi-layer Perceptron\n",
        "model_MLP(x_train, y_train, x_test_rs_O3, y_test_rs_O3)\n",
        "# Regressão Logística\n",
        "model_regRegression(x_train, y_train, x_test_rs_O3, y_test_rs_O3)"
      ]
    },
    {
      "cell_type": "markdown",
      "metadata": {},
      "source": [
        "Using RS+O3 only in the testing phase in a model trained with O3"
      ]
    },
    {
      "cell_type": "code",
      "execution_count": 17,
      "metadata": {},
      "outputs": [
        {
          "name": "stdout",
          "output_type": "stream",
          "text": [
            "model, accuracy, precision, recall, fscore, time (s)\n",
            "KNN, 0.7180, 0.7244, 0.7130, 0.7108, 0.0100\n",
            "Random Forest, 0.9056, 0.9111, 0.9055, 0.9050, 2.3166\n",
            "SVM, 0.5189, 0.6492, 0.5045, 0.5026, 569.9685\n",
            "SGD, 0.3904, 0.5310, 0.3821, 0.3758, 10.0657\n",
            "MLP, 0.5371, 0.5382, 0.5210, 0.5133, 242.5313\n",
            "Regressão Logística, 0.6166, 0.6166, 0.6123, 0.6010, 33.2844\n"
          ]
        }
      ],
      "source": [
        "print(\"model, accuracy, precision, recall, fscore, time (s)\")\n",
        "# KNN\n",
        "model_knn(x_train_O3, y_train_O3, x_test_rs_O3, y_test_rs_O3)\n",
        "# Random Forest\n",
        "model_rf(x_train_O3, y_train_O3, x_test_rs_O3, y_test_rs_O3)\n",
        "# SVM\n",
        "model_svm(x_train_O3, y_train_O3, x_test_rs_O3, y_test_rs_O3)\n",
        "# Stochastic Gradient Descent\n",
        "model_SGD(x_train_O3, y_train_O3, x_test_rs_O3, y_test_rs_O3)\n",
        "# Multi-layer Perceptron\n",
        "model_MLP(x_train_O3, y_train_O3, x_test_rs_O3, y_test_rs_O3)\n",
        "# Regressão Logística\n",
        "model_regRegression(x_train_O3, y_train_O3, x_test_rs_O3, y_test_rs_O3)"
      ]
    }
  ],
  "metadata": {
    "accelerator": "GPU",
    "colab": {
      "collapsed_sections": [
        "ng9natt-O0QO"
      ],
      "name": "MethodsSkLearnObfuscationPOJ104Classes.ipynb",
      "provenance": []
    },
    "kernelspec": {
      "display_name": "Python 3",
      "name": "python3"
    },
    "language_info": {
      "codemirror_mode": {
        "name": "ipython",
        "version": 3
      },
      "file_extension": ".py",
      "mimetype": "text/x-python",
      "name": "python",
      "nbconvert_exporter": "python",
      "pygments_lexer": "ipython3",
      "version": "3.8.10"
    }
  },
  "nbformat": 4,
  "nbformat_minor": 0
}
