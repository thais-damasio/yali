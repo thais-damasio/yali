{
  "cells": [
    {
      "cell_type": "markdown",
      "metadata": {
        "id": "UXCz4B_NTSsY"
      },
      "source": [
        "## Models with OJClone Dataset (CloneGen)\n",
        "Models trained and tested with CloneGen obfuscation methods\n",
        "\n",
        "---"
      ]
    },
    {
      "cell_type": "markdown",
      "metadata": {},
      "source": [
        "### Setup"
      ]
    },
    {
      "cell_type": "markdown",
      "metadata": {
        "id": "ng9natt-O0QO"
      },
      "source": [
        "#### ~> Installing Libraries"
      ]
    },
    {
      "cell_type": "code",
      "execution_count": 1,
      "metadata": {
        "id": "Uv3ec1BIO41p"
      },
      "outputs": [],
      "source": [
        "!pip3 install -q seaborn\n",
        "!pip3 install -q sklearn\n",
        "!pip3 install -q keras"
      ]
    },
    {
      "cell_type": "markdown",
      "metadata": {
        "id": "MdjlFzdWIU44"
      },
      "source": [
        "#### ~> Imports of the project"
      ]
    },
    {
      "cell_type": "code",
      "execution_count": 2,
      "metadata": {
        "id": "gFEGuxDNK0rk"
      },
      "outputs": [],
      "source": [
        "from models import model_knn, model_MLP, model_SGD, model_regRegression, model_svm, model_rf\n",
        "from sklearn.model_selection import train_test_split\n",
        "import pandas as pd\n",
        "import numpy as np\n",
        "import warnings\n",
        "\n",
        "warnings.filterwarnings('ignore')"
      ]
    },
    {
      "cell_type": "markdown",
      "metadata": {
        "id": "W1wctYcqLD6p"
      },
      "source": [
        "#### ~> Loading the Datasets"
      ]
    },
    {
      "cell_type": "code",
      "execution_count": 3,
      "metadata": {
        "id": "ZhVyWz1HLHhJ"
      },
      "outputs": [],
      "source": [
        "# Without Obfuscations\n",
        "df = pd.read_csv(\"./../../../features/OJClone/ojclone_features_O0.csv\", skipinitialspace=True)\n",
        "\n",
        "# Optimizations\n",
        "df_O3 = pd.read_csv(\"./../../../features/OJClone/ojclone_features_O3.csv\", skipinitialspace=True)\n",
        "\n",
        "# Obfuscations\n",
        "df_drlsg = pd.read_csv(\"./../../../features/OJClone/ojclone_features_DRLSG_O0.csv\", skipinitialspace=True)\n",
        "df_ga = pd.read_csv(\"./../../../features/OJClone/ojclone_features_GA_O0.csv\", skipinitialspace=True)\n",
        "df_mcmc = pd.read_csv(\"./../../../features/OJClone/ojclone_features_MCMC_O0.csv\", skipinitialspace=True)\n",
        "df_rs = pd.read_csv(\"./../../../features/OJClone/ojclone_features_RS_O0.csv\", skipinitialspace=True)"
      ]
    },
    {
      "cell_type": "markdown",
      "metadata": {
        "id": "Hy799cXbCHbQ"
      },
      "source": [
        "#### ~> Split the datasets into a training and test set"
      ]
    },
    {
      "cell_type": "code",
      "execution_count": 4,
      "metadata": {
        "colab": {
          "base_uri": "https://localhost:8080/"
        },
        "id": "dfFdipbxiOGc",
        "outputId": "c311f605-f131-464c-862f-75669ab426f9"
      },
      "outputs": [],
      "source": [
        "# Without Obfuscations\n",
        "train, test = train_test_split(df, test_size=0.2)\n",
        "\n",
        "# Optimizations\n",
        "train_O3, test_O3 = train_test_split(df_O3, test_size=0.2)\n",
        "\n",
        "# Obfuscations\n",
        "train_drlsg, test_drlsg = train_test_split(df_drlsg, test_size=0.2)\n",
        "train_ga, test_ga = train_test_split(df_ga, test_size=0.2)\n",
        "train_mcmc, test_mcmc = train_test_split(df_mcmc, test_size=0.2)\n",
        "train_rs, test_rs = train_test_split(df_rs, test_size=0.2)"
      ]
    },
    {
      "cell_type": "markdown",
      "metadata": {},
      "source": [
        "### Case of Studies"
      ]
    },
    {
      "cell_type": "markdown",
      "metadata": {},
      "source": [
        "#### ~> Obfuscations"
      ]
    },
    {
      "cell_type": "code",
      "execution_count": 5,
      "metadata": {},
      "outputs": [],
      "source": [
        "# Training and testing database without obfuscation\n",
        "x_train, y_train = train.iloc[:,1:-1].to_numpy(), train.iloc[:,-1].to_numpy()\n",
        "x_test, y_test = test.iloc[:,1:-1].to_numpy(), test.iloc[:,-1].to_numpy()  \n",
        "\n",
        "# O3\n",
        "x_train_O3, y_train_O3 = train_O3.iloc[:,1:-1].to_numpy(), train_O3.iloc[:,-1].to_numpy()\n",
        "x_test_O3, y_test_O3 = test_O3.iloc[:,1:-1].to_numpy(), test_O3.iloc[:,-1].to_numpy() \n",
        "\n",
        "size = len(x_train)"
      ]
    },
    {
      "cell_type": "markdown",
      "metadata": {
        "id": "tzZPw44ASgXN"
      },
      "source": [
        "##### **DRLSG**\n"
      ]
    },
    {
      "cell_type": "code",
      "execution_count": 7,
      "metadata": {},
      "outputs": [],
      "source": [
        "# DRLSG\n",
        "x_train_drlsg, y_train_drlsg = train_drlsg.iloc[:,1:-1].to_numpy(), train_drlsg.iloc[:,-1].to_numpy()\n",
        "x_test_drlsg, y_test_drlsg = test_drlsg.iloc[:,1:-1].to_numpy(), test_drlsg.iloc[:,-1].to_numpy()\n",
        "\n",
        "# DRLSG and original \n",
        "x_train_drlsg_all = np.concatenate((x_train[0:int(size/2),:],x_train_drlsg[0:int(size/2),:]))\n",
        "y_train_drlsg_all = np.concatenate((y_train[0:int(size/2)],y_train_drlsg[0:int(size/2)]))"
      ]
    },
    {
      "cell_type": "markdown",
      "metadata": {},
      "source": [
        "Using DRLSG only in the testing phase"
      ]
    },
    {
      "cell_type": "code",
      "execution_count": 7,
      "metadata": {
        "colab": {
          "base_uri": "https://localhost:8080/"
        },
        "id": "vs3OKZkccRLZ",
        "outputId": "a32b09d6-38b1-4d1c-b34a-c008b35e25de"
      },
      "outputs": [
        {
          "name": "stdout",
          "output_type": "stream",
          "text": [
            "model, accuracy, precision, recall, fscore, time (s)\n",
            "KNN, 0.6430, 0.6557, 0.6431, 0.6380, 0.0080\n",
            "Random Forest, 0.9052, 0.9082, 0.9029, 0.9028, 2.2449\n",
            "SVM, 0.2600, 0.5005, 0.2650, 0.2664, 527.2596\n",
            "SGD, 0.3034, 0.4798, 0.3039, 0.3028, 15.3073\n",
            "MLP, 0.4890, 0.5044, 0.4880, 0.4733, 264.1336\n",
            "Regressão Logística, 0.5215, 0.5266, 0.5196, 0.5071, 32.7296\n"
          ]
        }
      ],
      "source": [
        "print(\"model, accuracy, precision, recall, fscore, time (s)\")\n",
        "# KNN\n",
        "model_knn(x_train, y_train, x_test_drlsg, y_test_drlsg)\n",
        "# Random Forest\n",
        "model_rf(x_train, y_train, x_test_drlsg, y_test_drlsg)\n",
        "# SVM\n",
        "model_svm(x_train, y_train, x_test_drlsg, y_test_drlsg)\n",
        "# Stochastic Gradient Descent\n",
        "model_SGD(x_train, y_train, x_test_drlsg, y_test_drlsg)\n",
        "# Multi-layer Perceptron\n",
        "model_MLP(x_train, y_train, x_test_drlsg, y_test_drlsg)\n",
        "# Regressão Logística\n",
        "model_regRegression(x_train, y_train, x_test_drlsg, y_test_drlsg)"
      ]
    },
    {
      "cell_type": "markdown",
      "metadata": {
        "id": "CLONNJP5TFEi"
      },
      "source": [
        "Using DRLSG in the testing and training phase"
      ]
    },
    {
      "cell_type": "code",
      "execution_count": 8,
      "metadata": {
        "colab": {
          "base_uri": "https://localhost:8080/"
        },
        "id": "Q7YVjyOYc5UL",
        "outputId": "bce672fe-ab9c-4d22-c5e3-6dc3f36876ac"
      },
      "outputs": [
        {
          "name": "stdout",
          "output_type": "stream",
          "text": [
            "model, accuracy, precision, recall, fscore, time (s)\n",
            "KNN, 0.6282, 0.6390, 0.6272, 0.6215, 0.0065\n",
            "Random Forest, 0.8539, 0.8513, 0.8524, 0.8507, 2.1165\n",
            "SVM, 0.2511, 0.4306, 0.2533, 0.2659, 497.3099\n",
            "SGD, 0.2725, 0.4010, 0.2767, 0.2541, 13.3762\n",
            "MLP, 0.5021, 0.5115, 0.4994, 0.4875, 239.8843\n",
            "Regressão Logística, 0.5432, 0.5395, 0.5415, 0.5294, 31.9107\n"
          ]
        }
      ],
      "source": [
        "print(\"model, accuracy, precision, recall, fscore, time (s)\")\n",
        "# KNN\n",
        "model_knn(x_train_drlsg_all, y_train_drlsg_all, x_test_drlsg, y_test_drlsg)\n",
        "# Random Forest\n",
        "model_rf(x_train_drlsg_all, y_train_drlsg_all, x_test_drlsg, y_test_drlsg)\n",
        "# SVM\n",
        "model_svm(x_train_drlsg_all, y_train_drlsg_all, x_test_drlsg, y_test_drlsg)\n",
        "# Stochastic Gradient Descent\n",
        "model_SGD(x_train_drlsg_all, y_train_drlsg_all, x_test_drlsg, y_test_drlsg)\n",
        "# Multi-layer Perceptron\n",
        "model_MLP(x_train_drlsg_all, y_train_drlsg_all, x_test_drlsg, y_test_drlsg)\n",
        "# Regressão Logística\n",
        "model_regRegression(x_train_drlsg_all, y_train_drlsg_all, x_test_drlsg, y_test_drlsg)"
      ]
    },
    {
      "cell_type": "markdown",
      "metadata": {},
      "source": [
        "Using DRLSG only in the testing phase in a model trained with O3"
      ]
    },
    {
      "cell_type": "code",
      "execution_count": 8,
      "metadata": {},
      "outputs": [
        {
          "name": "stdout",
          "output_type": "stream",
          "text": [
            "model, accuracy, precision, recall, fscore, time (s)\n",
            "KNN, 0.0471, 0.0894, 0.0478, 0.0441, 0.1092\n",
            "Random Forest, 0.2135, 0.2380, 0.2151, 0.1816, 2.7790\n",
            "SVM, 0.0978, 0.1320, 0.0990, 0.0642, 583.2069\n",
            "SGD, 0.0346, 0.0946, 0.0330, 0.0301, 9.6509\n",
            "MLP, 0.0689, 0.0850, 0.0667, 0.0553, 247.6990\n",
            "Regressão Logística, 0.0739, 0.0831, 0.0722, 0.0466, 35.2024\n"
          ]
        }
      ],
      "source": [
        "print(\"model, accuracy, precision, recall, fscore, time (s)\")\n",
        "# KNN\n",
        "model_knn(x_train_O3, y_train_O3, x_test_drlsg, y_test_drlsg)\n",
        "# Random Forest\n",
        "model_rf(x_train_O3, y_train_O3, x_test_drlsg, y_test_drlsg)\n",
        "# SVM\n",
        "model_svm(x_train_O3, y_train_O3, x_test_drlsg, y_test_drlsg)\n",
        "# Stochastic Gradient Descent\n",
        "model_SGD(x_train_O3, y_train_O3, x_test_drlsg, y_test_drlsg)\n",
        "# Multi-layer Perceptron\n",
        "model_MLP(x_train_O3, y_train_O3, x_test_drlsg, y_test_drlsg)\n",
        "# Regressão Logística\n",
        "model_regRegression(x_train_O3, y_train_O3, x_test_drlsg, y_test_drlsg)"
      ]
    },
    {
      "cell_type": "markdown",
      "metadata": {},
      "source": [
        "##### **GA**"
      ]
    },
    {
      "cell_type": "code",
      "execution_count": 9,
      "metadata": {},
      "outputs": [],
      "source": [
        "# GA\n",
        "x_train_ga, y_train_ga = train_ga.iloc[:,1:-1].to_numpy(), train_ga.iloc[:,-1].to_numpy()\n",
        "x_test_ga, y_test_ga = test_ga.iloc[:,1:-1].to_numpy(), test_ga.iloc[:,-1].to_numpy()\n",
        "\n",
        "# GA and original \n",
        "x_train_ga_all = np.concatenate((x_train[0:int(size/2),:],x_train_ga[0:int(size/2),:]))\n",
        "y_train_ga_all = np.concatenate((y_train[0:int(size/2)],y_train_ga[0:int(size/2)]))"
      ]
    },
    {
      "cell_type": "markdown",
      "metadata": {},
      "source": [
        "Using GA only in the testing phase"
      ]
    },
    {
      "cell_type": "code",
      "execution_count": 10,
      "metadata": {},
      "outputs": [
        {
          "name": "stdout",
          "output_type": "stream",
          "text": [
            "model, accuracy, precision, recall, fscore, time (s)\n",
            "KNN, 0.3369, 0.4057, 0.3303, 0.3169, 0.0069\n",
            "Random Forest, 0.4206, 0.5657, 0.3953, 0.3814, 2.1516\n",
            "SVM, 0.1147, 0.2301, 0.0937, 0.0916, 576.9508\n",
            "SGD, 0.1685, 0.3043, 0.1465, 0.1523, 15.1617\n",
            "MLP, 0.2101, 0.2681, 0.1947, 0.1853, 280.7227\n",
            "Regressão Logística, 0.3359, 0.4335, 0.3059, 0.3104, 37.0305\n"
          ]
        }
      ],
      "source": [
        "print(\"model, accuracy, precision, recall, fscore, time (s)\")\n",
        "# KNN\n",
        "model_knn(x_train, y_train, x_test_ga, y_test_ga)\n",
        "# Random Forest\n",
        "model_rf(x_train, y_train, x_test_ga, y_test_ga)\n",
        "# SVM\n",
        "model_svm(x_train, y_train, x_test_ga, y_test_ga)\n",
        "# Stochastic Gradient Descent\n",
        "model_SGD(x_train, y_train, x_test_ga, y_test_ga)\n",
        "# Multi-layer Perceptron\n",
        "model_MLP(x_train, y_train, x_test_ga, y_test_ga)\n",
        "# Regressão Logística\n",
        "model_regRegression(x_train, y_train, x_test_ga, y_test_ga)"
      ]
    },
    {
      "cell_type": "markdown",
      "metadata": {},
      "source": [
        "Using GA in the testing and training phase"
      ]
    },
    {
      "cell_type": "code",
      "execution_count": 11,
      "metadata": {},
      "outputs": [
        {
          "name": "stdout",
          "output_type": "stream",
          "text": [
            "model, accuracy, precision, recall, fscore, time (s)\n",
            "KNN, 0.5988, 0.5791, 0.5677, 0.5576, 0.0068\n",
            "Random Forest, 0.7822, 0.7614, 0.7495, 0.7483, 3.3513\n",
            "SVM, 0.2071, 0.3599, 0.1646, 0.1791, 612.1969\n",
            "SGD, 0.3418, 0.3654, 0.2920, 0.2656, 14.1171\n",
            "MLP, 0.5618, 0.5141, 0.5123, 0.4990, 237.9616\n",
            "Regressão Logística, 0.5656, 0.5544, 0.5212, 0.5194, 31.9303\n"
          ]
        }
      ],
      "source": [
        "print(\"model, accuracy, precision, recall, fscore, time (s)\")\n",
        "# KNN\n",
        "model_knn(x_train_ga_all, y_train_ga_all, x_test_ga, y_test_ga)\n",
        "# Random Forest\n",
        "model_rf(x_train_ga_all, y_train_ga_all, x_test_ga, y_test_ga)\n",
        "# SVM\n",
        "model_svm(x_train_ga_all, y_train_ga_all, x_test_ga, y_test_ga)\n",
        "# Stochastic Gradient Descent\n",
        "model_SGD(x_train_ga_all, y_train_ga_all, x_test_ga, y_test_ga)\n",
        "# Multi-layer Perceptron\n",
        "model_MLP(x_train_ga_all, y_train_ga_all, x_test_ga, y_test_ga)\n",
        "# Regressão Logística\n",
        "model_regRegression(x_train_ga_all, y_train_ga_all, x_test_ga, y_test_ga)"
      ]
    },
    {
      "cell_type": "markdown",
      "metadata": {},
      "source": [
        "Using GA only in the testing phase in a model trained with O3"
      ]
    },
    {
      "cell_type": "code",
      "execution_count": 11,
      "metadata": {},
      "outputs": [
        {
          "name": "stdout",
          "output_type": "stream",
          "text": [
            "model, accuracy, precision, recall, fscore, time (s)\n",
            "KNN, 0.0285, 0.0557, 0.0258, 0.0199, 0.0086\n",
            "Random Forest, 0.1879, 0.1832, 0.1511, 0.1339, 2.8812\n",
            "SVM, 0.0708, 0.0989, 0.0512, 0.0419, 677.4367\n",
            "SGD, 0.0328, 0.0645, 0.0392, 0.0241, 8.7618\n",
            "MLP, 0.0459, 0.0728, 0.0355, 0.0290, 283.5257\n",
            "Regressão Logística, 0.0823, 0.0553, 0.0639, 0.0388, 35.1984\n"
          ]
        }
      ],
      "source": [
        "print(\"model, accuracy, precision, recall, fscore, time (s)\")\n",
        "# KNN\n",
        "model_knn(x_train_O3, y_train_O3, x_test_ga, y_test_ga)\n",
        "# Random Forest\n",
        "model_rf(x_train_O3, y_train_O3, x_test_ga, y_test_ga)\n",
        "# SVM\n",
        "model_svm(x_train_O3, y_train_O3, x_test_ga, y_test_ga)\n",
        "# Stochastic Gradient Descent\n",
        "model_SGD(x_train_O3, y_train_O3, x_test_ga, y_test_ga)\n",
        "# Multi-layer Perceptron\n",
        "model_MLP(x_train_O3, y_train_O3, x_test_ga, y_test_ga)\n",
        "# Regressão Logística\n",
        "model_regRegression(x_train_O3, y_train_O3, x_test_ga, y_test_ga)"
      ]
    },
    {
      "cell_type": "markdown",
      "metadata": {},
      "source": [
        "##### **MCMC**"
      ]
    },
    {
      "cell_type": "code",
      "execution_count": 10,
      "metadata": {},
      "outputs": [],
      "source": [
        "# MCMC\n",
        "x_train_mcmc, y_train_mcmc = train_mcmc.iloc[:,1:-1].to_numpy(), train_mcmc.iloc[:,-1].to_numpy()\n",
        "x_test_mcmc, y_test_mcmc = test_mcmc.iloc[:,1:-1].to_numpy(), test_mcmc.iloc[:,-1].to_numpy()\n",
        "\n",
        "# MCMC and original \n",
        "x_train_mcmc_all = np.concatenate((x_train[0:int(size/2),:],x_train_mcmc[0:int(size/2),:]))\n",
        "y_train_mcmc_all = np.concatenate((y_train[0:int(size/2)],y_train_mcmc[0:int(size/2)]))"
      ]
    },
    {
      "cell_type": "markdown",
      "metadata": {},
      "source": [
        "Using MCMC only in the testing phase"
      ]
    },
    {
      "cell_type": "code",
      "execution_count": 13,
      "metadata": {},
      "outputs": [
        {
          "name": "stdout",
          "output_type": "stream",
          "text": [
            "model, accuracy, precision, recall, fscore, time (s)\n",
            "KNN, 0.3369, 0.4475, 0.3456, 0.3504, 0.0068\n",
            "Random Forest, 0.3885, 0.7170, 0.3851, 0.4043, 2.1630\n",
            "SVM, 0.1078, 0.3395, 0.0915, 0.1075, 577.8695\n",
            "SGD, 0.2027, 0.3430, 0.1904, 0.1831, 14.4103\n",
            "MLP, 0.1904, 0.3231, 0.1862, 0.1793, 286.6292\n",
            "Regressão Logística, 0.3345, 0.4718, 0.3271, 0.3378, 33.0423\n"
          ]
        }
      ],
      "source": [
        "print(\"model, accuracy, precision, recall, fscore, time (s)\")\n",
        "# KNN\n",
        "model_knn(x_train, y_train, x_test_mcmc, y_test_mcmc)\n",
        "# Random Forest\n",
        "model_rf(x_train, y_train, x_test_mcmc, y_test_mcmc)\n",
        "# SVM\n",
        "model_svm(x_train, y_train, x_test_mcmc, y_test_mcmc)\n",
        "# Stochastic Gradient Descent\n",
        "model_SGD(x_train, y_train, x_test_mcmc, y_test_mcmc)\n",
        "# Multi-layer Perceptron\n",
        "model_MLP(x_train, y_train, x_test_mcmc, y_test_mcmc)\n",
        "# Regressão Logística\n",
        "model_regRegression(x_train, y_train, x_test_mcmc, y_test_mcmc)"
      ]
    },
    {
      "cell_type": "markdown",
      "metadata": {},
      "source": [
        "Using MCMC in the testing and training phase"
      ]
    },
    {
      "cell_type": "code",
      "execution_count": 14,
      "metadata": {},
      "outputs": [
        {
          "name": "stdout",
          "output_type": "stream",
          "text": [
            "model, accuracy, precision, recall, fscore, time (s)\n",
            "KNN, 0.5240, 0.5355, 0.5130, 0.5057, 0.0106\n",
            "Random Forest, 0.7162, 0.7017, 0.7022, 0.6958, 2.0998\n",
            "SVM, 0.1950, 0.3474, 0.1674, 0.1637, 634.2993\n",
            "SGD, 0.2755, 0.3975, 0.2593, 0.2390, 17.1624\n",
            "MLP, 0.4998, 0.4837, 0.4791, 0.4637, 326.4365\n",
            "Regressão Logística, 0.5151, 0.4936, 0.4986, 0.4842, 38.4094\n"
          ]
        }
      ],
      "source": [
        "print(\"model, accuracy, precision, recall, fscore, time (s)\")\n",
        "# KNN\n",
        "model_knn(x_train_mcmc_all, y_train_mcmc_all, x_test_mcmc, y_test_mcmc)\n",
        "# Random Forest\n",
        "model_rf(x_train_mcmc_all, y_train_mcmc_all, x_test_mcmc, y_test_mcmc)\n",
        "# SVM\n",
        "model_svm(x_train_mcmc_all, y_train_mcmc_all, x_test_mcmc, y_test_mcmc)\n",
        "# Stochastic Gradient Descent\n",
        "model_SGD(x_train_mcmc_all, y_train_mcmc_all, x_test_mcmc, y_test_mcmc)\n",
        "# Multi-layer Perceptron\n",
        "model_MLP(x_train_mcmc_all, y_train_mcmc_all, x_test_mcmc, y_test_mcmc)\n",
        "# Regressão Logística\n",
        "model_regRegression(x_train_mcmc_all, y_train_mcmc_all, x_test_mcmc, y_test_mcmc)"
      ]
    },
    {
      "cell_type": "markdown",
      "metadata": {},
      "source": [
        "Using MCMC only in the testing phase in a model trained with O3"
      ]
    },
    {
      "cell_type": "code",
      "execution_count": 12,
      "metadata": {},
      "outputs": [
        {
          "name": "stdout",
          "output_type": "stream",
          "text": [
            "model, accuracy, precision, recall, fscore, time (s)\n",
            "KNN, 0.0284, 0.0727, 0.0281, 0.0224, 0.0067\n",
            "Random Forest, 0.1713, 0.2034, 0.1583, 0.1299, 2.3952\n",
            "SVM, 0.0796, 0.1017, 0.0747, 0.0490, 541.0737\n",
            "SGD, 0.0331, 0.0564, 0.0399, 0.0216, 8.8514\n",
            "MLP, 0.0465, 0.0946, 0.0457, 0.0343, 300.3045\n",
            "Regressão Logística, 0.0689, 0.0704, 0.0638, 0.0359, 34.8614\n"
          ]
        }
      ],
      "source": [
        "print(\"model, accuracy, precision, recall, fscore, time (s)\")\n",
        "# KNN\n",
        "model_knn(x_train_O3, y_train_O3, x_test_mcmc, y_test_mcmc)\n",
        "# Random Forest\n",
        "model_rf(x_train_O3, y_train_O3, x_test_mcmc, y_test_mcmc)\n",
        "# SVM\n",
        "model_svm(x_train_O3, y_train_O3, x_test_mcmc, y_test_mcmc)\n",
        "# Stochastic Gradient Descent\n",
        "model_SGD(x_train_O3, y_train_O3, x_test_mcmc, y_test_mcmc)\n",
        "# Multi-layer Perceptron\n",
        "model_MLP(x_train_O3, y_train_O3, x_test_mcmc, y_test_mcmc)\n",
        "# Regressão Logística\n",
        "model_regRegression(x_train_O3, y_train_O3, x_test_mcmc, y_test_mcmc)"
      ]
    },
    {
      "cell_type": "markdown",
      "metadata": {},
      "source": [
        "##### **RS**"
      ]
    },
    {
      "cell_type": "code",
      "execution_count": 13,
      "metadata": {},
      "outputs": [],
      "source": [
        "# RS\n",
        "x_train_rs, y_train_rs = train_rs.iloc[:,1:-1].to_numpy(), train_rs.iloc[:,-1].to_numpy()\n",
        "x_test_rs, y_test_rs = test_rs.iloc[:,1:-1].to_numpy(), test_rs.iloc[:,-1].to_numpy()\n",
        "\n",
        "# RS and original \n",
        "x_train_rs_all = np.concatenate((x_train[0:int(size/2),:],x_train_rs[0:int(size/2),:]))\n",
        "y_train_rs_all = np.concatenate((y_train[0:int(size/2)],y_train_rs[0:int(size/2)]))"
      ]
    },
    {
      "cell_type": "markdown",
      "metadata": {},
      "source": [
        "Using RS only in the testing phase"
      ]
    },
    {
      "cell_type": "code",
      "execution_count": 16,
      "metadata": {},
      "outputs": [
        {
          "name": "stdout",
          "output_type": "stream",
          "text": [
            "model, accuracy, precision, recall, fscore, time (s)\n",
            "KNN, 0.3722, 0.4782, 0.3768, 0.3860, 0.0079\n",
            "Random Forest, 0.4692, 0.7356, 0.4652, 0.4993, 2.4462\n",
            "SVM, 0.2629, 0.4660, 0.2571, 0.2660, 529.6838\n",
            "SGD, 0.2320, 0.4507, 0.2134, 0.2177, 12.6970\n",
            "MLP, 0.2440, 0.3723, 0.2379, 0.2452, 319.7244\n",
            "Regressão Logística, 0.3598, 0.4707, 0.3517, 0.3674, 36.9420\n"
          ]
        }
      ],
      "source": [
        "print(\"model, accuracy, precision, recall, fscore, time (s)\")\n",
        "# KNN\n",
        "model_knn(x_train, y_train, x_test_rs, y_test_rs)\n",
        "# Random Forest\n",
        "model_rf(x_train, y_train, x_test_rs, y_test_rs)\n",
        "# SVM\n",
        "model_svm(x_train, y_train, x_test_rs, y_test_rs)\n",
        "# Stochastic Gradient Descent\n",
        "model_SGD(x_train, y_train, x_test_rs, y_test_rs)\n",
        "# Multi-layer Perceptron\n",
        "model_MLP(x_train, y_train, x_test_rs, y_test_rs)\n",
        "# Regressão Logística\n",
        "model_regRegression(x_train, y_train, x_test_rs, y_test_rs)"
      ]
    },
    {
      "cell_type": "markdown",
      "metadata": {},
      "source": [
        "Using RS in the testing and training phase"
      ]
    },
    {
      "cell_type": "code",
      "execution_count": 17,
      "metadata": {},
      "outputs": [
        {
          "name": "stdout",
          "output_type": "stream",
          "text": [
            "model, accuracy, precision, recall, fscore, time (s)\n",
            "KNN, 0.5004, 0.5061, 0.4927, 0.4835, 0.0060\n",
            "Random Forest, 0.7174, 0.7089, 0.7050, 0.7004, 3.4776\n",
            "SVM, 0.3644, 0.4873, 0.3396, 0.3276, 635.1598\n",
            "SGD, 0.2878, 0.3570, 0.2628, 0.2376, 16.7394\n",
            "MLP, 0.4776, 0.4502, 0.4554, 0.4413, 242.0287\n",
            "Regressão Logística, 0.5152, 0.4965, 0.5024, 0.4902, 35.0606\n"
          ]
        }
      ],
      "source": [
        "print(\"model, accuracy, precision, recall, fscore, time (s)\")\n",
        "# KNN\n",
        "model_knn(x_train_rs_all, y_train_rs_all, x_test_rs, y_test_rs)\n",
        "# Random Forest\n",
        "model_rf(x_train_rs_all, y_train_rs_all, x_test_rs, y_test_rs)\n",
        "# SVM\n",
        "model_svm(x_train_rs_all, y_train_rs_all, x_test_rs, y_test_rs)\n",
        "# Stochastic Gradient Descent\n",
        "model_SGD(x_train_rs_all, y_train_rs_all, x_test_rs, y_test_rs)\n",
        "# Multi-layer Perceptron\n",
        "model_MLP(x_train_rs_all, y_train_rs_all, x_test_rs, y_test_rs)\n",
        "# Regressão Logística\n",
        "model_regRegression(x_train_rs_all, y_train_rs_all, x_test_rs, y_test_rs)"
      ]
    },
    {
      "cell_type": "markdown",
      "metadata": {},
      "source": [
        "Using RS only in the testing phase in a model trained with O3"
      ]
    },
    {
      "cell_type": "code",
      "execution_count": 14,
      "metadata": {},
      "outputs": [
        {
          "name": "stdout",
          "output_type": "stream",
          "text": [
            "model, accuracy, precision, recall, fscore, time (s)\n",
            "KNN, 0.0306, 0.0726, 0.0306, 0.0247, 0.0064\n",
            "Random Forest, 0.1653, 0.2123, 0.1559, 0.1330, 3.8673\n",
            "SVM, 0.0765, 0.1129, 0.0703, 0.0458, 589.9705\n",
            "SGD, 0.0362, 0.0820, 0.0420, 0.0209, 11.1637\n",
            "MLP, 0.0488, 0.0656, 0.0493, 0.0360, 285.2802\n",
            "Regressão Logística, 0.0635, 0.0631, 0.0607, 0.0341, 35.0562\n"
          ]
        }
      ],
      "source": [
        "print(\"model, accuracy, precision, recall, fscore, time (s)\")\n",
        "# KNN\n",
        "model_knn(x_train_O3, y_train_O3, x_test_rs, y_test_rs)\n",
        "# Random Forest\n",
        "model_rf(x_train_O3, y_train_O3, x_test_rs, y_test_rs)\n",
        "# SVM\n",
        "model_svm(x_train_O3, y_train_O3, x_test_rs, y_test_rs)\n",
        "# Stochastic Gradient Descent\n",
        "model_SGD(x_train_O3, y_train_O3, x_test_rs, y_test_rs)\n",
        "# Multi-layer Perceptron\n",
        "model_MLP(x_train_O3, y_train_O3, x_test_rs, y_test_rs)\n",
        "# Regressão Logística\n",
        "model_regRegression(x_train_O3, y_train_O3, x_test_rs, y_test_rs)"
      ]
    }
  ],
  "metadata": {
    "accelerator": "GPU",
    "colab": {
      "collapsed_sections": [
        "ng9natt-O0QO"
      ],
      "name": "MethodsSkLearnObfuscationPOJ104Classes.ipynb",
      "provenance": []
    },
    "kernelspec": {
      "display_name": "Python 3",
      "name": "python3"
    },
    "language_info": {
      "codemirror_mode": {
        "name": "ipython",
        "version": 3
      },
      "file_extension": ".py",
      "mimetype": "text/x-python",
      "name": "python",
      "nbconvert_exporter": "python",
      "pygments_lexer": "ipython3",
      "version": "3.8.10"
    }
  },
  "nbformat": 4,
  "nbformat_minor": 0
}
