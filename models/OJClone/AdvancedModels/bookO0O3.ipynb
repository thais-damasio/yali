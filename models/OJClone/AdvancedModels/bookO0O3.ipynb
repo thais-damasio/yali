{
  "cells": [
    {
      "cell_type": "markdown",
      "metadata": {
        "id": "UXCz4B_NTSsY"
      },
      "source": [
        "## Models with OJClone Dataset (-O0 and -O3)\n",
        "\n",
        "---"
      ]
    },
    {
      "cell_type": "markdown",
      "metadata": {},
      "source": [
        "### Setup"
      ]
    },
    {
      "cell_type": "markdown",
      "metadata": {
        "id": "ng9natt-O0QO"
      },
      "source": [
        "#### ~> Installing Libraries"
      ]
    },
    {
      "cell_type": "code",
      "execution_count": 1,
      "metadata": {
        "id": "Uv3ec1BIO41p"
      },
      "outputs": [],
      "source": [
        "!pip3 install -q seaborn\n",
        "!pip3 install -q sklearn\n",
        "!pip3 install -q keras"
      ]
    },
    {
      "cell_type": "markdown",
      "metadata": {
        "id": "MdjlFzdWIU44"
      },
      "source": [
        "#### ~> Imports of the project"
      ]
    },
    {
      "cell_type": "code",
      "execution_count": 2,
      "metadata": {
        "id": "gFEGuxDNK0rk"
      },
      "outputs": [],
      "source": [
        "from models import model_knn, model_MLP, model_SGD, model_regRegression, model_svm, model_rf\n",
        "from sklearn.model_selection import train_test_split\n",
        "import pandas as pd\n",
        "import warnings\n",
        "\n",
        "warnings.filterwarnings('ignore')"
      ]
    },
    {
      "cell_type": "markdown",
      "metadata": {
        "id": "W1wctYcqLD6p"
      },
      "source": [
        "#### ~> Loading the Datasets"
      ]
    },
    {
      "cell_type": "code",
      "execution_count": 3,
      "metadata": {
        "id": "ZhVyWz1HLHhJ"
      },
      "outputs": [],
      "source": [
        "# No obfuscation\n",
        "df = pd.read_csv(\"./../../../features/OJClone/ojclone_features_O0.csv\", skipinitialspace=True)\n",
        "\n",
        "# Optimizations\n",
        "df_O3 = pd.read_csv(\"./../../../features/OJClone/ojclone_features_O3.csv\", skipinitialspace=True)"
      ]
    },
    {
      "cell_type": "markdown",
      "metadata": {
        "id": "Hy799cXbCHbQ"
      },
      "source": [
        "#### ~> Split the datasets into a training and test set"
      ]
    },
    {
      "cell_type": "code",
      "execution_count": 4,
      "metadata": {
        "colab": {
          "base_uri": "https://localhost:8080/"
        },
        "id": "dfFdipbxiOGc",
        "outputId": "c311f605-f131-464c-862f-75669ab426f9"
      },
      "outputs": [],
      "source": [
        "# No obfuscation\n",
        "train, test = train_test_split(df, test_size=0.2)\n",
        "\n",
        "# Optimizations\n",
        "train_O3, test_O3 = train_test_split(df_O3, test_size=0.2)"
      ]
    },
    {
      "cell_type": "markdown",
      "metadata": {},
      "source": [
        "### Case of Study"
      ]
    },
    {
      "cell_type": "markdown",
      "metadata": {
        "id": "nUUvfFwHOWV1"
      },
      "source": [
        "#### ~> No Obfuscation (-O0)\n"
      ]
    },
    {
      "cell_type": "code",
      "execution_count": 7,
      "metadata": {},
      "outputs": [],
      "source": [
        "# without obfuscation\n",
        "x_train, y_train = train.iloc[:,1:-1].to_numpy(), train.iloc[:,-1].to_numpy()\n",
        "x_test, y_test = test.iloc[:,1:-1].to_numpy(), test.iloc[:,-1].to_numpy()  "
      ]
    },
    {
      "cell_type": "code",
      "execution_count": 6,
      "metadata": {
        "colab": {
          "base_uri": "https://localhost:8080/"
        },
        "id": "ZlM3GUYLi681",
        "outputId": "b20ab33a-f236-4f8b-c9b2-532ea03669c1"
      },
      "outputs": [
        {
          "name": "stdout",
          "output_type": "stream",
          "text": [
            "model, accuracy, precision, recall, fscore, time (s)\n",
            "KNN, 0.6439, 0.6534, 0.6424, 0.6356, 0.0721\n",
            "Random Forest, 0.8101, 0.8054, 0.8077, 0.8041, 3.1203\n",
            "SVM, 0.3621, 0.5813, 0.3597, 0.3685, 576.7534\n",
            "SGD, 0.3523, 0.4653, 0.3452, 0.3382, 13.4333\n",
            "MLP, 0.5416, 0.5269, 0.5383, 0.5210, 209.2756\n",
            "Regressão Logística, 0.5676, 0.5560, 0.5666, 0.5527, 32.4680\n"
          ]
        }
      ],
      "source": [
        "print(\"model, accuracy, precision, recall, fscore, time (s)\")\n",
        "# KNN\n",
        "model_knn(x_train, y_train, x_test, y_test)\n",
        "# Random Forest\n",
        "model_rf(x_train, y_train, x_test, y_test)\n",
        "# SVM\n",
        "model_svm(x_train, y_train, x_test, y_test)\n",
        "# Stochastic Gradient Descent\n",
        "model_SGD(x_train, y_train, x_test, y_test)\n",
        "# Multi-layer Perceptron\n",
        "model_MLP(x_train, y_train, x_test, y_test)\n",
        "# Regressão Logística\n",
        "model_regRegression(x_train, y_train, x_test, y_test)"
      ]
    },
    {
      "cell_type": "markdown",
      "metadata": {},
      "source": [
        "#### ~> Obfuscation (-O3)"
      ]
    },
    {
      "cell_type": "code",
      "execution_count": 5,
      "metadata": {},
      "outputs": [],
      "source": [
        "# without obfuscation\n",
        "x_train_O3, y_train_O3 = train_O3.iloc[:,1:-1].to_numpy(), train_O3.iloc[:,-1].to_numpy()\n",
        "x_test_O3, y_test_O3 = test_O3.iloc[:,1:-1].to_numpy(), test_O3.iloc[:,-1].to_numpy() "
      ]
    },
    {
      "cell_type": "markdown",
      "metadata": {},
      "source": [
        "Using O3 only in the testing phase"
      ]
    },
    {
      "cell_type": "code",
      "execution_count": 8,
      "metadata": {},
      "outputs": [
        {
          "name": "stdout",
          "output_type": "stream",
          "text": [
            "model, accuracy, precision, recall, fscore, time (s)\n",
            "KNN, 0.6391, 0.6527, 0.6382, 0.6329, 0.2688\n",
            "Random Forest, 0.8063, 0.8036, 0.8054, 0.8012, 2.2284\n",
            "SVM, 0.2057, 0.3539, 0.2024, 0.2082, 552.6584\n",
            "SGD, 0.3189, 0.4101, 0.3166, 0.2928, 15.3395\n",
            "MLP, 0.5370, 0.5422, 0.5385, 0.5212, 312.6559\n",
            "Regressão Logística, 0.5554, 0.5413, 0.5551, 0.5390, 35.4521\n"
          ]
        }
      ],
      "source": [
        "print(\"model, accuracy, precision, recall, fscore, time (s)\")\n",
        "# KNN\n",
        "model_knn(x_train, y_train, x_test, y_test)\n",
        "# Random Forest\n",
        "model_rf(x_train, y_train, x_test, y_test)\n",
        "# SVM\n",
        "model_svm(x_train, y_train, x_test, y_test)\n",
        "# Stochastic Gradient Descent\n",
        "model_SGD(x_train, y_train, x_test, y_test)\n",
        "# Multi-layer Perceptron\n",
        "model_MLP(x_train, y_train, x_test, y_test)\n",
        "# Regressão Logística\n",
        "model_regRegression(x_train, y_train, x_test, y_test)"
      ]
    },
    {
      "cell_type": "markdown",
      "metadata": {},
      "source": [
        "Using O3 in the testing and training phase"
      ]
    },
    {
      "cell_type": "code",
      "execution_count": 9,
      "metadata": {},
      "outputs": [
        {
          "name": "stdout",
          "output_type": "stream",
          "text": [
            "model, accuracy, precision, recall, fscore, time (s)\n",
            "KNN, 0.7144, 0.7214, 0.7139, 0.7120, 0.0067\n",
            "Random Forest, 0.8625, 0.8623, 0.8627, 0.8612, 2.4515\n",
            "SVM, 0.5498, 0.6439, 0.5480, 0.5385, 545.9361\n",
            "SGD, 0.4041, 0.5204, 0.4020, 0.3969, 10.6054\n",
            "MLP, 0.5623, 0.5708, 0.5602, 0.5508, 364.8793\n",
            "Regressão Logística, 0.6506, 0.6429, 0.6480, 0.6393, 40.6874\n"
          ]
        }
      ],
      "source": [
        "print(\"model, accuracy, precision, recall, fscore, time (s)\")\n",
        "# KNN\n",
        "model_knn(x_train_O3, y_train_O3, x_test_O3, y_test_O3)\n",
        "# Random Forest\n",
        "model_rf(x_train_O3, y_train_O3, x_test_O3, y_test_O3)\n",
        "# SVM\n",
        "model_svm(x_train_O3, y_train_O3, x_test_O3, y_test_O3)\n",
        "# Stochastic Gradient Descent\n",
        "model_SGD(x_train_O3, y_train_O3, x_test_O3, y_test_O3)\n",
        "# Multi-layer Perceptron\n",
        "model_MLP(x_train_O3, y_train_O3, x_test_O3, y_test_O3)\n",
        "# Regressão Logística\n",
        "model_regRegression(x_train_O3, y_train_O3, x_test_O3, y_test_O3)"
      ]
    }
  ],
  "metadata": {
    "accelerator": "GPU",
    "colab": {
      "collapsed_sections": [
        "ng9natt-O0QO"
      ],
      "name": "MethodsSkLearnObfuscationPOJ104Classes.ipynb",
      "provenance": []
    },
    "kernelspec": {
      "display_name": "Python 3",
      "name": "python3"
    },
    "language_info": {
      "codemirror_mode": {
        "name": "ipython",
        "version": 3
      },
      "file_extension": ".py",
      "mimetype": "text/x-python",
      "name": "python",
      "nbconvert_exporter": "python",
      "pygments_lexer": "ipython3",
      "version": "3.8.10"
    }
  },
  "nbformat": 4,
  "nbformat_minor": 0
}
