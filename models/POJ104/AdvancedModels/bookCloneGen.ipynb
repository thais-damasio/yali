{
  "cells": [
    {
      "cell_type": "markdown",
      "metadata": {
        "id": "UXCz4B_NTSsY"
      },
      "source": [
        "## Models with POJ Dataset\n",
        "Models trained using POJ104 variations and tested with CloneGen\n",
        "\n",
        "---"
      ]
    },
    {
      "cell_type": "markdown",
      "metadata": {},
      "source": [
        "### Setup"
      ]
    },
    {
      "cell_type": "markdown",
      "metadata": {
        "id": "ng9natt-O0QO"
      },
      "source": [
        "#### ~> Installing Libraries"
      ]
    },
    {
      "cell_type": "code",
      "execution_count": 1,
      "metadata": {
        "id": "Uv3ec1BIO41p"
      },
      "outputs": [],
      "source": [
        "!pip3 install -q seaborn\n",
        "!pip3 install -q sklearn\n",
        "!pip3 install -q keras"
      ]
    },
    {
      "cell_type": "markdown",
      "metadata": {
        "id": "MdjlFzdWIU44"
      },
      "source": [
        "#### ~> Imports of the project"
      ]
    },
    {
      "cell_type": "code",
      "execution_count": 2,
      "metadata": {
        "id": "gFEGuxDNK0rk"
      },
      "outputs": [],
      "source": [
        "from models import model_knn, model_MLP, model_SGD, model_regRegression, model_svm, model_rf\n",
        "from sklearn.model_selection import train_test_split\n",
        "import pandas as pd\n",
        "import warnings\n",
        "\n",
        "warnings.filterwarnings('ignore')"
      ]
    },
    {
      "cell_type": "markdown",
      "metadata": {
        "id": "W1wctYcqLD6p"
      },
      "source": [
        "#### ~> Loading the Datasets"
      ]
    },
    {
      "cell_type": "code",
      "execution_count": 3,
      "metadata": {
        "id": "ZhVyWz1HLHhJ"
      },
      "outputs": [],
      "source": [
        "# Without obfuscation\n",
        "df = pd.read_csv(\"./../../../features/POJ/poj_features_O0.csv\", skipinitialspace=True)\n",
        "\n",
        "# Optimizations\n",
        "df_O3 = pd.read_csv(\"./../../../features/POJ/poj_features_O3.csv\", skipinitialspace=True)\n",
        "\n",
        "# CloneGen\n",
        "df_drlsg = pd.read_csv(\"./../../../features/POJ/DRLSG_features_O0.csv\", skipinitialspace=True)\n",
        "df_drlsg_O3 = pd.read_csv(\"./../../../features/POJ/DRLSG_features_O3.csv\", skipinitialspace=True)\n",
        "df_ga = pd.read_csv(\"./../../../features/POJ/GA_features_O0.csv\", skipinitialspace=True)\n",
        "df_ga_O3 = pd.read_csv(\"./../../../features/POJ/GA_features_O3.csv\", skipinitialspace=True)\n",
        "df_mcmc = pd.read_csv(\"./../../../features/POJ/MCMC_features_O0.csv\", skipinitialspace=True)\n",
        "df_mcmc_O3 = pd.read_csv(\"./../../../features/POJ/MCMC_features_O3.csv\", skipinitialspace=True)\n",
        "df_ojclone = pd.read_csv(\"./../../../features/POJ/OJClone_features_O0.csv\", skipinitialspace=True)\n",
        "df_ojclone_O3 = pd.read_csv(\"./../../../features/POJ/OJClone_features_O3.csv\", skipinitialspace=True)\n",
        "df_rs = pd.read_csv(\"./../../../features/POJ/RS_features_O0.csv\", skipinitialspace=True)\n",
        "df_rs_O3 = pd.read_csv(\"./../../../features/POJ/RS_features_O3.csv\", skipinitialspace=True)"
      ]
    },
    {
      "cell_type": "markdown",
      "metadata": {
        "id": "Hy799cXbCHbQ"
      },
      "source": [
        "#### ~> Split the datasets into a training and test set"
      ]
    },
    {
      "cell_type": "code",
      "execution_count": 4,
      "metadata": {
        "colab": {
          "base_uri": "https://localhost:8080/"
        },
        "id": "dfFdipbxiOGc",
        "outputId": "c311f605-f131-464c-862f-75669ab426f9"
      },
      "outputs": [],
      "source": [
        "# Without obfuscation\n",
        "train, test = train_test_split(df, test_size=0.2)\n",
        "\n",
        "# Optimizations\n",
        "train_O3, test_O3 = train_test_split(df_O3, test_size=0.2)\n",
        "\n",
        "# CloneGen\n",
        "train_drlsg, test_drlsg = train_test_split(df_drlsg, test_size=0.2)\n",
        "train_drlsg_O3, test_drlsg_O3 = train_test_split(df_drlsg_O3, test_size=0.2)\n",
        "train_ga, test_ga = train_test_split(df_ga, test_size=0.2)\n",
        "train_ga_O3, test_ga_O3 = train_test_split(df_ga_O3, test_size=0.2)\n",
        "train_mcmc, test_mcmc = train_test_split(df_mcmc, test_size=0.2)\n",
        "train_mcmc_O3, test_mcmc_O3 = train_test_split(df_mcmc_O3, test_size=0.2)\n",
        "train_ojclone, test_ojclone = train_test_split(df_ojclone, test_size=0.2)\n",
        "train_ojclone_O3, test_ojclone_O3 = train_test_split(df_ojclone_O3, test_size=0.2)\n",
        "train_rs, test_rs = train_test_split(df_rs, test_size=0.2)\n",
        "train_rs_O3, test_rs_O3 = train_test_split(df_rs_O3, test_size=0.2)"
      ]
    },
    {
      "cell_type": "markdown",
      "metadata": {},
      "source": [
        "### Case of Studies"
      ]
    },
    {
      "cell_type": "markdown",
      "metadata": {},
      "source": [
        "#### ~> CloneGen"
      ]
    },
    {
      "cell_type": "code",
      "execution_count": 5,
      "metadata": {},
      "outputs": [],
      "source": [
        "# O3\n",
        "x_train_O3, y_train_O3 = train_O3.iloc[:,1:-1].to_numpy(), train_O3.iloc[:,-1].to_numpy()\n",
        "x_test_O3, y_test_O3 = test_O3.iloc[:,1:-1].to_numpy(), test_O3.iloc[:,-1].to_numpy() \n",
        "\n",
        "# Training and testing database without obfuscation\n",
        "x_train, y_train = train.iloc[:,1:-1].to_numpy(), train.iloc[:,-1].to_numpy()\n",
        "x_test, y_test = test.iloc[:,1:-1].to_numpy(), test.iloc[:,-1].to_numpy()  \n",
        "\n",
        "size = len(x_train)"
      ]
    },
    {
      "cell_type": "markdown",
      "metadata": {},
      "source": [
        "##### **DRLSG**"
      ]
    },
    {
      "cell_type": "code",
      "execution_count": 6,
      "metadata": {},
      "outputs": [],
      "source": [
        "# without O3\n",
        "x_train_drlsg, y_train_drlsg = train_drlsg.iloc[:,1:-1].to_numpy(), train_drlsg.iloc[:,-1].to_numpy()\n",
        "x_test_drlsg, y_test_drlsg = test_drlsg.iloc[:,1:-1].to_numpy(), test_drlsg.iloc[:,-1].to_numpy()\n",
        "\n",
        "# with O3\n",
        "x_train_drlsg_O3, y_train_drlsg_O3 = train_drlsg_O3.iloc[:,1:-1].to_numpy(), train_drlsg_O3.iloc[:,-1].to_numpy()\n",
        "x_test_drlsg_O3, y_test_drlsg_O3 = test_drlsg_O3.iloc[:,1:-1].to_numpy(), test_drlsg_O3.iloc[:,-1].to_numpy()"
      ]
    },
    {
      "cell_type": "markdown",
      "metadata": {},
      "source": [
        "Using DRLSG only in the testing phase in a model trained with O0"
      ]
    },
    {
      "cell_type": "code",
      "execution_count": 7,
      "metadata": {},
      "outputs": [
        {
          "name": "stdout",
          "output_type": "stream",
          "text": [
            "model, accuracy, precision, recall, fscore, time (s)\n",
            "KNN, 0.0027, 0.0027, 0.0028, 0.0027, 0.0766\n",
            "Random Forest, 0.0007, 0.0007, 0.0008, 0.0007, 3.3080\n",
            "SVM, 0.0081, 0.0012, 0.0084, 0.0012, 530.4946\n",
            "SGD, 0.0076, 0.0063, 0.0081, 0.0016, 17.4316\n",
            "MLP, 0.0040, 0.0044, 0.0039, 0.0039, 356.0141\n",
            "Regressão Logística, 0.0059, 0.0035, 0.0062, 0.0040, 58.6571\n"
          ]
        }
      ],
      "source": [
        "print(\"model, accuracy, precision, recall, fscore, time (s)\")\n",
        "# KNN\n",
        "model_knn(x_train, y_train, x_test_drlsg, y_test_drlsg)\n",
        "# Random Forest\n",
        "model_rf(x_train, y_train, x_test_drlsg, y_test_drlsg)\n",
        "# SVM\n",
        "model_svm(x_train, y_train, x_test_drlsg, y_test_drlsg)\n",
        "# Stochastic Gradient Descent\n",
        "model_SGD(x_train, y_train, x_test_drlsg, y_test_drlsg)\n",
        "# Multi-layer Perceptron\n",
        "model_MLP(x_train, y_train, x_test_drlsg, y_test_drlsg)\n",
        "# Regressão Logística\n",
        "model_regRegression(x_train, y_train, x_test_drlsg, y_test_drlsg)"
      ]
    },
    {
      "cell_type": "markdown",
      "metadata": {},
      "source": [
        "Using DRLSG only in the testing phase in a model trained with O3"
      ]
    },
    {
      "cell_type": "code",
      "execution_count": 8,
      "metadata": {},
      "outputs": [
        {
          "name": "stdout",
          "output_type": "stream",
          "text": [
            "model, accuracy, precision, recall, fscore, time (s)\n",
            "KNN, 0.0068, 0.0010, 0.0060, 0.0013, 0.0292\n",
            "Random Forest, 0.0112, 0.0078, 0.0100, 0.0035, 3.7634\n",
            "SVM, 0.0094, 0.0016, 0.0091, 0.0021, 525.7817\n",
            "SGD, 0.0077, 0.0023, 0.0085, 0.0028, 12.2617\n",
            "MLP, 0.0115, 0.0123, 0.0119, 0.0076, 374.9362\n",
            "Regressão Logística, 0.0066, 0.0027, 0.0059, 0.0019, 61.4750\n"
          ]
        }
      ],
      "source": [
        "print(\"model, accuracy, precision, recall, fscore, time (s)\")\n",
        "# KNN\n",
        "model_knn(x_train_O3, y_train_O3, x_test_drlsg, y_test_drlsg)\n",
        "# Random Forest\n",
        "model_rf(x_train_O3, y_train_O3, x_test_drlsg, y_test_drlsg)\n",
        "# SVM\n",
        "model_svm(x_train_O3, y_train_O3, x_test_drlsg, y_test_drlsg)\n",
        "# Stochastic Gradient Descent\n",
        "model_SGD(x_train_O3, y_train_O3, x_test_drlsg, y_test_drlsg)\n",
        "# Multi-layer Perceptron\n",
        "model_MLP(x_train_O3, y_train_O3, x_test_drlsg, y_test_drlsg)\n",
        "# Regressão Logística\n",
        "model_regRegression(x_train_O3, y_train_O3, x_test_drlsg, y_test_drlsg)"
      ]
    },
    {
      "cell_type": "markdown",
      "metadata": {},
      "source": [
        "Using DRLSG+O3 only in the testing phase in a model trained with O0"
      ]
    },
    {
      "cell_type": "code",
      "execution_count": 9,
      "metadata": {},
      "outputs": [
        {
          "name": "stdout",
          "output_type": "stream",
          "text": [
            "model, accuracy, precision, recall, fscore, time (s)\n",
            "KNN, 0.0107, 0.0048, 0.0107, 0.0043, 0.0213\n",
            "Random Forest, 0.0072, 0.0077, 0.0073, 0.0056, 3.7648\n",
            "SVM, 0.0061, 0.0009, 0.0062, 0.0014, 481.6119\n",
            "SGD, 0.0058, 0.0011, 0.0062, 0.0017, 16.4608\n",
            "MLP, 0.0042, 0.0042, 0.0041, 0.0035, 350.2362\n",
            "Regressão Logística, 0.0064, 0.0014, 0.0060, 0.0013, 59.9822\n"
          ]
        }
      ],
      "source": [
        "print(\"model, accuracy, precision, recall, fscore, time (s)\")\n",
        "# KNN\n",
        "model_knn(x_train, y_train, x_test_drlsg_O3, y_test_drlsg_O3)\n",
        "# Random Forest\n",
        "model_rf(x_train, y_train, x_test_drlsg_O3, y_test_drlsg_O3)\n",
        "# SVM\n",
        "model_svm(x_train, y_train, x_test_drlsg_O3, y_test_drlsg_O3)\n",
        "# Stochastic Gradient Descent\n",
        "model_SGD(x_train, y_train, x_test_drlsg_O3, y_test_drlsg_O3)\n",
        "# Multi-layer Perceptron\n",
        "model_MLP(x_train, y_train, x_test_drlsg_O3, y_test_drlsg_O3)\n",
        "# Regressão Logística\n",
        "model_regRegression(x_train, y_train, x_test_drlsg_O3, y_test_drlsg_O3)"
      ]
    },
    {
      "cell_type": "markdown",
      "metadata": {},
      "source": [
        "Using DRLSG+O3 only in the testing phase in a model trained with O3"
      ]
    },
    {
      "cell_type": "code",
      "execution_count": 10,
      "metadata": {},
      "outputs": [
        {
          "name": "stdout",
          "output_type": "stream",
          "text": [
            "model, accuracy, precision, recall, fscore, time (s)\n",
            "KNN, 0.0022, 0.0020, 0.0022, 0.0019, 0.2559\n",
            "Random Forest, 0.0010, 0.0011, 0.0011, 0.0011, 4.1311\n",
            "SVM, 0.0015, 0.0017, 0.0015, 0.0014, 513.3512\n",
            "SGD, 0.0045, 0.0025, 0.0047, 0.0026, 12.2250\n",
            "MLP, 0.0033, 0.0035, 0.0035, 0.0031, 331.0829\n",
            "Regressão Logística, 0.0038, 0.0040, 0.0038, 0.0035, 95.1594\n"
          ]
        }
      ],
      "source": [
        "print(\"model, accuracy, precision, recall, fscore, time (s)\")\n",
        "# KNN\n",
        "model_knn(x_train_O3, y_train_O3, x_test_drlsg_O3, y_test_drlsg_O3)\n",
        "# Random Forest\n",
        "model_rf(x_train_O3, y_train_O3, x_test_drlsg_O3, y_test_drlsg_O3)\n",
        "# SVM\n",
        "model_svm(x_train_O3, y_train_O3, x_test_drlsg_O3, y_test_drlsg_O3)\n",
        "# Stochastic Gradient Descent\n",
        "model_SGD(x_train_O3, y_train_O3, x_test_drlsg_O3, y_test_drlsg_O3)\n",
        "# Multi-layer Perceptron\n",
        "model_MLP(x_train_O3, y_train_O3, x_test_drlsg_O3, y_test_drlsg_O3)\n",
        "# Regressão Logística\n",
        "model_regRegression(x_train_O3, y_train_O3, x_test_drlsg_O3, y_test_drlsg_O3)"
      ]
    },
    {
      "cell_type": "markdown",
      "metadata": {},
      "source": [
        "##### **GA**"
      ]
    },
    {
      "cell_type": "code",
      "execution_count": 11,
      "metadata": {},
      "outputs": [],
      "source": [
        "# without O3\n",
        "x_train_ga, y_train_ga = train_ga.iloc[:,1:-1].to_numpy(), train_ga.iloc[:,-1].to_numpy()\n",
        "x_test_ga, y_test_ga = test_ga.iloc[:,1:-1].to_numpy(), test_ga.iloc[:,-1].to_numpy()\n",
        "\n",
        "# with O3\n",
        "x_train_ga_O3, y_train_ga_O3 = train_ga_O3.iloc[:,1:-1].to_numpy(), train_ga_O3.iloc[:,-1].to_numpy()\n",
        "x_test_ga_O3, y_test_ga_O3 = test_ga_O3.iloc[:,1:-1].to_numpy(), test_ga_O3.iloc[:,-1].to_numpy()"
      ]
    },
    {
      "cell_type": "markdown",
      "metadata": {},
      "source": [
        "Using GA only in the testing phase in a model trained with O0"
      ]
    },
    {
      "cell_type": "code",
      "execution_count": 12,
      "metadata": {},
      "outputs": [
        {
          "name": "stdout",
          "output_type": "stream",
          "text": [
            "model, accuracy, precision, recall, fscore, time (s)\n",
            "KNN, 0.0059, 0.0056, 0.0059, 0.0050, 0.0068\n",
            "Random Forest, 0.0081, 0.0023, 0.0077, 0.0024, 3.5211\n",
            "SVM, 0.0083, 0.0019, 0.0088, 0.0027, 466.4460\n",
            "SGD, 0.0107, 0.0067, 0.0104, 0.0025, 17.2417\n",
            "MLP, 0.0047, 0.0113, 0.0062, 0.0035, 332.9040\n",
            "Regressão Logística, 0.0055, 0.0062, 0.0061, 0.0031, 63.0824\n"
          ]
        }
      ],
      "source": [
        "print(\"model, accuracy, precision, recall, fscore, time (s)\")\n",
        "# KNN\n",
        "model_knn(x_train, y_train, x_test_ga, y_test_ga)\n",
        "# Random Forest\n",
        "model_rf(x_train, y_train, x_test_ga, y_test_ga)\n",
        "# SVM\n",
        "model_svm(x_train, y_train, x_test_ga, y_test_ga)\n",
        "# Stochastic Gradient Descent\n",
        "model_SGD(x_train, y_train, x_test_ga, y_test_ga)\n",
        "# Multi-layer Perceptron\n",
        "model_MLP(x_train, y_train, x_test_ga, y_test_ga)\n",
        "# Regressão Logística\n",
        "model_regRegression(x_train, y_train, x_test_ga, y_test_ga)"
      ]
    },
    {
      "cell_type": "markdown",
      "metadata": {},
      "source": [
        "Using GA only in the testing phase in a model trained with O3"
      ]
    },
    {
      "cell_type": "code",
      "execution_count": 13,
      "metadata": {},
      "outputs": [
        {
          "name": "stdout",
          "output_type": "stream",
          "text": [
            "model, accuracy, precision, recall, fscore, time (s)\n",
            "KNN, 0.0091, 0.0107, 0.0089, 0.0015, 0.0799\n",
            "Random Forest, 0.0095, 0.0010, 0.0086, 0.0013, 3.9344\n",
            "SVM, 0.0119, 0.0013, 0.0134, 0.0020, 514.0499\n",
            "SGD, 0.0036, 0.0005, 0.0033, 0.0005, 12.7895\n",
            "MLP, 0.0091, 0.0155, 0.0129, 0.0078, 348.9801\n",
            "Regressão Logística, 0.0091, 0.0004, 0.0087, 0.0008, 61.4774\n"
          ]
        }
      ],
      "source": [
        "print(\"model, accuracy, precision, recall, fscore, time (s)\")\n",
        "# KNN\n",
        "model_knn(x_train_O3, y_train_O3, x_test_ga, y_test_ga)\n",
        "# Random Forest\n",
        "model_rf(x_train_O3, y_train_O3, x_test_ga, y_test_ga)\n",
        "# SVM\n",
        "model_svm(x_train_O3, y_train_O3, x_test_ga, y_test_ga)\n",
        "# Stochastic Gradient Descent\n",
        "model_SGD(x_train_O3, y_train_O3, x_test_ga, y_test_ga)\n",
        "# Multi-layer Perceptron\n",
        "model_MLP(x_train_O3, y_train_O3, x_test_ga, y_test_ga)\n",
        "# Regressão Logística\n",
        "model_regRegression(x_train_O3, y_train_O3, x_test_ga, y_test_ga)"
      ]
    },
    {
      "cell_type": "markdown",
      "metadata": {},
      "source": [
        "Using GA+O3 only in the testing phase in a model trained with O0"
      ]
    },
    {
      "cell_type": "code",
      "execution_count": 14,
      "metadata": {},
      "outputs": [
        {
          "name": "stdout",
          "output_type": "stream",
          "text": [
            "model, accuracy, precision, recall, fscore, time (s)\n",
            "KNN, 0.0103, 0.0039, 0.0106, 0.0039, 0.0395\n",
            "Random Forest, 0.0030, 0.0026, 0.0029, 0.0024, 3.6602\n",
            "SVM, 0.0065, 0.0011, 0.0061, 0.0016, 474.4402\n",
            "SGD, 0.0069, 0.0033, 0.0062, 0.0018, 16.0502\n",
            "MLP, 0.0047, 0.0037, 0.0037, 0.0029, 313.8272\n",
            "Regressão Logística, 0.0065, 0.0012, 0.0079, 0.0014, 56.9964\n"
          ]
        }
      ],
      "source": [
        "print(\"model, accuracy, precision, recall, fscore, time (s)\")\n",
        "# KNN\n",
        "model_knn(x_train, y_train, x_test_ga_O3, y_test_ga_O3)\n",
        "# Random Forest\n",
        "model_rf(x_train, y_train, x_test_ga_O3, y_test_ga_O3)\n",
        "# SVM\n",
        "model_svm(x_train, y_train, x_test_ga_O3, y_test_ga_O3)\n",
        "# Stochastic Gradient Descent\n",
        "model_SGD(x_train, y_train, x_test_ga_O3, y_test_ga_O3)\n",
        "# Multi-layer Perceptron\n",
        "model_MLP(x_train, y_train, x_test_ga_O3, y_test_ga_O3)\n",
        "# Regressão Logística\n",
        "model_regRegression(x_train, y_train, x_test_ga_O3, y_test_ga_O3)"
      ]
    },
    {
      "cell_type": "markdown",
      "metadata": {},
      "source": [
        "Using GA only in the testing phase in a model trained with O3"
      ]
    },
    {
      "cell_type": "code",
      "execution_count": 15,
      "metadata": {},
      "outputs": [
        {
          "name": "stdout",
          "output_type": "stream",
          "text": [
            "model, accuracy, precision, recall, fscore, time (s)\n",
            "KNN, 0.0018, 0.0018, 0.0022, 0.0017, 0.0199\n",
            "Random Forest, 0.0002, 0.0003, 0.0003, 0.0003, 3.7777\n",
            "SVM, 0.0042, 0.0024, 0.0037, 0.0013, 511.2106\n",
            "SGD, 0.0049, 0.0071, 0.0051, 0.0038, 12.4390\n",
            "MLP, 0.0042, 0.0056, 0.0040, 0.0036, 342.8504\n",
            "Regressão Logística, 0.0018, 0.0024, 0.0019, 0.0019, 52.9009\n"
          ]
        }
      ],
      "source": [
        "print(\"model, accuracy, precision, recall, fscore, time (s)\")\n",
        "# KNN\n",
        "model_knn(x_train_O3, y_train_O3, x_test_ga_O3, y_test_ga_O3)\n",
        "# Random Forest\n",
        "model_rf(x_train_O3, y_train_O3, x_test_ga_O3, y_test_ga_O3)\n",
        "# SVM\n",
        "model_svm(x_train_O3, y_train_O3, x_test_ga_O3, y_test_ga_O3)\n",
        "# Stochastic Gradient Descent\n",
        "model_SGD(x_train_O3, y_train_O3, x_test_ga_O3, y_test_ga_O3)\n",
        "# Multi-layer Perceptron\n",
        "model_MLP(x_train_O3, y_train_O3, x_test_ga_O3, y_test_ga_O3)\n",
        "# Regressão Logística\n",
        "model_regRegression(x_train_O3, y_train_O3, x_test_ga_O3, y_test_ga_O3)"
      ]
    },
    {
      "cell_type": "markdown",
      "metadata": {},
      "source": [
        "##### **MCMC**"
      ]
    },
    {
      "cell_type": "code",
      "execution_count": 16,
      "metadata": {},
      "outputs": [],
      "source": [
        "# without MCMC\n",
        "x_train_mcmc, y_train_mcmc = train_mcmc.iloc[:,1:-1].to_numpy(), train_mcmc.iloc[:,-1].to_numpy()\n",
        "x_test_mcmc, y_test_mcmc = test_mcmc.iloc[:,1:-1].to_numpy(), test_mcmc.iloc[:,-1].to_numpy()\n",
        "\n",
        "# with O3\n",
        "x_train_mcmc_O3, y_train_mcmc_O3 = train_mcmc_O3.iloc[:,1:-1].to_numpy(), train_mcmc_O3.iloc[:,-1].to_numpy()\n",
        "x_test_mcmc_O3, y_test_mcmc_O3 = test_mcmc_O3.iloc[:,1:-1].to_numpy(), test_mcmc_O3.iloc[:,-1].to_numpy()"
      ]
    },
    {
      "cell_type": "markdown",
      "metadata": {},
      "source": [
        "Using MCMC only in the testing phase in a model trained with O0"
      ]
    },
    {
      "cell_type": "code",
      "execution_count": 17,
      "metadata": {},
      "outputs": [
        {
          "name": "stdout",
          "output_type": "stream",
          "text": [
            "model, accuracy, precision, recall, fscore, time (s)\n",
            "KNN, 0.0052, 0.0043, 0.0049, 0.0038, 0.0045\n",
            "Random Forest, 0.0063, 0.0015, 0.0068, 0.0019, 3.4793\n",
            "SVM, 0.0088, 0.0019, 0.0092, 0.0024, 466.9386\n",
            "SGD, 0.0052, 0.0034, 0.0058, 0.0020, 16.3040\n",
            "MLP, 0.0046, 0.0095, 0.0053, 0.0035, 330.5752\n",
            "Regressão Logística, 0.0053, 0.0061, 0.0056, 0.0038, 62.7063\n"
          ]
        }
      ],
      "source": [
        "print(\"model, accuracy, precision, recall, fscore, time (s)\")\n",
        "# KNN\n",
        "model_knn(x_train, y_train, x_test_mcmc, y_test_mcmc)\n",
        "# Random Forest\n",
        "model_rf(x_train, y_train, x_test_mcmc, y_test_mcmc)\n",
        "# SVM\n",
        "model_svm(x_train, y_train, x_test_mcmc, y_test_mcmc)\n",
        "# Stochastic Gradient Descent\n",
        "model_SGD(x_train, y_train, x_test_mcmc, y_test_mcmc)\n",
        "# Multi-layer Perceptron\n",
        "model_MLP(x_train, y_train, x_test_mcmc, y_test_mcmc)\n",
        "# Regressão Logística\n",
        "model_regRegression(x_train, y_train, x_test_mcmc, y_test_mcmc)"
      ]
    },
    {
      "cell_type": "markdown",
      "metadata": {},
      "source": [
        "Using MCMC only in the testing phase in a model trained with O3"
      ]
    },
    {
      "cell_type": "code",
      "execution_count": 18,
      "metadata": {},
      "outputs": [
        {
          "name": "stdout",
          "output_type": "stream",
          "text": [
            "model, accuracy, precision, recall, fscore, time (s)\n",
            "KNN, 0.0077, 0.0019, 0.0069, 0.0013, 0.0431\n",
            "Random Forest, 0.0141, 0.0110, 0.0135, 0.0030, 3.8145\n",
            "SVM, 0.0094, 0.0055, 0.0123, 0.0013, 506.2153\n",
            "SGD, 0.0053, 0.0009, 0.0048, 0.0011, 12.3887\n",
            "MLP, 0.0078, 0.0172, 0.0081, 0.0053, 366.6095\n",
            "Regressão Logística, 0.0064, 0.0014, 0.0063, 0.0010, 49.7117\n"
          ]
        }
      ],
      "source": [
        "print(\"model, accuracy, precision, recall, fscore, time (s)\")\n",
        "# KNN\n",
        "model_knn(x_train_O3, y_train_O3, x_test_mcmc, y_test_mcmc)\n",
        "# Random Forest\n",
        "model_rf(x_train_O3, y_train_O3, x_test_mcmc, y_test_mcmc)\n",
        "# SVM\n",
        "model_svm(x_train_O3, y_train_O3, x_test_mcmc, y_test_mcmc)\n",
        "# Stochastic Gradient Descent\n",
        "model_SGD(x_train_O3, y_train_O3, x_test_mcmc, y_test_mcmc)\n",
        "# Multi-layer Perceptron\n",
        "model_MLP(x_train_O3, y_train_O3, x_test_mcmc, y_test_mcmc)\n",
        "# Regressão Logística\n",
        "model_regRegression(x_train_O3, y_train_O3, x_test_mcmc, y_test_mcmc)"
      ]
    },
    {
      "cell_type": "markdown",
      "metadata": {},
      "source": [
        "Using MCMC+O3 only in the testing phase in a model trained with O0"
      ]
    },
    {
      "cell_type": "code",
      "execution_count": 19,
      "metadata": {},
      "outputs": [
        {
          "name": "stdout",
          "output_type": "stream",
          "text": [
            "model, accuracy, precision, recall, fscore, time (s)\n",
            "KNN, 0.0121, 0.0069, 0.0108, 0.0051, 0.0068\n",
            "Random Forest, 0.0068, 0.0043, 0.0063, 0.0035, 3.7495\n",
            "SVM, 0.0118, 0.0019, 0.0103, 0.0028, 469.0862\n",
            "SGD, 0.0068, 0.0017, 0.0058, 0.0022, 16.1832\n",
            "MLP, 0.0055, 0.0036, 0.0041, 0.0035, 344.0198\n",
            "Regressão Logística, 0.0126, 0.0031, 0.0110, 0.0021, 55.1880\n"
          ]
        }
      ],
      "source": [
        "print(\"model, accuracy, precision, recall, fscore, time (s)\")\n",
        "# KNN\n",
        "model_knn(x_train, y_train, x_test_mcmc_O3, y_test_mcmc_O3)\n",
        "# Random Forest\n",
        "model_rf(x_train, y_train, x_test_mcmc_O3, y_test_mcmc_O3)\n",
        "# SVM\n",
        "model_svm(x_train, y_train, x_test_mcmc_O3, y_test_mcmc_O3)\n",
        "# Stochastic Gradient Descent\n",
        "model_SGD(x_train, y_train, x_test_mcmc_O3, y_test_mcmc_O3)\n",
        "# Multi-layer Perceptron\n",
        "model_MLP(x_train, y_train, x_test_mcmc_O3, y_test_mcmc_O3)\n",
        "# Regressão Logística\n",
        "model_regRegression(x_train, y_train, x_test_mcmc_O3, y_test_mcmc_O3)"
      ]
    },
    {
      "cell_type": "markdown",
      "metadata": {},
      "source": [
        "Using MCMC+O3 only in the testing phase in a model trained with O3"
      ]
    },
    {
      "cell_type": "code",
      "execution_count": 20,
      "metadata": {},
      "outputs": [
        {
          "name": "stdout",
          "output_type": "stream",
          "text": [
            "model, accuracy, precision, recall, fscore, time (s)\n",
            "KNN, 0.0017, 0.0019, 0.0018, 0.0018, 0.0301\n",
            "Random Forest, 0.0006, 0.0006, 0.0007, 0.0007, 4.1988\n",
            "SVM, 0.0053, 0.0029, 0.0051, 0.0032, 515.1199\n",
            "SGD, 0.0077, 0.0087, 0.0080, 0.0043, 11.7058\n",
            "MLP, 0.0050, 0.0058, 0.0053, 0.0049, 354.4169\n",
            "Regressão Logística, 0.0031, 0.0034, 0.0035, 0.0033, 63.4789\n"
          ]
        }
      ],
      "source": [
        "print(\"model, accuracy, precision, recall, fscore, time (s)\")\n",
        "# KNN\n",
        "model_knn(x_train_O3, y_train_O3, x_test_mcmc_O3, y_test_mcmc_O3)\n",
        "# Random Forest\n",
        "model_rf(x_train_O3, y_train_O3, x_test_mcmc_O3, y_test_mcmc_O3)\n",
        "# SVM\n",
        "model_svm(x_train_O3, y_train_O3, x_test_mcmc_O3, y_test_mcmc_O3)\n",
        "# Stochastic Gradient Descent\n",
        "model_SGD(x_train_O3, y_train_O3, x_test_mcmc_O3, y_test_mcmc_O3)\n",
        "# Multi-layer Perceptron\n",
        "model_MLP(x_train_O3, y_train_O3, x_test_mcmc_O3, y_test_mcmc_O3)\n",
        "# Regressão Logística\n",
        "model_regRegression(x_train_O3, y_train_O3, x_test_mcmc_O3, y_test_mcmc_O3)"
      ]
    },
    {
      "cell_type": "markdown",
      "metadata": {},
      "source": [
        "##### **OJClone**"
      ]
    },
    {
      "cell_type": "code",
      "execution_count": 21,
      "metadata": {},
      "outputs": [],
      "source": [
        "# without O3\n",
        "x_train_ojclone, y_train_ojclone = train_ojclone.iloc[:,1:-1].to_numpy(), train_ojclone.iloc[:,-1].to_numpy()\n",
        "x_test_ojclone, y_test_ojclone = test_ojclone.iloc[:,1:-1].to_numpy(), test_ojclone.iloc[:,-1].to_numpy()\n",
        "\n",
        "# with O3\n",
        "x_train_ojclone_O3, y_train_ojclone_O3 = train_ojclone_O3.iloc[:,1:-1].to_numpy(), train_ojclone_O3.iloc[:,-1].to_numpy()\n",
        "x_test_ojclone_O3, y_test_ojclone_O3 = test_ojclone_O3.iloc[:,1:-1].to_numpy(), test_ojclone_O3.iloc[:,-1].to_numpy()"
      ]
    },
    {
      "cell_type": "markdown",
      "metadata": {},
      "source": [
        "Using OJClone only in the testing phase in a model trained with O0"
      ]
    },
    {
      "cell_type": "code",
      "execution_count": 22,
      "metadata": {},
      "outputs": [
        {
          "name": "stdout",
          "output_type": "stream",
          "text": [
            "model, accuracy, precision, recall, fscore, time (s)\n",
            "KNN, 0.0027, 0.0028, 0.0027, 0.0027, 0.0910\n",
            "Random Forest, 0.0003, 0.0003, 0.0003, 0.0003, 4.2307\n",
            "SVM, 0.0089, 0.0009, 0.0093, 0.0011, 473.2594\n",
            "SGD, 0.0026, 0.0011, 0.0025, 0.0014, 16.3037\n",
            "MLP, 0.0041, 0.0056, 0.0043, 0.0046, 341.7382\n",
            "Regressão Logística, 0.0036, 0.0039, 0.0035, 0.0036, 64.0104\n"
          ]
        }
      ],
      "source": [
        "print(\"model, accuracy, precision, recall, fscore, time (s)\")\n",
        "# KNN\n",
        "model_knn(x_train, y_train, x_test_ojclone, y_test_ojclone)\n",
        "# Random Forest\n",
        "model_rf(x_train, y_train, x_test_ojclone, y_test_ojclone)\n",
        "# SVM\n",
        "model_svm(x_train, y_train, x_test_ojclone, y_test_ojclone)\n",
        "# Stochastic Gradient Descent\n",
        "model_SGD(x_train, y_train, x_test_ojclone, y_test_ojclone)\n",
        "# Multi-layer Perceptron\n",
        "model_MLP(x_train, y_train, x_test_ojclone, y_test_ojclone)\n",
        "# Regressão Logística\n",
        "model_regRegression(x_train, y_train, x_test_ojclone, y_test_ojclone)"
      ]
    },
    {
      "cell_type": "markdown",
      "metadata": {},
      "source": [
        "Using OJClone only in the testing phase in a model trained with O3"
      ]
    },
    {
      "cell_type": "code",
      "execution_count": 23,
      "metadata": {},
      "outputs": [
        {
          "name": "stdout",
          "output_type": "stream",
          "text": [
            "model, accuracy, precision, recall, fscore, time (s)\n",
            "KNN, 0.0056, 0.0009, 0.0052, 0.0011, 0.0048\n",
            "Random Forest, 0.0100, 0.0015, 0.0094, 0.0023, 4.0824\n",
            "SVM, 0.0083, 0.0010, 0.0083, 0.0012, 498.5406\n",
            "SGD, 0.0036, 0.0014, 0.0036, 0.0008, 11.8458\n",
            "MLP, 0.0119, 0.0110, 0.0120, 0.0076, 339.7321\n",
            "Regressão Logística, 0.0057, 0.0009, 0.0056, 0.0013, 49.5471\n"
          ]
        }
      ],
      "source": [
        "print(\"model, accuracy, precision, recall, fscore, time (s)\")\n",
        "# KNN\n",
        "model_knn(x_train_O3, y_train_O3, x_test_ojclone, y_test_ojclone)\n",
        "# Random Forest\n",
        "model_rf(x_train_O3, y_train_O3, x_test_ojclone, y_test_ojclone)\n",
        "# SVM\n",
        "model_svm(x_train_O3, y_train_O3, x_test_ojclone, y_test_ojclone)\n",
        "# Stochastic Gradient Descent\n",
        "model_SGD(x_train_O3, y_train_O3, x_test_ojclone, y_test_ojclone)\n",
        "# Multi-layer Perceptron\n",
        "model_MLP(x_train_O3, y_train_O3, x_test_ojclone, y_test_ojclone)\n",
        "# Regressão Logística\n",
        "model_regRegression(x_train_O3, y_train_O3, x_test_ojclone, y_test_ojclone)"
      ]
    },
    {
      "cell_type": "markdown",
      "metadata": {},
      "source": [
        "Using OJClone+O3 only in the testing phase in a model trained with O0"
      ]
    },
    {
      "cell_type": "code",
      "execution_count": 24,
      "metadata": {},
      "outputs": [
        {
          "name": "stdout",
          "output_type": "stream",
          "text": [
            "model, accuracy, precision, recall, fscore, time (s)\n",
            "KNN, 0.0084, 0.0028, 0.0092, 0.0034, 0.0170\n",
            "Random Forest, 0.0052, 0.0069, 0.0051, 0.0037, 3.6515\n",
            "SVM, 0.0095, 0.0107, 0.0100, 0.0021, 478.0379\n",
            "SGD, 0.0062, 0.0020, 0.0069, 0.0026, 15.9718\n",
            "MLP, 0.0046, 0.0038, 0.0048, 0.0036, 331.9484\n",
            "Regressão Logística, 0.0088, 0.0031, 0.0098, 0.0014, 63.9753\n"
          ]
        }
      ],
      "source": [
        "print(\"model, accuracy, precision, recall, fscore, time (s)\")\n",
        "# KNN\n",
        "model_knn(x_train, y_train, x_test_ojclone_O3, y_test_ojclone_O3)\n",
        "# Random Forest\n",
        "model_rf(x_train, y_train, x_test_ojclone_O3, y_test_ojclone_O3)\n",
        "# SVM\n",
        "model_svm(x_train, y_train, x_test_ojclone_O3, y_test_ojclone_O3)\n",
        "# Stochastic Gradient Descent\n",
        "model_SGD(x_train, y_train, x_test_ojclone_O3, y_test_ojclone_O3)\n",
        "# Multi-layer Perceptron\n",
        "model_MLP(x_train, y_train, x_test_ojclone_O3, y_test_ojclone_O3)\n",
        "# Regressão Logística\n",
        "model_regRegression(x_train, y_train, x_test_ojclone_O3, y_test_ojclone_O3)"
      ]
    },
    {
      "cell_type": "markdown",
      "metadata": {},
      "source": [
        "Using OJClone+O3 only in the testing phase in a model trained with O3"
      ]
    },
    {
      "cell_type": "code",
      "execution_count": 25,
      "metadata": {},
      "outputs": [
        {
          "name": "stdout",
          "output_type": "stream",
          "text": [
            "model, accuracy, precision, recall, fscore, time (s)\n",
            "KNN, 0.0026, 0.0025, 0.0025, 0.0025, 0.3603\n",
            "Random Forest, 0.0002, 0.0002, 0.0002, 0.0002, 3.9104\n",
            "SVM, 0.0038, 0.0033, 0.0037, 0.0031, 505.6112\n",
            "SGD, 0.0078, 0.0066, 0.0078, 0.0043, 11.9691\n",
            "MLP, 0.0028, 0.0031, 0.0028, 0.0027, 352.3383\n",
            "Regressão Logística, 0.0027, 0.0032, 0.0027, 0.0029, 81.3427\n"
          ]
        }
      ],
      "source": [
        "print(\"model, accuracy, precision, recall, fscore, time (s)\")\n",
        "# KNN\n",
        "model_knn(x_train_O3, y_train_O3, x_test_ojclone_O3, y_test_ojclone_O3)\n",
        "# Random Forest\n",
        "model_rf(x_train_O3, y_train_O3, x_test_ojclone_O3, y_test_ojclone_O3)\n",
        "# SVM\n",
        "model_svm(x_train_O3, y_train_O3, x_test_ojclone_O3, y_test_ojclone_O3)\n",
        "# Stochastic Gradient Descent\n",
        "model_SGD(x_train_O3, y_train_O3, x_test_ojclone_O3, y_test_ojclone_O3)\n",
        "# Multi-layer Perceptron\n",
        "model_MLP(x_train_O3, y_train_O3, x_test_ojclone_O3, y_test_ojclone_O3)\n",
        "# Regressão Logística\n",
        "model_regRegression(x_train_O3, y_train_O3, x_test_ojclone_O3, y_test_ojclone_O3)"
      ]
    },
    {
      "cell_type": "markdown",
      "metadata": {},
      "source": [
        "##### **RS**"
      ]
    },
    {
      "cell_type": "code",
      "execution_count": 26,
      "metadata": {},
      "outputs": [],
      "source": [
        "# without O3\n",
        "x_train_rs, y_train_rs = train_rs.iloc[:,1:-1].to_numpy(), train_rs.iloc[:,-1].to_numpy()\n",
        "x_test_rs, y_test_rs = test_rs.iloc[:,1:-1].to_numpy(), test_rs.iloc[:,-1].to_numpy()\n",
        "\n",
        "# with O3\n",
        "x_train_rs_O3, y_train_rs_O3 = train_rs_O3.iloc[:,1:-1].to_numpy(), train_rs_O3.iloc[:,-1].to_numpy()\n",
        "x_test_rs_O3, y_test_rs_O3 = test_rs_O3.iloc[:,1:-1].to_numpy(), test_rs_O3.iloc[:,-1].to_numpy()"
      ]
    },
    {
      "cell_type": "markdown",
      "metadata": {},
      "source": [
        "Using RS only in the testing phase in a model trained with O0"
      ]
    },
    {
      "cell_type": "code",
      "execution_count": 27,
      "metadata": {},
      "outputs": [
        {
          "name": "stdout",
          "output_type": "stream",
          "text": [
            "model, accuracy, precision, recall, fscore, time (s)\n",
            "KNN, 0.0052, 0.0050, 0.0052, 0.0042, 0.0051\n",
            "Random Forest, 0.0077, 0.0028, 0.0078, 0.0029, 3.5360\n",
            "SVM, 0.0080, 0.0025, 0.0090, 0.0026, 469.6057\n",
            "SGD, 0.0047, 0.0014, 0.0043, 0.0017, 15.8814\n",
            "MLP, 0.0032, 0.0037, 0.0036, 0.0023, 371.0388\n",
            "Regressão Logística, 0.0061, 0.0057, 0.0066, 0.0044, 60.9023\n"
          ]
        }
      ],
      "source": [
        "print(\"model, accuracy, precision, recall, fscore, time (s)\")\n",
        "# KNN\n",
        "model_knn(x_train, y_train, x_test_rs, y_test_rs)\n",
        "# Random Forest\n",
        "model_rf(x_train, y_train, x_test_rs, y_test_rs)\n",
        "# SVM\n",
        "model_svm(x_train, y_train, x_test_rs, y_test_rs)\n",
        "# Stochastic Gradient Descent\n",
        "model_SGD(x_train, y_train, x_test_rs, y_test_rs)\n",
        "# Multi-layer Perceptron\n",
        "model_MLP(x_train, y_train, x_test_rs, y_test_rs)\n",
        "# Regressão Logística\n",
        "model_regRegression(x_train, y_train, x_test_rs, y_test_rs)"
      ]
    },
    {
      "cell_type": "markdown",
      "metadata": {},
      "source": [
        "Using RS only in the testing phase in a model trained with O3"
      ]
    },
    {
      "cell_type": "code",
      "execution_count": 28,
      "metadata": {},
      "outputs": [
        {
          "name": "stdout",
          "output_type": "stream",
          "text": [
            "model, accuracy, precision, recall, fscore, time (s)\n",
            "KNN, 0.0067, 0.0006, 0.0061, 0.0009, 0.3222\n",
            "Random Forest, 0.0133, 0.0065, 0.0121, 0.0027, 4.3610\n",
            "SVM, 0.0080, 0.0028, 0.0093, 0.0020, 500.4905\n",
            "SGD, 0.0056, 0.0012, 0.0048, 0.0013, 11.9016\n",
            "MLP, 0.0068, 0.0061, 0.0073, 0.0049, 343.0874\n",
            "Regressão Logística, 0.0085, 0.0018, 0.0073, 0.0011, 61.3705\n"
          ]
        }
      ],
      "source": [
        "print(\"model, accuracy, precision, recall, fscore, time (s)\")\n",
        "# KNN\n",
        "model_knn(x_train_O3, y_train_O3, x_test_rs, y_test_rs)\n",
        "# Random Forest\n",
        "model_rf(x_train_O3, y_train_O3, x_test_rs, y_test_rs)\n",
        "# SVM\n",
        "model_svm(x_train_O3, y_train_O3, x_test_rs, y_test_rs)\n",
        "# Stochastic Gradient Descent\n",
        "model_SGD(x_train_O3, y_train_O3, x_test_rs, y_test_rs)\n",
        "# Multi-layer Perceptron\n",
        "model_MLP(x_train_O3, y_train_O3, x_test_rs, y_test_rs)\n",
        "# Regressão Logística\n",
        "model_regRegression(x_train_O3, y_train_O3, x_test_rs, y_test_rs)"
      ]
    },
    {
      "cell_type": "markdown",
      "metadata": {},
      "source": [
        "Using RS+O3 only in the testing phase in a model trained with O0"
      ]
    },
    {
      "cell_type": "code",
      "execution_count": 29,
      "metadata": {},
      "outputs": [
        {
          "name": "stdout",
          "output_type": "stream",
          "text": [
            "model, accuracy, precision, recall, fscore, time (s)\n",
            "KNN, 0.0114, 0.0047, 0.0108, 0.0043, 0.0046\n",
            "Random Forest, 0.0062, 0.0089, 0.0062, 0.0042, 3.7278\n",
            "SVM, 0.0102, 0.0034, 0.0103, 0.0031, 464.9887\n",
            "SGD, 0.0073, 0.0110, 0.0072, 0.0023, 15.7848\n",
            "MLP, 0.0033, 0.0033, 0.0032, 0.0025, 323.3025\n",
            "Regressão Logística, 0.0095, 0.0019, 0.0099, 0.0015, 57.7480\n"
          ]
        }
      ],
      "source": [
        "print(\"model, accuracy, precision, recall, fscore, time (s)\")\n",
        "# KNN\n",
        "model_knn(x_train, y_train, x_test_rs_O3, y_test_rs_O3)\n",
        "# Random Forest\n",
        "model_rf(x_train, y_train, x_test_rs_O3, y_test_rs_O3)\n",
        "# SVM\n",
        "model_svm(x_train, y_train, x_test_rs_O3, y_test_rs_O3)\n",
        "# Stochastic Gradient Descent\n",
        "model_SGD(x_train, y_train, x_test_rs_O3, y_test_rs_O3)\n",
        "# Multi-layer Perceptron\n",
        "model_MLP(x_train, y_train, x_test_rs_O3, y_test_rs_O3)\n",
        "# Regressão Logística\n",
        "model_regRegression(x_train, y_train, x_test_rs_O3, y_test_rs_O3)"
      ]
    },
    {
      "cell_type": "markdown",
      "metadata": {},
      "source": [
        "Using RS+O3 only in the testing phase in a model trained with O3"
      ]
    },
    {
      "cell_type": "code",
      "execution_count": 30,
      "metadata": {},
      "outputs": [
        {
          "name": "stdout",
          "output_type": "stream",
          "text": [
            "model, accuracy, precision, recall, fscore, time (s)\n",
            "KNN, 0.0012, 0.0012, 0.0012, 0.0012, 0.1199\n",
            "Random Forest, 0.0008, 0.0008, 0.0007, 0.0008, 4.0879\n",
            "SVM, 0.0058, 0.0055, 0.0060, 0.0032, 509.3715\n",
            "SGD, 0.0065, 0.0047, 0.0077, 0.0040, 11.8008\n",
            "MLP, 0.0047, 0.0046, 0.0046, 0.0041, 346.0376\n",
            "Regressão Logística, 0.0024, 0.0021, 0.0023, 0.0022, 63.1355\n"
          ]
        }
      ],
      "source": [
        "print(\"model, accuracy, precision, recall, fscore, time (s)\")\n",
        "# KNN\n",
        "model_knn(x_train_O3, y_train_O3, x_test_rs_O3, y_test_rs_O3)\n",
        "# Random Forest\n",
        "model_rf(x_train_O3, y_train_O3, x_test_rs_O3, y_test_rs_O3)\n",
        "# SVM\n",
        "model_svm(x_train_O3, y_train_O3, x_test_rs_O3, y_test_rs_O3)\n",
        "# Stochastic Gradient Descent\n",
        "model_SGD(x_train_O3, y_train_O3, x_test_rs_O3, y_test_rs_O3)\n",
        "# Multi-layer Perceptron\n",
        "model_MLP(x_train_O3, y_train_O3, x_test_rs_O3, y_test_rs_O3)\n",
        "# Regressão Logística\n",
        "model_regRegression(x_train_O3, y_train_O3, x_test_rs_O3, y_test_rs_O3)"
      ]
    }
  ],
  "metadata": {
    "accelerator": "GPU",
    "colab": {
      "collapsed_sections": [
        "ng9natt-O0QO"
      ],
      "name": "MethodsSkLearnObfuscationPOJ104Classes.ipynb",
      "provenance": []
    },
    "kernelspec": {
      "display_name": "Python 3",
      "name": "python3"
    },
    "language_info": {
      "codemirror_mode": {
        "name": "ipython",
        "version": 3
      },
      "file_extension": ".py",
      "mimetype": "text/x-python",
      "name": "python",
      "nbconvert_exporter": "python",
      "pygments_lexer": "ipython3",
      "version": "3.8.10"
    }
  },
  "nbformat": 4,
  "nbformat_minor": 0
}
