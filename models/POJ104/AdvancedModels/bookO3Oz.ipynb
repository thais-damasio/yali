{
  "cells": [
    {
      "cell_type": "markdown",
      "metadata": {
        "id": "UXCz4B_NTSsY"
      },
      "source": [
        "## Models with POJ Dataset (-O3 and -Oz)\n",
        "\n",
        "---"
      ]
    },
    {
      "cell_type": "markdown",
      "metadata": {},
      "source": [
        "### Setup"
      ]
    },
    {
      "cell_type": "markdown",
      "metadata": {
        "id": "ng9natt-O0QO"
      },
      "source": [
        "#### ~> Installing Libraries"
      ]
    },
    {
      "cell_type": "code",
      "execution_count": 1,
      "metadata": {
        "id": "Uv3ec1BIO41p"
      },
      "outputs": [],
      "source": [
        "!pip3 install -q seaborn\n",
        "!pip3 install -q sklearn\n",
        "!pip3 install -q keras"
      ]
    },
    {
      "cell_type": "markdown",
      "metadata": {
        "id": "MdjlFzdWIU44"
      },
      "source": [
        "#### ~> Imports of the project"
      ]
    },
    {
      "cell_type": "code",
      "execution_count": 2,
      "metadata": {
        "id": "gFEGuxDNK0rk"
      },
      "outputs": [],
      "source": [
        "from models import model_knn, model_MLP, model_SGD, model_regRegression, model_svm, model_rf\n",
        "from sklearn.model_selection import train_test_split\n",
        "import pandas as pd\n",
        "import numpy as np\n",
        "import warnings\n",
        "\n",
        "warnings.filterwarnings('ignore')"
      ]
    },
    {
      "cell_type": "markdown",
      "metadata": {
        "id": "W1wctYcqLD6p"
      },
      "source": [
        "#### ~> Loading the Datasets"
      ]
    },
    {
      "cell_type": "code",
      "execution_count": 3,
      "metadata": {
        "id": "ZhVyWz1HLHhJ"
      },
      "outputs": [],
      "source": [
        "# Without Optimization\n",
        "df = pd.read_csv(\"./../../../features/POJ/poj_features_O0.csv\", skipinitialspace=True)\n",
        "\n",
        "# Optimizations\n",
        "df_O3 = pd.read_csv(\"./../../../features/POJ/poj_features_O3.csv\", skipinitialspace=True)\n",
        "df_Oz = pd.read_csv(\"./../../../features/POJ/poj_features_Oz.csv\", skipinitialspace=True)"
      ]
    },
    {
      "cell_type": "markdown",
      "metadata": {
        "id": "Hy799cXbCHbQ"
      },
      "source": [
        "#### ~> Split the datasets into a training and test set"
      ]
    },
    {
      "cell_type": "code",
      "execution_count": 4,
      "metadata": {
        "colab": {
          "base_uri": "https://localhost:8080/"
        },
        "id": "dfFdipbxiOGc",
        "outputId": "c311f605-f131-464c-862f-75669ab426f9"
      },
      "outputs": [],
      "source": [
        "# Without Optimization\n",
        "train, test = train_test_split(df, test_size=0.2)\n",
        "\n",
        "# Optimizations\n",
        "train_O3, test_O3 = train_test_split(df_O3, test_size=0.2)\n",
        "train_Oz, test_Oz = train_test_split(df_Oz, test_size=0.2)"
      ]
    },
    {
      "cell_type": "markdown",
      "metadata": {},
      "source": [
        "### Case of Studies"
      ]
    },
    {
      "cell_type": "markdown",
      "metadata": {},
      "source": [
        "#### ~> Optimizations"
      ]
    },
    {
      "cell_type": "code",
      "execution_count": 5,
      "metadata": {},
      "outputs": [],
      "source": [
        "# Training and testing database without obfuscation\n",
        "x_train, y_train = train.iloc[:,1:-1].to_numpy(), train.iloc[:,-1].to_numpy()\n",
        "x_test, y_test = test.iloc[:,1:-1].to_numpy(), test.iloc[:,-1].to_numpy()  \n",
        "\n",
        "size = len(x_train)"
      ]
    },
    {
      "cell_type": "markdown",
      "metadata": {
        "id": "tzZPw44ASgXN"
      },
      "source": [
        "##### **O3**\n"
      ]
    },
    {
      "cell_type": "code",
      "execution_count": 6,
      "metadata": {},
      "outputs": [],
      "source": [
        "# O3\n",
        "x_train_O3, y_train_O3 = train_O3.iloc[:,1:-1].to_numpy(), train_O3.iloc[:,-1].to_numpy()\n",
        "x_test_O3, y_test_O3 = test_O3.iloc[:,1:-1].to_numpy(), test_O3.iloc[:,-1].to_numpy() \n",
        "\n",
        "# train+O3\n",
        "x_train_O3_all = np.concatenate((x_train[0:int(size/2),:],x_train_O3[0:int(size/2),:]))\n",
        "y_train_O3_all = np.concatenate((y_train[0:int(size/2)],y_train_O3[0:int(size/2)]))"
      ]
    },
    {
      "cell_type": "markdown",
      "metadata": {},
      "source": [
        "Using -O3 only in the testing phase"
      ]
    },
    {
      "cell_type": "code",
      "execution_count": 7,
      "metadata": {
        "colab": {
          "base_uri": "https://localhost:8080/"
        },
        "id": "vs3OKZkccRLZ",
        "outputId": "a32b09d6-38b1-4d1c-b34a-c008b35e25de"
      },
      "outputs": [
        {
          "name": "stdout",
          "output_type": "stream",
          "text": [
            "model, accuracy, precision, recall, fscore, time (s)\n",
            "KNN, 0.0553, 0.0713, 0.0520, 0.0325, 0.0083\n",
            "Random Forest, 0.2083, 0.2676, 0.2068, 0.1835, 3.4152\n",
            "SVM, 0.0710, 0.1165, 0.0712, 0.0553, 707.7482\n",
            "SGD, 0.0685, 0.1241, 0.0694, 0.0560, 19.0674\n",
            "MLP, 0.0436, 0.0457, 0.0421, 0.0337, 160.3469\n",
            "Regressão Logística, 0.0697, 0.1073, 0.0675, 0.0492, 44.7124\n"
          ]
        }
      ],
      "source": [
        "print(\"model, accuracy, precision, recall, fscore, time (s)\")\n",
        "# KNN\n",
        "model_knn(x_train, y_train, x_test_O3, y_test_O3)\n",
        "# Random Forest\n",
        "model_rf(x_train, y_train, x_test_O3, y_test_O3)\n",
        "# SVM\n",
        "model_svm(x_train, y_train, x_test_O3, y_test_O3)\n",
        "# Stochastic Gradient Descent\n",
        "model_SGD(x_train, y_train, x_test_O3, y_test_O3)\n",
        "# Multi-layer Perceptron\n",
        "model_MLP(x_train, y_train, x_test_O3, y_test_O3)\n",
        "# Regressão Logística\n",
        "model_regRegression(x_train, y_train, x_test_O3, y_test_O3)"
      ]
    },
    {
      "cell_type": "markdown",
      "metadata": {
        "id": "CLONNJP5TFEi"
      },
      "source": [
        "Using -O3 in the testing and training phase"
      ]
    },
    {
      "cell_type": "code",
      "execution_count": 8,
      "metadata": {
        "colab": {
          "base_uri": "https://localhost:8080/"
        },
        "id": "Q7YVjyOYc5UL",
        "outputId": "bce672fe-ab9c-4d22-c5e3-6dc3f36876ac"
      },
      "outputs": [
        {
          "name": "stdout",
          "output_type": "stream",
          "text": [
            "model, accuracy, precision, recall, fscore, time (s)\n",
            "KNN, 0.6637, 0.6758, 0.6629, 0.6601, 0.0063\n",
            "Random Forest, 0.8224, 0.8222, 0.8213, 0.8197, 2.4759\n",
            "SVM, 0.4939, 0.5651, 0.4900, 0.4669, 656.6656\n",
            "SGD, 0.3228, 0.4683, 0.3206, 0.3232, 10.2400\n",
            "MLP, 0.4736, 0.4667, 0.4735, 0.4589, 292.1415\n",
            "Regressão Logística, 0.5728, 0.5743, 0.5697, 0.5636, 36.4848\n"
          ]
        }
      ],
      "source": [
        "print(\"model, accuracy, precision, recall, fscore, time (s)\")\n",
        "# KNN\n",
        "model_knn(x_train_O3_all, y_train_O3_all, x_test_O3, y_test_O3)\n",
        "# Random Forest\n",
        "model_rf(x_train_O3_all, y_train_O3_all, x_test_O3, y_test_O3)\n",
        "# SVM\n",
        "model_svm(x_train_O3_all, y_train_O3_all, x_test_O3, y_test_O3)\n",
        "# Stochastic Gradient Descent\n",
        "model_SGD(x_train_O3_all, y_train_O3_all, x_test_O3, y_test_O3)\n",
        "# Multi-layer Perceptron\n",
        "model_MLP(x_train_O3_all, y_train_O3_all, x_test_O3, y_test_O3)\n",
        "# Regressão Logística\n",
        "model_regRegression(x_train_O3_all, y_train_O3_all, x_test_O3, y_test_O3)"
      ]
    },
    {
      "cell_type": "markdown",
      "metadata": {
        "id": "syV6t6PyPnkt"
      },
      "source": [
        "##### **Oz**\n"
      ]
    },
    {
      "cell_type": "code",
      "execution_count": 9,
      "metadata": {},
      "outputs": [],
      "source": [
        "# Oz\n",
        "x_train_Oz, y_train_Oz = train_Oz.iloc[:,0:-1].to_numpy(), train_Oz.iloc[:,-1].to_numpy()\n",
        "x_test_Oz, y_test_Oz = test_Oz.iloc[:,0:-1].to_numpy(), test_Oz.iloc[:,-1].to_numpy()\n",
        "# train+Oz\n",
        "x_train_Oz_all = np.concatenate((x_train[0:int(size/2),:],x_train_Oz[0:int(size/2),:]))\n",
        "y_train_Oz_all = np.concatenate((y_train[0:int(size/2)],y_train_Oz[0:int(size/2)]))"
      ]
    },
    {
      "cell_type": "markdown",
      "metadata": {},
      "source": [
        "Using -Oz only in the testing phase"
      ]
    },
    {
      "cell_type": "code",
      "execution_count": 12,
      "metadata": {
        "colab": {
          "base_uri": "https://localhost:8080/"
        },
        "id": "hKdzf8vPd_1U",
        "outputId": "074a5a64-2421-4129-bb67-a40ede124225"
      },
      "outputs": [
        {
          "name": "stdout",
          "output_type": "stream",
          "text": [
            "model, accuracy, precision, recall, fscore, time (s)\n",
            "KNN, 0.0456, 0.0683, 0.0439, 0.0248, 0.0079\n",
            "Random Forest, 0.2206, 0.2903, 0.2203, 0.1932, 2.6743\n",
            "SVM, 0.0937, 0.1476, 0.0898, 0.0719, 840.6693\n",
            "SGD, 0.0884, 0.1528, 0.0850, 0.0693, 21.9135\n",
            "MLP, 0.0617, 0.0974, 0.0594, 0.0504, 595.2360\n",
            "Regressão Logística, 0.0811, 0.1184, 0.0762, 0.0576, 54.9512\n"
          ]
        }
      ],
      "source": [
        "print(\"model, accuracy, precision, recall, fscore, time (s)\")\n",
        "# KNN\n",
        "model_knn(x_train, y_train, x_test_Oz, y_test_Oz)\n",
        "# Random Forest\n",
        "model_rf(x_train, y_train, x_test_Oz, y_test_Oz)\n",
        "# SVM\n",
        "model_svm(x_train, y_train, x_test_Oz, y_test_Oz)\n",
        "# Stochastic Gradient Descent\n",
        "model_SGD(x_train, y_train, x_test_Oz, y_test_Oz)\n",
        "# Multi-layer Perceptron\n",
        "model_MLP(x_train, y_train, x_test_Oz, y_test_Oz)\n",
        "# Regressão Logística\n",
        "model_regRegression(x_train, y_train, x_test_Oz, y_test_Oz)"
      ]
    },
    {
      "cell_type": "markdown",
      "metadata": {
        "id": "DirrfMzePsyP"
      },
      "source": [
        "Using -Oz in the testing and training phase"
      ]
    },
    {
      "cell_type": "code",
      "execution_count": 11,
      "metadata": {
        "colab": {
          "base_uri": "https://localhost:8080/"
        },
        "id": "F_wayhLDeaS8",
        "outputId": "a1bbacc1-d83b-4e9e-db7a-72c1ac1eb784"
      },
      "outputs": [
        {
          "name": "stdout",
          "output_type": "stream",
          "text": [
            "model, accuracy, precision, recall, fscore, time (s)\n",
            "KNN, 0.7036, 0.7179, 0.7023, 0.6996, 0.0067\n",
            "Random Forest, 0.8430, 0.8421, 0.8426, 0.8407, 2.4940\n",
            "SVM, 0.5412, 0.6475, 0.5382, 0.5212, 595.5683\n",
            "SGD, 0.3882, 0.5676, 0.3856, 0.3842, 14.5677\n",
            "MLP, 0.5339, 0.5281, 0.5313, 0.5178, 434.3872\n",
            "Regressão Logística, 0.5791, 0.5801, 0.5778, 0.5696, 44.6301\n"
          ]
        }
      ],
      "source": [
        "print(\"model, accuracy, precision, recall, fscore, time (s)\")\n",
        "# KNN\n",
        "model_knn(x_train_Oz_all, y_train_Oz_all, x_test_Oz, y_test_Oz)\n",
        "# Random Forest\n",
        "model_rf(x_train_Oz_all, y_train_Oz_all, x_test_Oz, y_test_Oz)\n",
        "# SVM\n",
        "model_svm(x_train_Oz_all, y_train_Oz_all, x_test_Oz, y_test_Oz)\n",
        "# Stochastic Gradient Descent\n",
        "model_SGD(x_train_Oz_all, y_train_Oz_all, x_test_Oz, y_test_Oz)\n",
        "# Multi-layer Perceptron\n",
        "model_MLP(x_train_Oz_all, y_train_Oz_all, x_test_Oz, y_test_Oz)\n",
        "# Regressão Logística\n",
        "model_regRegression(x_train_Oz_all, y_train_Oz_all, x_test_Oz, y_test_Oz)"
      ]
    }
  ],
  "metadata": {
    "accelerator": "GPU",
    "colab": {
      "collapsed_sections": [
        "ng9natt-O0QO"
      ],
      "name": "MethodsSkLearnObfuscationPOJ104Classes.ipynb",
      "provenance": []
    },
    "kernelspec": {
      "display_name": "Python 3",
      "name": "python3"
    },
    "language_info": {
      "codemirror_mode": {
        "name": "ipython",
        "version": 3
      },
      "file_extension": ".py",
      "mimetype": "text/x-python",
      "name": "python",
      "nbconvert_exporter": "python",
      "pygments_lexer": "ipython3",
      "version": "3.8.10"
    }
  },
  "nbformat": 4,
  "nbformat_minor": 0
}
