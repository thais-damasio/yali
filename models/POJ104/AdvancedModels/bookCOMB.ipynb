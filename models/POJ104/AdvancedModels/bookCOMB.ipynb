{
  "cells": [
    {
      "cell_type": "markdown",
      "metadata": {
        "id": "UXCz4B_NTSsY"
      },
      "source": [
        "## Models with POJ Dataset\n",
        "\n",
        "---"
      ]
    },
    {
      "cell_type": "markdown",
      "metadata": {},
      "source": [
        "### Setup"
      ]
    },
    {
      "cell_type": "markdown",
      "metadata": {
        "id": "ng9natt-O0QO"
      },
      "source": [
        "#### ~> Installing Libraries"
      ]
    },
    {
      "cell_type": "code",
      "execution_count": 1,
      "metadata": {
        "id": "Uv3ec1BIO41p"
      },
      "outputs": [],
      "source": [
        "!pip3 install -q seaborn\n",
        "!pip3 install -q sklearn\n",
        "!pip3 install -q keras"
      ]
    },
    {
      "cell_type": "markdown",
      "metadata": {
        "id": "MdjlFzdWIU44"
      },
      "source": [
        "#### ~> Imports of the project"
      ]
    },
    {
      "cell_type": "code",
      "execution_count": 2,
      "metadata": {
        "id": "gFEGuxDNK0rk"
      },
      "outputs": [],
      "source": [
        "from models import model_knn, model_MLP, model_SGD, model_regRegression, model_svm, model_rf\n",
        "from sklearn.model_selection import train_test_split\n",
        "import pandas as pd\n",
        "import numpy as np\n",
        "import warnings\n",
        "\n",
        "warnings.filterwarnings('ignore')"
      ]
    },
    {
      "cell_type": "markdown",
      "metadata": {
        "id": "W1wctYcqLD6p"
      },
      "source": [
        "#### ~> Loading the Datasets"
      ]
    },
    {
      "cell_type": "code",
      "execution_count": null,
      "metadata": {
        "id": "ZhVyWz1HLHhJ"
      },
      "outputs": [],
      "source": [
        "# Without obfuscation\n",
        "df = pd.read_csv(\"./../../../features/POJ/poj_features_O0.csv\", skipinitialspace=True)\n",
        "\n",
        "# Optimizations\n",
        "df_O3 = pd.read_csv(\"./../../../features/POJ/poj_features_O3.csv\", skipinitialspace=True)\n",
        "\n",
        "# OLLVM\n",
        "df_ollvm = pd.read_csv(\"./../../../features/POJ/poj_features_ollvm.csv\", skipinitialspace=True)\n",
        "df_ollvm_O3 = pd.read_csv(\"./../../../features/POJ/poj_features_ollvm_O3.csv\", skipinitialspace=True)"
      ]
    },
    {
      "cell_type": "markdown",
      "metadata": {
        "id": "Hy799cXbCHbQ"
      },
      "source": [
        "#### ~> Split the datasets into a training and test set"
      ]
    },
    {
      "cell_type": "code",
      "execution_count": null,
      "metadata": {
        "colab": {
          "base_uri": "https://localhost:8080/"
        },
        "id": "dfFdipbxiOGc",
        "outputId": "c311f605-f131-464c-862f-75669ab426f9"
      },
      "outputs": [],
      "source": [
        "# Without obfuscation\n",
        "train, test = train_test_split(df, test_size=0.2)\n",
        "\n",
        "# Optimizations\n",
        "train_O3, test_O3 = train_test_split(df_O3, test_size=0.2)\n",
        "\n",
        "# OLLVM\n",
        "train_ollvm, test_ollvm = train_test_split(df_ollvm, test_size=0.2)\n",
        "train_ollvm_O3, test_ollvm_O3 = train_test_split(df_ollvm_O3, test_size=0.2)"
      ]
    },
    {
      "cell_type": "markdown",
      "metadata": {},
      "source": [
        "### Case of Studies"
      ]
    },
    {
      "cell_type": "markdown",
      "metadata": {},
      "source": [
        "#### ~> Combination"
      ]
    },
    {
      "cell_type": "code",
      "execution_count": null,
      "metadata": {},
      "outputs": [],
      "source": [
        "# Training and testing database without obfuscation\n",
        "x_train, y_train = train.iloc[:,1:-1].to_numpy(), train.iloc[:,-1].to_numpy()\n",
        "x_test, y_test = test.iloc[:,1:-1].to_numpy(), test.iloc[:,-1].to_numpy()  \n",
        "\n",
        "# Training and testing database with O3\n",
        "x_train_O3, y_train_O3 = train_O3.iloc[:,1:-1].to_numpy(), train_O3.iloc[:,-1].to_numpy()\n",
        "x_test_O3, y_test_O3 = test_O3.iloc[:,1:-1].to_numpy(), test_O3.iloc[:,-1].to_numpy() \n",
        "\n",
        "# Training and testing database with ollvm (fla+sub+bcf)\n",
        "x_train_ollvm, y_train_ollvm = train_ollvm.iloc[:,1:-1].to_numpy(), train_ollvm.iloc[:,-1].to_numpy()\n",
        "x_test_ollvm, y_test_ollvm = test_ollvm.iloc[:,1:-1].to_numpy(), test_ollvm.iloc[:,-1].to_numpy()\n",
        "\n",
        "size = len(x_train)"
      ]
    },
    {
      "cell_type": "markdown",
      "metadata": {
        "id": "iMEiJdsuHI_c"
      },
      "source": [
        "**Combination (33% no obfuscation, 33% O3, 33% OLLVM)**"
      ]
    },
    {
      "cell_type": "code",
      "execution_count": null,
      "metadata": {},
      "outputs": [],
      "source": [
        "# comb (33% no obfuscation, 33% O3, 33% OLLVM)\n",
        "x_train_comb = np.concatenate((x_train[0:int(size/3),:],x_train_O3[0:int(size/3),:]))\n",
        "x_train_comb = np.concatenate((x_train_comb, x_train_ollvm[0:int(size/3),:]))\n",
        "\n",
        "y_train_comb = np.concatenate((y_train[0:int(size/3)],y_train_O3[0:int(size/3)]))\n",
        "y_train_comb = np.concatenate((y_train_comb, y_train_ollvm[0:int(size/3)]))"
      ]
    },
    {
      "cell_type": "markdown",
      "metadata": {
        "id": "XFXD7m9uHdjG"
      },
      "source": [
        "Testing with no obfuscation programs"
      ]
    },
    {
      "cell_type": "code",
      "execution_count": null,
      "metadata": {
        "colab": {
          "base_uri": "https://localhost:8080/"
        },
        "id": "B6ZzghWGHcZv",
        "outputId": "50727948-884e-422d-b2c3-69df04159ee7"
      },
      "outputs": [],
      "source": [
        "print(\"model, accuracy, precision, recall, fscore, time (s)\")\n",
        "# KNN\n",
        "model_knn(x_train_comb, y_train_comb, x_test, y_test)\n",
        "# Random Forest\n",
        "model_rf(x_train_comb, y_train_comb, x_test, y_test)\n",
        "# SVM\n",
        "model_svm(x_train_comb, y_train_comb, x_test, y_test)\n",
        "# Stochastic Gradient Descent\n",
        "model_SGD(x_train_comb, y_train_comb, x_test, y_test)\n",
        "# Multi-layer Perceptron\n",
        "model_MLP(x_train_comb, y_train_comb, x_test, y_test)\n",
        "# Regressão Logística\n",
        "model_regRegression(x_train_comb, y_train_comb, x_test, y_test)"
      ]
    },
    {
      "cell_type": "markdown",
      "metadata": {
        "id": "vHqsRKzcIKVH"
      },
      "source": [
        "Testing with O3 program"
      ]
    },
    {
      "cell_type": "code",
      "execution_count": null,
      "metadata": {
        "colab": {
          "base_uri": "https://localhost:8080/"
        },
        "id": "Orf0GJswGS2-",
        "outputId": "cccc422d-3c06-4011-c22e-e825c5fb2da7"
      },
      "outputs": [],
      "source": [
        "print(\"model, accuracy, precision, recall, fscore, time (s)\")\n",
        "# KNN\n",
        "model_knn(x_train_comb, y_train_comb, x_test_O3, y_test_O3)\n",
        "# Random Forest\n",
        "model_rf(x_train_comb, y_train_comb, x_test_O3, y_test_O3)\n",
        "# SVM\n",
        "model_svm(x_train_comb, y_train_comb, x_test_O3, y_test_O3)\n",
        "# Stochastic Gradient Descent\n",
        "model_SGD(x_train_comb, y_train_comb, x_test_O3, y_test_O3)\n",
        "# Multi-layer Perceptron\n",
        "model_MLP(x_train_comb, y_train_comb, x_test_O3, y_test_O3)\n",
        "# Regressão Logística\n",
        "model_regRegression(x_train_comb, y_train_comb, x_test_O3, y_test_O3)"
      ]
    },
    {
      "cell_type": "markdown",
      "metadata": {
        "id": "uF-G8a5KIW1A"
      },
      "source": [
        "Testing with OLLVM programs"
      ]
    },
    {
      "cell_type": "code",
      "execution_count": null,
      "metadata": {
        "colab": {
          "base_uri": "https://localhost:8080/"
        },
        "id": "D3t0Ix27IZXV",
        "outputId": "af87bb12-e483-4d50-afd3-03b9bd79d45a"
      },
      "outputs": [],
      "source": [
        "print(\"model, accuracy, precision, recall, fscore, time (s)\")\n",
        "# KNN\n",
        "model_knn(x_train_comb, y_train_comb, x_test_ollvm, y_test_ollvm)\n",
        "# Random Forest\n",
        "model_rf(x_train_comb, y_train_comb, x_test_ollvm, y_test_ollvm)\n",
        "# SVM\n",
        "model_svm(x_train_comb, y_train_comb, x_test_ollvm, y_test_ollvm)\n",
        "# Stochastic Gradient Descent\n",
        "model_SGD(x_train_comb, y_train_comb, x_test_ollvm, y_test_ollvm)\n",
        "# Multi-layer Perceptron\n",
        "model_MLP(x_train_comb, y_train_comb, x_test_ollvm, y_test_ollvm)\n",
        "# Regressão Logística\n",
        "model_regRegression(x_train_comb, y_train_comb, x_test_ollvm, y_test_ollvm)"
      ]
    }
  ],
  "metadata": {
    "accelerator": "GPU",
    "colab": {
      "collapsed_sections": [
        "ng9natt-O0QO"
      ],
      "name": "MethodsSkLearnObfuscationPOJ104Classes.ipynb",
      "provenance": []
    },
    "kernelspec": {
      "display_name": "Python 3",
      "name": "python3"
    },
    "language_info": {
      "codemirror_mode": {
        "name": "ipython",
        "version": 3
      },
      "file_extension": ".py",
      "mimetype": "text/x-python",
      "name": "python",
      "nbconvert_exporter": "python",
      "pygments_lexer": "ipython3",
      "version": "3.8.10"
    }
  },
  "nbformat": 4,
  "nbformat_minor": 0
}
