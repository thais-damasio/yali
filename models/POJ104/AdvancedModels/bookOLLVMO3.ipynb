{
  "cells": [
    {
      "cell_type": "markdown",
      "metadata": {
        "id": "UXCz4B_NTSsY"
      },
      "source": [
        "## Models with POJ Dataset (OLLVM + O3)\n",
        "\n",
        "---"
      ]
    },
    {
      "cell_type": "markdown",
      "metadata": {},
      "source": [
        "### Setup"
      ]
    },
    {
      "cell_type": "markdown",
      "metadata": {
        "id": "ng9natt-O0QO"
      },
      "source": [
        "#### ~> Installing Libraries"
      ]
    },
    {
      "cell_type": "code",
      "execution_count": 1,
      "metadata": {
        "id": "Uv3ec1BIO41p"
      },
      "outputs": [],
      "source": [
        "!pip3 install -q seaborn\n",
        "!pip3 install -q sklearn\n",
        "!pip3 install -q keras"
      ]
    },
    {
      "cell_type": "markdown",
      "metadata": {
        "id": "MdjlFzdWIU44"
      },
      "source": [
        "#### ~> Imports of the project"
      ]
    },
    {
      "cell_type": "code",
      "execution_count": 2,
      "metadata": {
        "id": "gFEGuxDNK0rk"
      },
      "outputs": [],
      "source": [
        "from models import model_knn, model_MLP, model_SGD, model_regRegression, model_svm, model_rf\n",
        "from sklearn.model_selection import train_test_split\n",
        "import pandas as pd\n",
        "import numpy as np\n",
        "import warnings\n",
        "\n",
        "warnings.filterwarnings('ignore')"
      ]
    },
    {
      "cell_type": "markdown",
      "metadata": {
        "id": "W1wctYcqLD6p"
      },
      "source": [
        "#### ~> Loading the Datasets"
      ]
    },
    {
      "cell_type": "code",
      "execution_count": 3,
      "metadata": {
        "id": "ZhVyWz1HLHhJ"
      },
      "outputs": [],
      "source": [
        "# Without obfuscation\n",
        "df = pd.read_csv(\"./../../../features/POJ/poj_features_O0.csv\", skipinitialspace=True)\n",
        "\n",
        "# Optimizations\n",
        "df_O3 = pd.read_csv(\"./../../../features/POJ/poj_features_O3.csv\", skipinitialspace=True)\n",
        "\n",
        "# OLLVM\n",
        "df_ollvm_O3 = pd.read_csv(\"./../../../features/POJ/poj_features_ollvm_O3.csv\", skipinitialspace=True)"
      ]
    },
    {
      "cell_type": "markdown",
      "metadata": {
        "id": "Hy799cXbCHbQ"
      },
      "source": [
        "#### ~> Split the datasets into a training and test set"
      ]
    },
    {
      "cell_type": "code",
      "execution_count": 4,
      "metadata": {
        "colab": {
          "base_uri": "https://localhost:8080/"
        },
        "id": "dfFdipbxiOGc",
        "outputId": "c311f605-f131-464c-862f-75669ab426f9"
      },
      "outputs": [],
      "source": [
        "# Without obfuscation\n",
        "train, test = train_test_split(df, test_size=0.2)\n",
        "\n",
        "# Optimizations\n",
        "train_O3, test_O3 = train_test_split(df_O3, test_size=0.2)\n",
        "\n",
        "# OLLVM\n",
        "train_ollvm_O3, test_ollvm_O3 = train_test_split(df_ollvm_O3, test_size=0.2)"
      ]
    },
    {
      "cell_type": "markdown",
      "metadata": {},
      "source": [
        "### Case of Studies"
      ]
    },
    {
      "cell_type": "markdown",
      "metadata": {
        "id": "rJV0jN-gnDJ_"
      },
      "source": [
        "#### ~> OLLVM + O3"
      ]
    },
    {
      "cell_type": "code",
      "execution_count": 5,
      "metadata": {},
      "outputs": [],
      "source": [
        "# Training and testing database without obfuscation\n",
        "x_train, y_train = train.iloc[:,1:-1].to_numpy(), train.iloc[:,-1].to_numpy()\n",
        "x_test, y_test = test.iloc[:,1:-1].to_numpy(), test.iloc[:,-1].to_numpy()  \n",
        "\n",
        "size = len(x_train)\n",
        "\n",
        "# O3\n",
        "x_train_O3, y_train_O3 = train_O3.iloc[:,1:-1].to_numpy(), train_O3.iloc[:,-1].to_numpy()\n",
        "x_test_O3, y_test_O3 = test_O3.iloc[:,1:-1].to_numpy(), test_O3.iloc[:,-1].to_numpy() \n",
        "\n",
        "# ollvm with O3 opt\n",
        "x_train_ollvm_O3, y_train_ollvm_O3 = train_ollvm_O3.iloc[:,0:-1].to_numpy(), train_ollvm_O3.iloc[:,-1].to_numpy()\n",
        "x_test_ollvm_O3, y_test_ollvm_O3 = test_ollvm_O3.iloc[:,0:-1].to_numpy(), test_ollvm_O3.iloc[:,-1].to_numpy()\n",
        "\n",
        "# train+(ollvm + o3)\n",
        "x_train_ollvm_O3_all = np.concatenate((x_train[0:int(size/2),:],x_train_ollvm_O3[0:int(size/2),:]))\n",
        "y_train_ollvm_O3_all = np.concatenate((y_train[0:int(size/2)],y_train_ollvm_O3[0:int(size/2)]))"
      ]
    },
    {
      "cell_type": "markdown",
      "metadata": {},
      "source": [
        "Using OLLVM+O3 only in the testing phase"
      ]
    },
    {
      "cell_type": "code",
      "execution_count": 6,
      "metadata": {
        "colab": {
          "base_uri": "https://localhost:8080/"
        },
        "id": "Jbt1LA2nnCSG",
        "outputId": "ffaa23f6-30d4-43fe-8096-1e7e037adade"
      },
      "outputs": [
        {
          "name": "stdout",
          "output_type": "stream",
          "text": [
            "model, accuracy, precision, recall, fscore, time (s)\n",
            "KNN, 0.0344, 0.0860, 0.0349, 0.0264, 0.6207\n",
            "Random Forest, 0.2131, 0.3134, 0.2117, 0.1904, 3.5334\n",
            "SVM, 0.0357, 0.0521, 0.0357, 0.0232, 530.4117\n",
            "SGD, 0.0722, 0.1464, 0.0725, 0.0561, 17.0893\n",
            "MLP, 0.0265, 0.0434, 0.0279, 0.0162, 363.3837\n",
            "Regressão Logística, 0.0431, 0.0875, 0.0430, 0.0277, 44.4315\n"
          ]
        }
      ],
      "source": [
        "print(\"model, accuracy, precision, recall, fscore, time (s)\")\n",
        "# KNN\n",
        "model_knn(x_train, y_train, x_test_ollvm_O3, y_test_ollvm_O3)\n",
        "# Random Forest\n",
        "model_rf(x_train, y_train, x_test_ollvm_O3, y_test_ollvm_O3)\n",
        "# SVM\n",
        "model_svm(x_train, y_train, x_test_ollvm_O3, y_test_ollvm_O3)\n",
        "# Stochastic Gradient Descent\n",
        "model_SGD(x_train, y_train, x_test_ollvm_O3, y_test_ollvm_O3)\n",
        "# Multi-layer Perceptron\n",
        "model_MLP(x_train, y_train, x_test_ollvm_O3, y_test_ollvm_O3)\n",
        "# Regressão Logística\n",
        "model_regRegression(x_train, y_train, x_test_ollvm_O3, y_test_ollvm_O3)"
      ]
    },
    {
      "cell_type": "markdown",
      "metadata": {
        "id": "6WB6FcApmj6-"
      },
      "source": [
        "Using OLLVM+O3 in the testing and training phase"
      ]
    },
    {
      "cell_type": "code",
      "execution_count": 7,
      "metadata": {
        "colab": {
          "base_uri": "https://localhost:8080/"
        },
        "id": "xcgmMigpmi-A",
        "outputId": "207d012e-02c9-4da1-b9e2-8424419a5ffe"
      },
      "outputs": [
        {
          "name": "stdout",
          "output_type": "stream",
          "text": [
            "model, accuracy, precision, recall, fscore, time (s)\n",
            "KNN, 0.3542, 0.3866, 0.3579, 0.3542, 0.0327\n",
            "Random Forest, 0.6251, 0.6215, 0.6263, 0.6185, 4.2145\n",
            "SVM, 0.1576, 0.4413, 0.1585, 0.1721, 699.7807\n",
            "SGD, 0.2318, 0.3964, 0.2352, 0.2359, 18.3272\n",
            "MLP, 0.4350, 0.4289, 0.4370, 0.4202, 349.3578\n",
            "Regressão Logística, 0.4051, 0.3919, 0.4076, 0.3840, 48.4023\n"
          ]
        }
      ],
      "source": [
        "print(\"model, accuracy, precision, recall, fscore, time (s)\")\n",
        "# KNN\n",
        "model_knn(x_train_ollvm_O3_all, y_train_ollvm_O3_all, x_test_ollvm_O3, y_test_ollvm_O3)\n",
        "# Random Forest\n",
        "model_rf(x_train_ollvm_O3_all, y_train_ollvm_O3_all, x_test_ollvm_O3, y_test_ollvm_O3)\n",
        "# SVM\n",
        "model_svm(x_train_ollvm_O3_all, y_train_ollvm_O3_all, x_test_ollvm_O3, y_test_ollvm_O3)\n",
        "# Stochastic Gradient Descent\n",
        "model_SGD(x_train_ollvm_O3_all, y_train_ollvm_O3_all, x_test_ollvm_O3, y_test_ollvm_O3)\n",
        "# Multi-layer Perceptron\n",
        "model_MLP(x_train_ollvm_O3_all, y_train_ollvm_O3_all, x_test_ollvm_O3, y_test_ollvm_O3)\n",
        "# Regressão Logística\n",
        "model_regRegression(x_train_ollvm_O3_all, y_train_ollvm_O3_all, x_test_ollvm_O3, y_test_ollvm_O3)"
      ]
    },
    {
      "cell_type": "markdown",
      "metadata": {},
      "source": [
        "Using OLLVM+O3 in the testing phase in a model trained with O3"
      ]
    },
    {
      "cell_type": "code",
      "execution_count": 8,
      "metadata": {},
      "outputs": [
        {
          "name": "stdout",
          "output_type": "stream",
          "text": [
            "model, accuracy, precision, recall, fscore, time (s)\n",
            "KNN, 0.0280, 0.1192, 0.0290, 0.0267, 0.0063\n",
            "Random Forest, 0.1551, 0.2201, 0.1552, 0.1299, 3.6090\n",
            "SVM, 0.0342, 0.1366, 0.0357, 0.0282, 528.8298\n",
            "SGD, 0.0204, 0.0886, 0.0216, 0.0179, 11.2371\n",
            "MLP, 0.0655, 0.0908, 0.0657, 0.0501, 348.6260\n",
            "Regressão Logística, 0.0319, 0.1182, 0.0338, 0.0239, 36.7364\n"
          ]
        }
      ],
      "source": [
        "print(\"model, accuracy, precision, recall, fscore, time (s)\")\n",
        "# KNN\n",
        "model_knn(x_train_O3, y_train_O3, x_test_ollvm_O3, y_test_ollvm_O3)\n",
        "# Random Forest\n",
        "model_rf(x_train_O3, y_train_O3, x_test_ollvm_O3, y_test_ollvm_O3)\n",
        "# SVM\n",
        "model_svm(x_train_O3, y_train_O3, x_test_ollvm_O3, y_test_ollvm_O3)\n",
        "# Stochastic Gradient Descent\n",
        "model_SGD(x_train_O3, y_train_O3, x_test_ollvm_O3, y_test_ollvm_O3)\n",
        "# Multi-layer Perceptron\n",
        "model_MLP(x_train_O3, y_train_O3, x_test_ollvm_O3, y_test_ollvm_O3)\n",
        "# Regressão Logística\n",
        "model_regRegression(x_train_O3, y_train_O3, x_test_ollvm_O3, y_test_ollvm_O3)"
      ]
    }
  ],
  "metadata": {
    "accelerator": "GPU",
    "colab": {
      "collapsed_sections": [
        "ng9natt-O0QO"
      ],
      "name": "MethodsSkLearnObfuscationPOJ104Classes.ipynb",
      "provenance": []
    },
    "kernelspec": {
      "display_name": "Python 3",
      "name": "python3"
    },
    "language_info": {
      "codemirror_mode": {
        "name": "ipython",
        "version": 3
      },
      "file_extension": ".py",
      "mimetype": "text/x-python",
      "name": "python",
      "nbconvert_exporter": "python",
      "pygments_lexer": "ipython3",
      "version": "3.8.10"
    }
  },
  "nbformat": 4,
  "nbformat_minor": 0
}
