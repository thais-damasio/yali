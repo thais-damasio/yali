{
  "cells": [
    {
      "cell_type": "markdown",
      "metadata": {
        "id": "UXCz4B_NTSsY"
      },
      "source": [
        "## Models with POJ Dataset (OLLVM)\n",
        "\n",
        "---"
      ]
    },
    {
      "cell_type": "markdown",
      "metadata": {},
      "source": [
        "### Setup"
      ]
    },
    {
      "cell_type": "markdown",
      "metadata": {
        "id": "ng9natt-O0QO"
      },
      "source": [
        "#### ~> Installing Libraries"
      ]
    },
    {
      "cell_type": "code",
      "execution_count": 1,
      "metadata": {
        "id": "Uv3ec1BIO41p"
      },
      "outputs": [],
      "source": [
        "!pip3 install -q seaborn\n",
        "!pip3 install -q sklearn\n",
        "!pip3 install -q keras"
      ]
    },
    {
      "cell_type": "markdown",
      "metadata": {
        "id": "MdjlFzdWIU44"
      },
      "source": [
        "#### ~> Imports of the project"
      ]
    },
    {
      "cell_type": "code",
      "execution_count": 2,
      "metadata": {
        "id": "gFEGuxDNK0rk"
      },
      "outputs": [],
      "source": [
        "from models import model_knn, model_MLP, model_SGD, model_regRegression, model_svm, model_rf\n",
        "from sklearn.model_selection import train_test_split\n",
        "import pandas as pd\n",
        "import numpy as np\n",
        "import warnings\n",
        "\n",
        "warnings.filterwarnings('ignore')"
      ]
    },
    {
      "cell_type": "markdown",
      "metadata": {
        "id": "W1wctYcqLD6p"
      },
      "source": [
        "#### ~> Loading the Datasets"
      ]
    },
    {
      "cell_type": "code",
      "execution_count": 3,
      "metadata": {
        "id": "ZhVyWz1HLHhJ"
      },
      "outputs": [],
      "source": [
        "# Without obfuscation\n",
        "df = pd.read_csv(\"./../../../features/POJ/poj_features_O0.csv\", skipinitialspace=True)\n",
        "\n",
        "# OLLVM\n",
        "df_ollvm = pd.read_csv(\"./../../../features/POJ/poj_features_ollvm.csv\", skipinitialspace=True)\n",
        "df_ollvm_fla = pd.read_csv(\"./../../../features/POJ/poj_features_ollvm_fla.csv\", skipinitialspace=True)\n",
        "df_ollvm_sub = pd.read_csv(\"./../../../features/POJ/poj_features_ollvm_sub.csv\", skipinitialspace=True)\n",
        "df_ollvm_bcf = pd.read_csv(\"./../../../features/POJ/poj_features_ollvm_bcf.csv\", skipinitialspace=True)"
      ]
    },
    {
      "cell_type": "markdown",
      "metadata": {
        "id": "Hy799cXbCHbQ"
      },
      "source": [
        "#### ~> Split the datasets into a training and test set"
      ]
    },
    {
      "cell_type": "code",
      "execution_count": 4,
      "metadata": {
        "colab": {
          "base_uri": "https://localhost:8080/"
        },
        "id": "dfFdipbxiOGc",
        "outputId": "c311f605-f131-464c-862f-75669ab426f9"
      },
      "outputs": [],
      "source": [
        "# Without obfuscation\n",
        "train, test = train_test_split(df, test_size=0.2)\n",
        "\n",
        "# OLLVM\n",
        "train_ollvm, test_ollvm = train_test_split(df_ollvm, test_size=0.2)\n",
        "train_ollvm_fla, test_ollvm_fla = train_test_split(df_ollvm_fla, test_size=0.2)\n",
        "train_ollvm_sub, test_ollvm_sub = train_test_split(df_ollvm_sub, test_size=0.2)\n",
        "train_ollvm_bcf, test_ollvm_bcf = train_test_split(df_ollvm_bcf, test_size=0.2)"
      ]
    },
    {
      "cell_type": "markdown",
      "metadata": {},
      "source": [
        "### Case of Studies"
      ]
    },
    {
      "cell_type": "markdown",
      "metadata": {},
      "source": [
        "#### ~> OLLVM"
      ]
    },
    {
      "cell_type": "code",
      "execution_count": 5,
      "metadata": {},
      "outputs": [],
      "source": [
        "# Training and testing database without obfuscation\n",
        "x_train, y_train = train.iloc[:,1:-1].to_numpy(), train.iloc[:,-1].to_numpy()\n",
        "x_test, y_test = test.iloc[:,1:-1].to_numpy(), test.iloc[:,-1].to_numpy()  \n",
        "\n",
        "size = len(x_train)"
      ]
    },
    {
      "cell_type": "markdown",
      "metadata": {
        "id": "nCJ4usRZWItx"
      },
      "source": [
        "##### **OLLVM (sub+fla+bcf)**"
      ]
    },
    {
      "cell_type": "code",
      "execution_count": 6,
      "metadata": {},
      "outputs": [],
      "source": [
        "# ollvm (fla+sub+bcf)\n",
        "x_train_ollvm, y_train_ollvm = train_ollvm.iloc[:,1:-1].to_numpy(), train_ollvm.iloc[:,-1].to_numpy()\n",
        "x_test_ollvm, y_test_ollvm = test_ollvm.iloc[:,1:-1].to_numpy(), test_ollvm.iloc[:,-1].to_numpy()\n",
        "\n",
        "# train+ollvm\n",
        "x_train_ollvm_all = np.concatenate((x_train[0:int(size/2),:],x_train_ollvm[0:int(size/2),:]))\n",
        "y_train_ollvm_all = np.concatenate((y_train[0:int(size/2)],y_train_ollvm[0:int(size/2)]))"
      ]
    },
    {
      "cell_type": "markdown",
      "metadata": {},
      "source": [
        "Using OLLVM only in the testing phase"
      ]
    },
    {
      "cell_type": "code",
      "execution_count": 7,
      "metadata": {
        "colab": {
          "base_uri": "https://localhost:8080/"
        },
        "id": "QiX4WJzOe0KX",
        "outputId": "f0a29794-b2a7-4b78-d0a6-13166f160e83"
      },
      "outputs": [
        {
          "name": "stdout",
          "output_type": "stream",
          "text": [
            "model, accuracy, precision, recall, fscore, time (s)\n",
            "KNN, 0.0320, 0.0972, 0.0336, 0.0219, 0.0071\n",
            "Random Forest, 0.1544, 0.2712, 0.1556, 0.1169, 2.8186\n",
            "SVM, 0.0211, 0.0563, 0.0214, 0.0138, 841.6456\n",
            "SGD, 0.0294, 0.0967, 0.0308, 0.0172, 18.3199\n",
            "MLP, 0.0201, 0.0369, 0.0195, 0.0104, 408.6895\n",
            "Regressão Logística, 0.0267, 0.0712, 0.0266, 0.0166, 42.8034\n"
          ]
        }
      ],
      "source": [
        "print(\"model, accuracy, precision, recall, fscore, time (s)\")\n",
        "# KNN\n",
        "model_knn(x_train, y_train, x_test_ollvm, y_test_ollvm)\n",
        "# Random Forest\n",
        "model_rf(x_train, y_train, x_test_ollvm, y_test_ollvm)\n",
        "# SVM\n",
        "model_svm(x_train, y_train, x_test_ollvm, y_test_ollvm)\n",
        "# Stochastic Gradient Descent\n",
        "model_SGD(x_train, y_train, x_test_ollvm, y_test_ollvm)\n",
        "# Multi-layer Perceptron\n",
        "model_MLP(x_train, y_train, x_test_ollvm, y_test_ollvm)\n",
        "# Regressão Logística\n",
        "model_regRegression(x_train, y_train, x_test_ollvm, y_test_ollvm)"
      ]
    },
    {
      "cell_type": "markdown",
      "metadata": {
        "id": "czlgZrO9YEdd"
      },
      "source": [
        "Using OLLVM in the testing and training phase"
      ]
    },
    {
      "cell_type": "code",
      "execution_count": 8,
      "metadata": {
        "colab": {
          "base_uri": "https://localhost:8080/"
        },
        "id": "DtIRLdRegX4I",
        "outputId": "64791346-4693-4774-da53-d72811e17114"
      },
      "outputs": [
        {
          "name": "stdout",
          "output_type": "stream",
          "text": [
            "model, accuracy, precision, recall, fscore, time (s)\n",
            "KNN, 0.2234, 0.2576, 0.2237, 0.2253, 0.0065\n",
            "Random Forest, 0.5536, 0.5481, 0.5552, 0.5448, 5.4987\n",
            "SVM, 0.1855, 0.3418, 0.1850, 0.1704, 1261.6316\n",
            "SGD, 0.1667, 0.3116, 0.1660, 0.1517, 28.7273\n",
            "MLP, 0.3998, 0.3902, 0.4032, 0.3856, 414.2007\n",
            "Regressão Logística, 0.3004, 0.2886, 0.3017, 0.2827, 59.6846\n"
          ]
        }
      ],
      "source": [
        "print(\"model, accuracy, precision, recall, fscore, time (s)\")\n",
        "# KNN\n",
        "model_knn(x_train_ollvm_all, y_train_ollvm_all, x_test_ollvm, y_test_ollvm)\n",
        "# Random Forest\n",
        "model_rf(x_train_ollvm_all, y_train_ollvm_all, x_test_ollvm, y_test_ollvm)\n",
        "# SVM\n",
        "model_svm(x_train_ollvm_all, y_train_ollvm_all, x_test_ollvm, y_test_ollvm)\n",
        "# Stochastic Gradient Descent\n",
        "model_SGD(x_train_ollvm_all, y_train_ollvm_all, x_test_ollvm, y_test_ollvm)\n",
        "# Multi-layer Perceptron\n",
        "model_MLP(x_train_ollvm_all, y_train_ollvm_all, x_test_ollvm, y_test_ollvm)\n",
        "# Regressão Logística\n",
        "model_regRegression(x_train_ollvm_all, y_train_ollvm_all, x_test_ollvm, y_test_ollvm)"
      ]
    },
    {
      "cell_type": "markdown",
      "metadata": {},
      "source": [
        "##### **OLLVM Flattening (-fla)**\n",
        "\n"
      ]
    },
    {
      "cell_type": "code",
      "execution_count": 9,
      "metadata": {},
      "outputs": [],
      "source": [
        "# ollvm fla\n",
        "x_train_ollvm_fla, y_train_ollvm_fla = train_ollvm_fla.iloc[:,0:-1].to_numpy(), train_ollvm_fla.iloc[:,-1].to_numpy()\n",
        "x_test_ollvm_fla, y_test_ollvm_fla = test_ollvm_fla.iloc[:,0:-1].to_numpy(), test_ollvm_fla.iloc[:,-1].to_numpy() \n",
        "# train+fla\n",
        "x_train_ollvm_fla_all = np.concatenate((x_train[0:int(size/2),:],x_train_ollvm_fla[0:int(size/2),:]))\n",
        "y_train_ollvm_fla_all = np.concatenate((y_train[0:int(size/2)],y_train_ollvm_fla[0:int(size/2)]))"
      ]
    },
    {
      "cell_type": "markdown",
      "metadata": {},
      "source": [
        "Using OLLVM `-fla` only in the testing phase"
      ]
    },
    {
      "cell_type": "code",
      "execution_count": 10,
      "metadata": {
        "colab": {
          "base_uri": "https://localhost:8080/"
        },
        "id": "-hBYMk1zoaY1",
        "outputId": "07d1247e-9788-43fa-8578-7f687e502b42"
      },
      "outputs": [
        {
          "name": "stdout",
          "output_type": "stream",
          "text": [
            "model, accuracy, precision, recall, fscore, time (s)\n",
            "KNN, 0.1624, 0.2857, 0.1632, 0.1593, 0.0052\n",
            "Random Forest, 0.8402, 0.8709, 0.8428, 0.8461, 3.5051\n",
            "SVM, 0.0706, 0.1591, 0.0712, 0.0581, 536.9073\n",
            "SGD, 0.1896, 0.3296, 0.1877, 0.1693, 16.3115\n",
            "MLP, 0.0849, 0.1324, 0.0838, 0.0711, 404.6331\n",
            "Regressão Logística, 0.1742, 0.2860, 0.1726, 0.1368, 49.7755\n"
          ]
        }
      ],
      "source": [
        "print(\"model, accuracy, precision, recall, fscore, time (s)\")\n",
        "# KNN\n",
        "model_knn(x_train, y_train, x_test_ollvm_fla, y_test_ollvm_fla)\n",
        "# Random Forest\n",
        "model_rf(x_train, y_train, x_test_ollvm_fla, y_test_ollvm_fla)\n",
        "# SVM\n",
        "model_svm(x_train, y_train, x_test_ollvm_fla, y_test_ollvm_fla)\n",
        "# Stochastic Gradient Descent\n",
        "model_SGD(x_train, y_train, x_test_ollvm_fla, y_test_ollvm_fla)\n",
        "# Multi-layer Perceptron\n",
        "model_MLP(x_train, y_train, x_test_ollvm_fla, y_test_ollvm_fla)\n",
        "# Regressão Logística\n",
        "model_regRegression(x_train, y_train, x_test_ollvm_fla, y_test_ollvm_fla)"
      ]
    },
    {
      "cell_type": "markdown",
      "metadata": {
        "id": "2Rp2bNSVZGPS"
      },
      "source": [
        "Using OLLVM `-fla` in the testing and training phase"
      ]
    },
    {
      "cell_type": "code",
      "execution_count": 11,
      "metadata": {
        "colab": {
          "base_uri": "https://localhost:8080/"
        },
        "id": "pChngPZIon6y",
        "outputId": "40d7418e-3613-47d8-d481-f6c4e6987887"
      },
      "outputs": [
        {
          "name": "stdout",
          "output_type": "stream",
          "text": [
            "model, accuracy, precision, recall, fscore, time (s)\n",
            "KNN, 0.5710, 0.5933, 0.5736, 0.5660, 0.0067\n",
            "Random Forest, 0.8221, 0.8229, 0.8245, 0.8210, 3.3738\n",
            "SVM, 0.2874, 0.5072, 0.2879, 0.2882, 610.7839\n",
            "SGD, 0.3167, 0.4256, 0.3166, 0.2827, 20.4140\n",
            "MLP, 0.4375, 0.4334, 0.4377, 0.4169, 429.1061\n",
            "Regressão Logística, 0.5491, 0.5398, 0.5521, 0.5358, 45.4069\n"
          ]
        }
      ],
      "source": [
        "print(\"model, accuracy, precision, recall, fscore, time (s)\")\n",
        "# KNN\n",
        "model_knn(x_train_ollvm_fla_all, y_train_ollvm_fla_all, x_test_ollvm_fla, y_test_ollvm_fla)\n",
        "# Random Forest\n",
        "model_rf(x_train_ollvm_fla_all, y_train_ollvm_fla_all, x_test_ollvm_fla, y_test_ollvm_fla)\n",
        "# SVM\n",
        "model_svm(x_train_ollvm_fla_all, y_train_ollvm_fla_all, x_test_ollvm_fla, y_test_ollvm_fla)\n",
        "# Stochastic Gradient Descent\n",
        "model_SGD(x_train_ollvm_fla_all, y_train_ollvm_fla_all, x_test_ollvm_fla, y_test_ollvm_fla)\n",
        "# Multi-layer Perceptron\n",
        "model_MLP(x_train_ollvm_fla_all, y_train_ollvm_fla_all, x_test_ollvm_fla, y_test_ollvm_fla)\n",
        "# Regressão Logística\n",
        "model_regRegression(x_train_ollvm_fla_all, y_train_ollvm_fla_all, x_test_ollvm_fla, y_test_ollvm_fla)"
      ]
    },
    {
      "cell_type": "markdown",
      "metadata": {
        "id": "VwfQZvJ0bnoX"
      },
      "source": [
        "##### **OLLVM Instruction Substitution (-sub)**\n",
        "\n"
      ]
    },
    {
      "cell_type": "code",
      "execution_count": 12,
      "metadata": {},
      "outputs": [],
      "source": [
        "# ollvm sub\n",
        "x_train_ollvm_sub, y_train_ollvm_sub = train_ollvm_sub.iloc[:,0:-1].to_numpy(), train_ollvm_sub.iloc[:,-1].to_numpy()\n",
        "x_test_ollvm_sub, y_test_ollvm_sub = test_ollvm_sub.iloc[:,0:-1].to_numpy(), test_ollvm_sub.iloc[:,-1].to_numpy()\n",
        "# train+sub\n",
        "x_train_ollvm_sub_all = np.concatenate((x_train[0:int(size/2),:],x_train_ollvm_sub[0:int(size/2),:]))\n",
        "y_train_ollvm_sub_all = np.concatenate((y_train[0:int(size/2)],y_train_ollvm_sub[0:int(size/2)]))"
      ]
    },
    {
      "cell_type": "markdown",
      "metadata": {},
      "source": [
        "Using OLLVM `-sub` only in the testing phase"
      ]
    },
    {
      "cell_type": "code",
      "execution_count": 13,
      "metadata": {
        "colab": {
          "base_uri": "https://localhost:8080/"
        },
        "id": "CNGQSBaXo2q6",
        "outputId": "04696228-2ad5-476c-b3e1-795b51ab573a"
      },
      "outputs": [
        {
          "name": "stdout",
          "output_type": "stream",
          "text": [
            "model, accuracy, precision, recall, fscore, time (s)\n",
            "KNN, 0.2736, 0.4427, 0.2760, 0.2923, 0.0056\n",
            "Random Forest, 0.7653, 0.8248, 0.7676, 0.7642, 3.8532\n",
            "SVM, 0.1782, 0.3224, 0.1822, 0.1572, 597.9117\n",
            "SGD, 0.1678, 0.3211, 0.1723, 0.1598, 17.3683\n",
            "MLP, 0.1914, 0.2255, 0.1929, 0.1785, 332.2771\n",
            "Regressão Logística, 0.1237, 0.2823, 0.1266, 0.1330, 44.7855\n"
          ]
        }
      ],
      "source": [
        "print(\"model, accuracy, precision, recall, fscore, time (s)\")\n",
        "# KNN\n",
        "model_knn(x_train, y_train, x_test_ollvm_sub, y_test_ollvm_sub)\n",
        "# Random Forest\n",
        "thaisRF = model_rf(x_train, y_train, x_test_ollvm_sub, y_test_ollvm_sub)\n",
        "# SVM\n",
        "model_svm(x_train, y_train, x_test_ollvm_sub, y_test_ollvm_sub)\n",
        "# Stochastic Gradient Descent\n",
        "model_SGD(x_train, y_train, x_test_ollvm_sub, y_test_ollvm_sub)\n",
        "# Multi-layer Perceptron\n",
        "model_MLP(x_train, y_train, x_test_ollvm_sub, y_test_ollvm_sub)\n",
        "# Regressão Logística\n",
        "model_regRegression(x_train, y_train, x_test_ollvm_sub, y_test_ollvm_sub)"
      ]
    },
    {
      "cell_type": "markdown",
      "metadata": {
        "id": "gK7iIde8b8D0"
      },
      "source": [
        "Using OLLVM `-sub` in the testing and training phase"
      ]
    },
    {
      "cell_type": "code",
      "execution_count": 14,
      "metadata": {
        "colab": {
          "base_uri": "https://localhost:8080/"
        },
        "id": "Kow3TFacpD8F",
        "outputId": "6efd5b8e-6f5e-4dd6-b80f-28ed652f1270"
      },
      "outputs": [
        {
          "name": "stdout",
          "output_type": "stream",
          "text": [
            "model, accuracy, precision, recall, fscore, time (s)\n",
            "KNN, 0.5488, 0.5702, 0.5483, 0.5438, 0.0044\n",
            "Random Forest, 0.8457, 0.8465, 0.8453, 0.8440, 3.4838\n",
            "SVM, 0.2338, 0.4988, 0.2354, 0.2494, 544.1370\n",
            "SGD, 0.2769, 0.4302, 0.2740, 0.2726, 17.7742\n",
            "MLP, 0.5158, 0.5126, 0.5155, 0.5036, 390.0472\n",
            "Regressão Logística, 0.5205, 0.5164, 0.5209, 0.5085, 41.1766\n"
          ]
        }
      ],
      "source": [
        "print(\"model, accuracy, precision, recall, fscore, time (s)\")\n",
        "# KNN\n",
        "model_knn(x_train_ollvm_sub_all, y_train_ollvm_sub_all, x_test_ollvm_sub, y_test_ollvm_sub)\n",
        "# Random Forest\n",
        "model_rf(x_train_ollvm_sub_all, y_train_ollvm_sub_all, x_test_ollvm_sub, y_test_ollvm_sub)\n",
        "# SVM\n",
        "model_svm(x_train_ollvm_sub_all, y_train_ollvm_sub_all, x_test_ollvm_sub, y_test_ollvm_sub)\n",
        "# Stochastic Gradient Descent\n",
        "model_SGD(x_train_ollvm_sub_all, y_train_ollvm_sub_all, x_test_ollvm_sub, y_test_ollvm_sub)\n",
        "# Multi-layer Perceptron\n",
        "model_MLP(x_train_ollvm_sub_all, y_train_ollvm_sub_all, x_test_ollvm_sub, y_test_ollvm_sub)\n",
        "# Regressão Logística\n",
        "model_regRegression(x_train_ollvm_sub_all, y_train_ollvm_sub_all, x_test_ollvm_sub, y_test_ollvm_sub)"
      ]
    },
    {
      "cell_type": "markdown",
      "metadata": {
        "id": "LhMzGBx4c321"
      },
      "source": [
        "##### **OLLVM Bogus Control Flow (-bcf)**\n"
      ]
    },
    {
      "cell_type": "code",
      "execution_count": 15,
      "metadata": {},
      "outputs": [],
      "source": [
        "# ollvm bcf\n",
        "x_train_ollvm_bcf, y_train_ollvm_bcf = train_ollvm_bcf.iloc[:,0:-1].to_numpy(), train_ollvm_bcf.iloc[:,-1].to_numpy()\n",
        "x_test_ollvm_bcf, y_test_ollvm_bcf = test_ollvm_bcf.iloc[:,0:-1].to_numpy(), test_ollvm_bcf.iloc[:,-1].to_numpy() \n",
        "#train+bcf\n",
        "x_train_ollvm_bcf_all = np.concatenate((x_train[0:int(size/2),:],x_train_ollvm_bcf[0:int(size/2),:]))\n",
        "y_train_ollvm_bcf_all = np.concatenate((y_train[0:int(size/2)],y_train_ollvm_bcf[0:int(size/2)]))"
      ]
    },
    {
      "cell_type": "markdown",
      "metadata": {},
      "source": [
        "Using OLLVM `-bcf` only in the testing phase"
      ]
    },
    {
      "cell_type": "code",
      "execution_count": 16,
      "metadata": {
        "colab": {
          "base_uri": "https://localhost:8080/"
        },
        "id": "sbohdUqhpV5J",
        "outputId": "b63a48bd-391f-4f2c-d188-1896737813f7"
      },
      "outputs": [
        {
          "name": "stdout",
          "output_type": "stream",
          "text": [
            "model, accuracy, precision, recall, fscore, time (s)\n",
            "KNN, 0.0732, 0.2242, 0.0748, 0.0679, 0.0055\n",
            "Random Forest, 0.2303, 0.3627, 0.2358, 0.2059, 3.3511\n",
            "SVM, 0.0461, 0.1267, 0.0453, 0.0298, 482.8144\n",
            "SGD, 0.0652, 0.1984, 0.0676, 0.0478, 17.4223\n",
            "MLP, 0.0776, 0.0921, 0.0787, 0.0535, 379.9012\n",
            "Regressão Logística, 0.0679, 0.1500, 0.0679, 0.0486, 58.5566\n"
          ]
        }
      ],
      "source": [
        "print(\"model, accuracy, precision, recall, fscore, time (s)\")\n",
        "# KNN\n",
        "model_knn(x_train, y_train, x_test_ollvm_bcf, y_test_ollvm_bcf)\n",
        "# Random Forest\n",
        "model_rf(x_train, y_train, x_test_ollvm_bcf, y_test_ollvm_bcf)\n",
        "# SVM\n",
        "model_svm(x_train, y_train, x_test_ollvm_bcf, y_test_ollvm_bcf)\n",
        "# Stochastic Gradient Descent\n",
        "model_SGD(x_train, y_train, x_test_ollvm_bcf, y_test_ollvm_bcf)\n",
        "# Multi-layer Perceptron\n",
        "model_MLP(x_train, y_train, x_test_ollvm_bcf, y_test_ollvm_bcf)\n",
        "# Regressão Logística\n",
        "model_regRegression(x_train, y_train, x_test_ollvm_bcf, y_test_ollvm_bcf)"
      ]
    },
    {
      "cell_type": "markdown",
      "metadata": {
        "id": "CzPImkYjdQKL"
      },
      "source": [
        "Using OLLVM `-bcf` in the testing and training phase"
      ]
    },
    {
      "cell_type": "code",
      "execution_count": 17,
      "metadata": {
        "colab": {
          "base_uri": "https://localhost:8080/"
        },
        "id": "E6FlEZk0pf5r",
        "outputId": "b0d35205-a775-4f7e-eacc-beea51a23c90"
      },
      "outputs": [
        {
          "name": "stdout",
          "output_type": "stream",
          "text": [
            "model, accuracy, precision, recall, fscore, time (s)\n",
            "KNN, 0.3556, 0.3819, 0.3577, 0.3527, 0.0052\n",
            "Random Forest, 0.5873, 0.5836, 0.5888, 0.5800, 4.2110\n",
            "SVM, 0.1018, 0.2715, 0.1028, 0.1109, 605.8398\n",
            "SGD, 0.1474, 0.3370, 0.1492, 0.1638, 18.5848\n",
            "MLP, 0.4445, 0.4532, 0.4480, 0.4328, 431.1286\n",
            "Regressão Logística, 0.4262, 0.4219, 0.4283, 0.4122, 48.5192\n"
          ]
        }
      ],
      "source": [
        "print(\"model, accuracy, precision, recall, fscore, time (s)\")\n",
        "# KNN\n",
        "model_knn(x_train_ollvm_bcf_all, y_train_ollvm_bcf_all, x_test_ollvm_bcf, y_test_ollvm_bcf)\n",
        "# Random Forest\n",
        "model_rf(x_train_ollvm_bcf_all, y_train_ollvm_bcf_all, x_test_ollvm_bcf, y_test_ollvm_bcf)\n",
        "# SVM\n",
        "model_svm(x_train_ollvm_bcf_all, y_train_ollvm_bcf_all, x_test_ollvm_bcf, y_test_ollvm_bcf)\n",
        "# Stochastic Gradient Descent\n",
        "model_SGD(x_train_ollvm_bcf_all, y_train_ollvm_bcf_all, x_test_ollvm_bcf, y_test_ollvm_bcf)\n",
        "# Multi-layer Perceptron\n",
        "model_MLP(x_train_ollvm_bcf_all, y_train_ollvm_bcf_all, x_test_ollvm_bcf, y_test_ollvm_bcf)\n",
        "# Regressão Logística\n",
        "model_regRegression(x_train_ollvm_bcf_all, y_train_ollvm_bcf_all, x_test_ollvm_bcf, y_test_ollvm_bcf)"
      ]
    }
  ],
  "metadata": {
    "accelerator": "GPU",
    "colab": {
      "collapsed_sections": [
        "ng9natt-O0QO"
      ],
      "name": "MethodsSkLearnObfuscationPOJ104Classes.ipynb",
      "provenance": []
    },
    "kernelspec": {
      "display_name": "Python 3",
      "name": "python3"
    },
    "language_info": {
      "codemirror_mode": {
        "name": "ipython",
        "version": 3
      },
      "file_extension": ".py",
      "mimetype": "text/x-python",
      "name": "python",
      "nbconvert_exporter": "python",
      "pygments_lexer": "ipython3",
      "version": "3.8.10"
    }
  },
  "nbformat": 4,
  "nbformat_minor": 0
}
