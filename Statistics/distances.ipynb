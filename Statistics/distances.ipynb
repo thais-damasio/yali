{
 "cells": [
  {
   "cell_type": "markdown",
   "metadata": {},
   "source": [
    "## Distances Between Histograms of Programs (POJ 104)\n",
    "---"
   ]
  },
  {
   "cell_type": "markdown",
   "metadata": {},
   "source": [
    "### Installing the libraries"
   ]
  },
  {
   "cell_type": "code",
   "execution_count": 2,
   "metadata": {},
   "outputs": [
    {
     "name": "stdout",
     "output_type": "stream",
     "text": [
      "Collecting matplotlib\n",
      "  Downloading matplotlib-3.5.2-cp38-cp38-manylinux_2_5_x86_64.manylinux1_x86_64.whl (11.3 MB)\n",
      "\u001b[K     |████████████████████████████████| 11.3 MB 2.4 MB/s eta 0:00:01\n",
      "\u001b[?25hCollecting kiwisolver>=1.0.1\n",
      "  Downloading kiwisolver-1.4.3-cp38-cp38-manylinux_2_5_x86_64.manylinux1_x86_64.whl (1.2 MB)\n",
      "\u001b[K     |████████████████████████████████| 1.2 MB 5.5 MB/s eta 0:00:01\n",
      "\u001b[?25hCollecting cycler>=0.10\n",
      "  Using cached cycler-0.11.0-py3-none-any.whl (6.4 kB)\n",
      "Collecting numpy>=1.17\n",
      "  Downloading numpy-1.23.1-cp38-cp38-manylinux_2_17_x86_64.manylinux2014_x86_64.whl (17.1 MB)\n",
      "\u001b[K     |████████████████████████████████| 17.1 MB 6.5 MB/s eta 0:00:01\n",
      "\u001b[?25hRequirement already satisfied: packaging>=20.0 in /home/thais/Documents/Master/DL/Obfuscation/.venv/lib/python3.8/site-packages (from matplotlib) (21.3)\n",
      "Requirement already satisfied: pyparsing>=2.2.1 in /home/thais/Documents/Master/DL/Obfuscation/.venv/lib/python3.8/site-packages (from matplotlib) (3.0.9)\n",
      "Collecting pillow>=6.2.0\n",
      "  Downloading Pillow-9.2.0-cp38-cp38-manylinux_2_17_x86_64.manylinux2014_x86_64.whl (3.1 MB)\n",
      "\u001b[K     |████████████████████████████████| 3.1 MB 6.4 MB/s eta 0:00:01\n",
      "\u001b[?25hCollecting fonttools>=4.22.0\n",
      "  Downloading fonttools-4.34.4-py3-none-any.whl (944 kB)\n",
      "\u001b[K     |████████████████████████████████| 944 kB 6.4 MB/s eta 0:00:01\n",
      "\u001b[?25hRequirement already satisfied: python-dateutil>=2.7 in /home/thais/Documents/Master/DL/Obfuscation/.venv/lib/python3.8/site-packages (from matplotlib) (2.8.2)\n",
      "Requirement already satisfied: six>=1.5 in /home/thais/Documents/Master/DL/Obfuscation/.venv/lib/python3.8/site-packages (from python-dateutil>=2.7->matplotlib) (1.16.0)\n",
      "Installing collected packages: kiwisolver, cycler, numpy, pillow, fonttools, matplotlib\n",
      "Successfully installed cycler-0.11.0 fonttools-4.34.4 kiwisolver-1.4.3 matplotlib-3.5.2 numpy-1.23.1 pillow-9.2.0\n",
      "Note: you may need to restart the kernel to use updated packages.\n",
      "Collecting pandas\n",
      "  Downloading pandas-1.4.3-cp38-cp38-manylinux_2_17_x86_64.manylinux2014_x86_64.whl (11.7 MB)\n",
      "\u001b[K     |████████████████████████████████| 11.7 MB 291 kB/s eta 0:00:01\n",
      "\u001b[?25hCollecting pytz>=2020.1\n",
      "  Using cached pytz-2022.1-py2.py3-none-any.whl (503 kB)\n",
      "Requirement already satisfied: python-dateutil>=2.8.1 in /home/thais/Documents/Master/DL/Obfuscation/.venv/lib/python3.8/site-packages (from pandas) (2.8.2)\n",
      "Requirement already satisfied: numpy>=1.18.5; platform_machine != \"aarch64\" and platform_machine != \"arm64\" and python_version < \"3.10\" in /home/thais/Documents/Master/DL/Obfuscation/.venv/lib/python3.8/site-packages (from pandas) (1.23.1)\n",
      "Requirement already satisfied: six>=1.5 in /home/thais/Documents/Master/DL/Obfuscation/.venv/lib/python3.8/site-packages (from python-dateutil>=2.8.1->pandas) (1.16.0)\n",
      "Installing collected packages: pytz, pandas\n",
      "Successfully installed pandas-1.4.3 pytz-2022.1\n",
      "Note: you may need to restart the kernel to use updated packages.\n",
      "Requirement already satisfied: numpy in /home/thais/Documents/Master/DL/Obfuscation/.venv/lib/python3.8/site-packages (1.23.1)\n",
      "Note: you may need to restart the kernel to use updated packages.\n"
     ]
    }
   ],
   "source": [
    "%pip install matplotlib\n",
    "%pip install pandas\n",
    "%pip install numpy"
   ]
  },
  {
   "cell_type": "markdown",
   "metadata": {},
   "source": [
    "### Loading the libraries"
   ]
  },
  {
   "cell_type": "code",
   "execution_count": 3,
   "metadata": {},
   "outputs": [],
   "source": [
    "from IPython.display import display\n",
    "import matplotlib.pyplot as plt\n",
    "import pandas as pd\n",
    "import numpy as np"
   ]
  },
  {
   "cell_type": "markdown",
   "metadata": {},
   "source": [
    "### Loading the datasets"
   ]
  },
  {
   "cell_type": "markdown",
   "metadata": {},
   "source": [
    "Name of Datasets"
   ]
  },
  {
   "cell_type": "code",
   "execution_count": 2,
   "metadata": {},
   "outputs": [],
   "source": [
    "RESULTSFOLDER=\"../Volume/Csv/\"\n",
    "\n",
    "cloneGenStrategies = [\"DRLSG\", \"GA\", \"MCMC\", \"OJClone\", \"RS\"]\n",
    "cloneGenDataset = {}\n",
    "\n",
    "ollvmStrategies = [\"OLLVM\", \"BCF\", \"FLA\", \"SUB\"]\n",
    "ollvmDataset = {}"
   ]
  },
  {
   "cell_type": "markdown",
   "metadata": {},
   "source": [
    "Loading"
   ]
  },
  {
   "cell_type": "code",
   "execution_count": null,
   "metadata": {},
   "outputs": [],
   "source": [
    "for name in cloneGenStrategies:\n",
    "    cloneGenStrategies[name] = pd.read_csv(f\"{RESULTSFOLDER}/features_{name}.csv\", skipinitialspace=True)\n",
    "    cloneGenStrategies[name].set_index('id')\n",
    "\n",
    "for name in ollvmStrategies:\n",
    "    ollvmStrategies[name] = pd.read_csv(f\"{RESULTSFOLDER}/features_{name}.csv\", skipinitialspace=True)\n",
    "    ollvmStrategies[name].set_index('id')\n",
    "\n",
    "o3 = pd.read_csv(f\"{RESULTSFOLDER}/features_O3.csv\", skipinitialspace=True)\n",
    "o3 = o3.set_index('id')\n",
    "\n",
    "o0 = pd.read_csv(f\"{RESULTSFOLDER}/features_O0.csv\", skipinitialspace=True)\n",
    "o0 = o0.set_index('id')"
   ]
  },
  {
   "cell_type": "markdown",
   "metadata": {},
   "source": [
    "### Datasets Normalization"
   ]
  },
  {
   "cell_type": "markdown",
   "metadata": {},
   "source": [
    "##### Definitions"
   ]
  },
  {
   "cell_type": "code",
   "execution_count": 3,
   "metadata": {},
   "outputs": [],
   "source": [
    "# Min-Max\n",
    "def normMinMax(df):\n",
    "    cout = 0\n",
    "    for column in df.columns:\n",
    "        if not (df[column].max() == 0 and df[column].min() == 0):\n",
    "            dif = df[column].max() - df[column].min()\n",
    "            df[column] = (df[column] - df[column].min())/dif\n",
    "        print(f\"Column {cout} calculated\", end='\\r')\n",
    "        cout += 1\n",
    "    return df\n",
    "\n",
    "# Z-score \n",
    "def stnd(df):\n",
    "    cout = 0\n",
    "    for column in df.columns:\n",
    "        if not (df[column].max() == 0 and df[column].min() == 0):\n",
    "            mean = df[column].mean()\n",
    "            df[column] = (df[column] - mean)/df[column].std()\n",
    "        print(f\"Column {cout} calculated\", end='\\r')\n",
    "        cout += 1\n",
    "    return df\n",
    "\n",
    "# Percentual\n",
    "def perc(df):\n",
    "    cout = 0\n",
    "    for column in df.columns:\n",
    "        s = df[column].sum()\n",
    "        if not (s == 0):\n",
    "            df[column] = (df[column]/s)\n",
    "        print(f\"Column {cout} calculated\", end='\\r')\n",
    "        cout += 1\n",
    "    return df"
   ]
  },
  {
   "cell_type": "code",
   "execution_count": null,
   "metadata": {},
   "outputs": [],
   "source": [
    "def normalization(name, df, funcNorm):\n",
    "    print(f\"Dataset: {name}\")\n",
    "    df = df.T\n",
    "    dfc = df.loc['class']\n",
    "    df = df.drop(['class'])\n",
    "\n",
    "    df = funcNorm(df)\n",
    "    df = df.concat(dfc)\n",
    "    df = df.T\n",
    "    return df"
   ]
  },
  {
   "cell_type": "markdown",
   "metadata": {},
   "source": [
    "##### Normalization"
   ]
  },
  {
   "cell_type": "code",
   "execution_count": 4,
   "metadata": {},
   "outputs": [
    {
     "name": "stdout",
     "output_type": "stream",
     "text": [
      "Column 51663 calculated\r"
     ]
    },
    {
     "name": "stderr",
     "output_type": "stream",
     "text": [
      "/tmp/ipykernel_268606/979317883.py:6: FutureWarning: The frame.append method is deprecated and will be removed from pandas in a future version. Use pandas.concat instead.\n",
      "  o3 = o3.append(o3c)\n"
     ]
    }
   ],
   "source": [
    "o3 = normalization(o3, perc)"
   ]
  },
  {
   "cell_type": "code",
   "execution_count": 5,
   "metadata": {},
   "outputs": [
    {
     "name": "stdout",
     "output_type": "stream",
     "text": [
      "Column 51984 calculated\r"
     ]
    },
    {
     "name": "stderr",
     "output_type": "stream",
     "text": [
      "/tmp/ipykernel_268606/3199222233.py:6: FutureWarning: The frame.append method is deprecated and will be removed from pandas in a future version. Use pandas.concat instead.\n",
      "  o0 = o0.append(o0c)\n"
     ]
    }
   ],
   "source": [
    "o0 = normalization(o0, perc)"
   ]
  },
  {
   "cell_type": "code",
   "execution_count": 6,
   "metadata": {},
   "outputs": [
    {
     "name": "stdout",
     "output_type": "stream",
     "text": [
      "Column 51960 calculated\r"
     ]
    },
    {
     "name": "stderr",
     "output_type": "stream",
     "text": [
      "/tmp/ipykernel_268606/4026107826.py:6: FutureWarning: The frame.append method is deprecated and will be removed from pandas in a future version. Use pandas.concat instead.\n",
      "  ollvm = ollvm.append(ollvmc)\n"
     ]
    }
   ],
   "source": [
    "for name in ollvmStrategies:\n",
    "   ollvmDataset[name] =  normalization(ollvmDataset[name], perc)"
   ]
  },
  {
   "cell_type": "code",
   "execution_count": null,
   "metadata": {},
   "outputs": [],
   "source": [
    "for name in cloneGenStrategies:\n",
    "    cloneGenStrategies[name] = normalization(cloneGenDataset[name], perc)"
   ]
  },
  {
   "cell_type": "markdown",
   "metadata": {},
   "source": [
    "### Collecting the distances between the programs of all classes\n",
    "For instance, `o3Distances` is the distance between optimized and original programs.\n",
    "`ollvmDistances` is the distance between obfuscated and original programs."
   ]
  },
  {
   "cell_type": "markdown",
   "metadata": {},
   "source": [
    "##### Functions"
   ]
  },
  {
   "cell_type": "code",
   "execution_count": 7,
   "metadata": {},
   "outputs": [
    {
     "name": "stdout",
     "output_type": "stream",
     "text": [
      "The index 51984 was successfully calculated\r"
     ]
    }
   ],
   "source": [
    "distances= {}\n",
    "\n",
    "def getDistances(name, dataset):\n",
    "    print(f\"Dataset: {name}\")\n",
    "    i = 0\n",
    "    for _, row in o0.loc[:, o0.columns != 'class'].iterrows():\n",
    "        id = row.name\n",
    "        original = row.to_numpy()\n",
    "\n",
    "        if id in dataset.index:\n",
    "            temp = dataset.loc[:, dataset.columns != 'class'].loc[id]\n",
    "            otimized = temp.to_numpy()\n",
    "            dist = np.linalg.norm(original - otimized)\n",
    "            if not distances[name]:\n",
    "                distances[name] = np.zeros(o0.shape[0])\n",
    "            distances[name][i] = dist\n",
    "\n",
    "        print(\"The index {} was successfully calculated\".format(i), end='\\r')\n",
    "        i += 1\n",
    "\n",
    "def getDistances(dataset):\n",
    "    for name in dataset:\n",
    "        print(f\"Dataset: {name}\")\n",
    "        i = 0\n",
    "        for _, row in o0.loc[:, o0.columns != 'class'].iterrows():\n",
    "            id = row.name\n",
    "            original = row.to_numpy()\n",
    "\n",
    "            if id in dataset[name].index:\n",
    "                temp = dataset[name].loc[:, dataset[name].columns != 'class'].loc[id]\n",
    "                otimized = temp.to_numpy()\n",
    "                dist = np.linalg.norm(original - otimized)\n",
    "                if not distances[name]:\n",
    "                    distances[name] = np.zeros(o0.shape[0])\n",
    "                distances[name][i] = dist\n",
    "\n",
    "            print(\"The index {} was successfully calculated\".format(i), end='\\r')\n",
    "            i += 1"
   ]
  },
  {
   "cell_type": "markdown",
   "metadata": {},
   "source": [
    "##### Distances"
   ]
  },
  {
   "cell_type": "code",
   "execution_count": null,
   "metadata": {},
   "outputs": [],
   "source": [
    "getDistances(\"O0\", o0)\n",
    "getDistances(\"O3\", o0)\n",
    "getDistances(ollvmDataset)\n",
    "getDistances(cloneGenDataset)"
   ]
  },
  {
   "cell_type": "code",
   "execution_count": 8,
   "metadata": {},
   "outputs": [
    {
     "name": "stdout",
     "output_type": "stream",
     "text": [
      "Sum of distances between the O3 programs to original programs: 15068.26545711683\n",
      "Sum of distances between the OLLVM programs to original programs: 14134.144374899171\n"
     ]
    }
   ],
   "source": [
    "for key in distances:\n",
    "    print(\"Sum of distances between the {} programs to original programs: {}\".format(key, sum(distances[key])))"
   ]
  },
  {
   "cell_type": "code",
   "execution_count": 69,
   "metadata": {},
   "outputs": [
    {
     "data": {
      "image/png": "[encoded data removed]",
      "text/plain": [
       "<Figure size 1080x360 with 1 Axes>"
      ]
     },
     "metadata": {
      "needs_background": "light"
     },
     "output_type": "display_data"
    }
   ],
   "source": [
    "fig, ax = plt.subplots(1, 1, figsize=(15,5))\n",
    "\n",
    "fig.suptitle('Distance Between Original and Obfuscated Program', fontsize=15)\n",
    "ax.boxplot(\n",
    "    [distances[key] for key in distances], \n",
    "    vert=False, \n",
    "    showfliers=True,\n",
    "    labels=(key for key in distances)\n",
    ")\n",
    "ax.set_xlabel(\"Distance\", fontsize=12)\n",
    "ax.set_xlim([0,1.2])\n",
    "\n",
    "plt.savefig('pdfs/distance.pdf')\n",
    "fig.tight_layout()"
   ]
  },
  {
   "cell_type": "code",
   "execution_count": 70,
   "metadata": {},
   "outputs": [
    {
     "name": "stdout",
     "output_type": "stream",
     "text": [
      "Number of outliers of OLLVM: 1587\n",
      "Number of outliers of O3: 1960\n"
     ]
    }
   ],
   "source": [
    "dfDistances = {}\n",
    "\n",
    "for key in distances:\n",
    "    dfDistances[key] = pd.Series(distances[key])\n",
    "\n",
    "def countOutliers(df):\n",
    "    Q1 = df.quantile(0.25)\n",
    "    Q3 = df.quantile(0.75)\n",
    "    IQR = Q3 - Q1\n",
    "\n",
    "    return ((df < (Q1 - 1.5 * IQR)) | (df > (Q3 + 1.5 * IQR)))\n",
    "\n",
    "for key in dfDistances:\n",
    "    out = countOutliers(dfDistances[key])\n",
    "    print(\"Number of outliers of OLLVM: {}\".format(out.sum()))"
   ]
  }
 ],
 "metadata": {
  "interpreter": {
   "hash": "96dc019f0d54eb616877cf65ac92ec745ac3fa17ed810a5f271af7e6776a7671"
  },
  "kernelspec": {
   "display_name": "Python 3.8.10 ('.venv': venv)",
   "language": "python",
   "name": "python3"
  },
  "language_info": {
   "codemirror_mode": {
    "name": "ipython",
    "version": 3
   },
   "file_extension": ".py",
   "mimetype": "text/x-python",
   "name": "python",
   "nbconvert_exporter": "python",
   "pygments_lexer": "ipython3",
   "version": "3.8.10"
  },
  "orig_nbformat": 4
 },
 "nbformat": 4,
 "nbformat_minor": 2
}
